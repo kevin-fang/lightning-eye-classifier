{
 "cells": [
  {
   "cell_type": "code",
   "execution_count": 1,
   "metadata": {
    "collapsed": true
   },
   "outputs": [],
   "source": [
    "from sklearn.svm import SVC\n",
    "import numpy as np\n",
    "import pandas as pd\n",
    "import pickle"
   ]
  },
  {
   "cell_type": "code",
   "execution_count": 2,
   "metadata": {
    "collapsed": true
   },
   "outputs": [],
   "source": [
    "# read names that have provided survey eye color data\n",
    "columns = ['name', 'left', 'right', 'left_desc', 'right_desc']\n",
    "# pgp eye color data from survey\n",
    "surveyData = pd.read_csv(\"PGP-eyecolor.csv\", names=columns, na_values=['nan', ''])\n",
    "# names of the pgp participants\n",
    "surveyNames = np.asarray(surveyData['name'].values.tolist()\n",
    "leftEyeColors = surveyData['left']\n",
    "rightEyeColors = surveyData['right']"
   ]
  },
  {
   "cell_type": "code",
   "execution_count": 5,
   "metadata": {
    "collapsed": true
   },
   "outputs": [],
   "source": [
    "# load numpy array of names\n",
    "pgpNames = np.load(\"names.npy\")\n",
    "# load numpy array of tiled data and delete the extra information\n",
    "pgp = np.load(\"hiq-pgp.npy\")\n",
    "for i in range(len(pgpNames)):\n",
    "    pgpNames[i] = pgpNames[i][:8]"
   ]
  },
  {
   "cell_type": "code",
   "execution_count": 7,
   "metadata": {},
   "outputs": [],
   "source": [
    "def getData(name, surveyData):\n",
    "    for index, row in surveyData.iterrows():\n",
    "        if row['name'] == name:\n",
    "            return (row['left'], row['right'])"
   ]
  },
  {
   "cell_type": "code",
   "execution_count": 8,
   "metadata": {},
   "outputs": [],
   "source": [
    "# populate name dictionaries with respective eye color data\n",
    "namePairIndices = []\n",
    "nameLeftEyeMap = {}\n",
    "nameRightEyeMap = {}\n",
    "for i in range(len(pgpNames)):\n",
    "    if pgpNames[i] in surveyNames:\n",
    "        eyeData = getData(pgpNames[i], surveyData)\n",
    "        namePairIndices.append((i, pgpNames[i]))\n",
    "        nameLeftEyeMap[pgpNames[i]] = eyeData[0]\n",
    "        nameRightEyeMap[pgpNames[i]] = eyeData[1]\n",
    "\n",
    "# create lists containing the known eye color names and the unknown ones.\n",
    "nameIndices = [nameIndex[0] for nameIndex in namePairIndices]\n",
    "knownData = pgp[nameIndices]\n",
    "unknownData = np.delete(pgp, nameIndices, axis=0)"
   ]
  },
  {
   "cell_type": "code",
   "execution_count": 9,
   "metadata": {
    "collapsed": true
   },
   "outputs": [],
   "source": [
    "# convert dictionaries to lists using knownData\n",
    "leftEyeNameList = []\n",
    "rightEyeNameList = []\n",
    "\n",
    "knownDataNames = [nameIndices]\n",
    "for nameTuple in namePairIndices:\n",
    "    leftEyeNameList.append(nameLeftEyeMap[nameTuple[1]])\n",
    "    rightEyeNameList.append(nameRightEyeMap[nameTuple[1]])"
   ]
  },
  {
   "cell_type": "code",
   "execution_count": 11,
   "metadata": {},
   "outputs": [
    {
     "data": {
      "text/plain": [
       "SVC(C=1.0, cache_size=200, class_weight=None, coef0=0.0,\n",
       "  decision_function_shape=None, degree=3, gamma='auto', kernel='rbf',\n",
       "  max_iter=-1, probability=False, random_state=None, shrinking=True,\n",
       "  tol=0.001, verbose=False)"
      ]
     },
     "execution_count": 11,
     "metadata": {},
     "output_type": "execute_result"
    }
   ],
   "source": [
    "from sklearn.model_selection import GridSearchCV\n",
    "\n",
    "crange = range(.001, 10, .1)\n",
    "\n",
    "clf = SVC(C)\n",
    "clf.fit(knownData, leftEyeNameList)"
   ]
  },
  {
   "cell_type": "code",
   "execution_count": 16,
   "metadata": {},
   "outputs": [],
   "source": [
    "from sklearn.metrics import accuracy_score\n",
    "pred = clf.predict(knownData)"
   ]
  },
  {
   "cell_type": "code",
   "execution_count": 17,
   "metadata": {},
   "outputs": [
    {
     "data": {
      "text/plain": [
       "array([ 13.,  13.,  13.,  13.,  13.,  13.,  13.,  13.,  13.,  13.,  13.,\n",
       "        13.,  13.,  13.,  13.,  13.,  13.,  13.,  13.,  13.,  13.,  13.,\n",
       "        13.,  13.,  13.,  13.,  13.,  13.,  13.,  13.,  13.,  13.,  13.,\n",
       "        13.,  13.,  13.,  13.,  13.,  13.,  13.,  13.,  13.,  13.,  13.,\n",
       "        13.,  13.,  13.,  13.,  13.,  13.,  13.,  13.,  13.,  13.,  13.,\n",
       "        13.,  13.,  13.,  13.,  13.,  13.,  13.,  13.,  13.,  13.,  13.,\n",
       "        13.,  13.,  13.,  13.,  13.,  13.,  13.,  13.,  13.,  13.,  13.,\n",
       "        13.,  13.])"
      ]
     },
     "execution_count": 17,
     "metadata": {},
     "output_type": "execute_result"
    }
   ],
   "source": [
    "pred"
   ]
  },
  {
   "cell_type": "code",
   "execution_count": null,
   "metadata": {
    "collapsed": true
   },
   "outputs": [],
   "source": []
  }
 ],
 "metadata": {
  "kernelspec": {
   "display_name": "Python 2",
   "language": "python",
   "name": "python2"
  }
 },
 "nbformat": 4,
 "nbformat_minor": 2
}

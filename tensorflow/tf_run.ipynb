{
 "cells": [
  {
   "cell_type": "code",
   "execution_count": 165,
   "metadata": {
    "collapsed": true
   },
   "outputs": [],
   "source": [
    "import tensorflow as tf\n",
    "import numpy as np\n",
    "from sklearn.model_selection import train_test_split"
   ]
  },
  {
   "cell_type": "code",
   "execution_count": 166,
   "metadata": {
    "collapsed": true
   },
   "outputs": [],
   "source": [
    "X_in = np.load('inputs.npy')"
   ]
  },
  {
   "cell_type": "code",
   "execution_count": 167,
   "metadata": {
    "collapsed": true
   },
   "outputs": [],
   "source": [
    "input_size = X_in.shape[1]\n",
    "n_classes = 2"
   ]
  },
  {
   "cell_type": "code",
   "execution_count": 168,
   "metadata": {},
   "outputs": [],
   "source": [
    "X = tf.placeholder(np.float64, [None, input_size])\n",
    "Y_ = tf.placeholder(np.float64, [None, n_classes])\n",
    "W = tf.Variable(tf.zeros([input_size, n_classes], dtype=np.float64))\n",
    "b = tf.Variable(tf.zeros([n_classes], dtype=np.float64))"
   ]
  },
  {
   "cell_type": "code",
   "execution_count": 169,
   "metadata": {},
   "outputs": [],
   "source": [
    "Ylogits = tf.matmul(X, W) + b\n",
    "Y = tf.nn.softmax(Ylogits)"
   ]
  },
  {
   "cell_type": "code",
   "execution_count": 170,
   "metadata": {},
   "outputs": [],
   "source": [
    "correct_prediction = tf.equal(tf.argmax(Y, 1), tf.argmax(Y_, 1))\n",
    "accuracy = tf.reduce_mean(tf.cast(correct_prediction, tf.float64))"
   ]
  },
  {
   "cell_type": "code",
   "execution_count": 171,
   "metadata": {},
   "outputs": [],
   "source": [
    "cross_entropy = tf.nn.softmax_cross_entropy_with_logits(logits=Ylogits, labels=Y_)\n",
    "cross_entropy = tf.reduce_mean(cross_entropy)*100"
   ]
  },
  {
   "cell_type": "code",
   "execution_count": 172,
   "metadata": {},
   "outputs": [],
   "source": [
    "train_step = tf.train.AdamOptimizer(0.001).minimize(cross_entropy)"
   ]
  },
  {
   "cell_type": "code",
   "execution_count": 173,
   "metadata": {
    "collapsed": true
   },
   "outputs": [],
   "source": [
    "init = tf.global_variables_initializer()"
   ]
  },
  {
   "cell_type": "code",
   "execution_count": 176,
   "metadata": {
    "scrolled": true
   },
   "outputs": [
    {
     "name": "stdout",
     "output_type": "stream",
     "text": [
      "Epoch: 0\n",
      "Train accuracy:  1.0 loss: 0.0\n",
      "Test accuracy: 0.5625 Loss: 220.897152375\n",
      "Epoch: 1\n",
      "Train accuracy:  0.5 loss: 1500.7110354\n",
      "Test accuracy: 0.8125 Loss: 459.55152713\n",
      "Epoch: 2\n",
      "Train accuracy:  1.0 loss: 0.0\n",
      "Test accuracy: 0.75 Loss: 910.960484272\n",
      "Epoch: 3\n",
      "Train accuracy:  1.0 loss: 0.0\n",
      "Test accuracy: 0.75 Loss: 1432.6359949\n",
      "Epoch: 4\n",
      "Train accuracy:  1.0 loss: 0.0\n",
      "Test accuracy: 0.8125 Loss: 1952.96165844\n",
      "Epoch: 5\n",
      "Train accuracy:  1.0 loss: 0.0\n",
      "Test accuracy: 0.8125 Loss: 2549.0562577\n",
      "Epoch: 6\n",
      "Train accuracy:  1.0 loss: 0.0\n",
      "Test accuracy: 0.8125 Loss: 3154.14326627\n",
      "Epoch: 7\n",
      "Train accuracy:  1.0 loss: 0.0\n",
      "Test accuracy: 0.8125 Loss: 3687.56409337\n",
      "Epoch: 8\n",
      "Train accuracy:  1.0 loss: 0.0\n",
      "Test accuracy: 0.8125 Loss: 4249.88914167\n",
      "Epoch: 9\n",
      "Train accuracy:  1.0 loss: 2.40407599763e-05\n",
      "Test accuracy: 0.8125 Loss: 4828.05135837\n",
      "Epoch: 10\n",
      "Train accuracy:  0.5 loss: 5548.1160132\n",
      "Test accuracy: 0.8125 Loss: 5483.948306\n",
      "Epoch: 11\n",
      "Train accuracy:  0.0 loss: 4873.49895329\n",
      "Test accuracy: 0.8125 Loss: 6193.56850173\n",
      "Epoch: 12\n",
      "Train accuracy:  0.5 loss: 14871.4395687\n",
      "Test accuracy: 0.8125 Loss: 6914.25361772\n",
      "Epoch: 13\n",
      "Train accuracy:  0.0 loss: 313438.60999\n",
      "Test accuracy: 0.8125 Loss: 7830.21176844\n",
      "Epoch: 14\n",
      "Train accuracy:  1.0 loss: 0.0\n",
      "Test accuracy: 0.8125 Loss: 8659.13441891\n",
      "Epoch: 15\n",
      "Train accuracy:  0.5 loss: 2300.5172952\n",
      "Test accuracy: 0.8125 Loss: 9459.20141878\n",
      "Epoch: 16\n",
      "Train accuracy:  0.5 loss: 31779.645139\n",
      "Test accuracy: 0.8125 Loss: 10267.351272\n",
      "Epoch: 17\n",
      "Train accuracy:  1.0 loss: 0.0\n",
      "Test accuracy: 0.8125 Loss: 11001.2708276\n",
      "Epoch: 18\n",
      "Train accuracy:  0.5 loss: 18254.1716342\n",
      "Test accuracy: 0.8125 Loss: 11743.0828153\n",
      "Epoch: 19\n",
      "Train accuracy:  0.5 loss: 25275.9903914\n",
      "Test accuracy: 0.8125 Loss: 12486.4317732\n",
      "Epoch: 20\n",
      "Train accuracy:  1.0 loss: 0.0\n",
      "Test accuracy: 0.8125 Loss: 13162.7787201\n",
      "Epoch: 21\n",
      "Train accuracy:  0.5 loss: 26194.489202\n",
      "Test accuracy: 0.8125 Loss: 13852.2704828\n",
      "Epoch: 22\n",
      "Train accuracy:  0.5 loss: 26260.3780693\n",
      "Test accuracy: 0.8125 Loss: 14557.6078148\n",
      "Epoch: 23\n",
      "Train accuracy:  0.5 loss: 29266.9784091\n",
      "Test accuracy: 0.8125 Loss: 15283.9990551\n",
      "Epoch: 24\n",
      "Train accuracy:  0.5 loss: 52040.1916149\n",
      "Test accuracy: 0.8125 Loss: 16051.9984658\n",
      "Epoch: 25\n",
      "Train accuracy:  1.0 loss: 0.0\n",
      "Test accuracy: 0.8125 Loss: 16751.6524958\n",
      "Epoch: 26\n",
      "Train accuracy:  0.5 loss: 71024.4282022\n",
      "Test accuracy: 0.8125 Loss: 17465.2517543\n",
      "Epoch: 27\n",
      "Train accuracy:  1.0 loss: 0.0\n",
      "Test accuracy: 0.8125 Loss: 18115.4265198\n",
      "Epoch: 28\n",
      "Train accuracy:  0.5 loss: 37050.0713568\n",
      "Test accuracy: 0.8125 Loss: 18773.5259344\n",
      "Epoch: 29\n",
      "Train accuracy:  1.0 loss: 0.0\n",
      "Test accuracy: 0.8125 Loss: 19373.1282013\n",
      "Epoch: 30\n",
      "Train accuracy:  0.5 loss: 70927.7104622\n",
      "Test accuracy: 0.8125 Loss: 20011.7831702\n",
      "Final:\n",
      "Accuracy:  0.897435897436 loss: 10805.330991\n"
     ]
    }
   ],
   "source": [
    "with tf.Session() as sess:\n",
    "    # TODO: SHUFFLE ORDER AND RETRAIN NEURAL NETWORK\n",
    "    sess.run(init)\n",
    "    X_in = np.load('inputs.npy')\n",
    "    Y_in = np.load('eyes.npy')\n",
    "    X_train, X_test, y_train, y_test = train_test_split(X_in, Y_in, test_size=.2)\n",
    "    \n",
    "    num_splits = 31\n",
    "    X_batches = np.split(X_train, num_splits)\n",
    "    Y_batches = np.split(y_train, num_splits)\n",
    "    \n",
    "    for i in range(num_splits):\n",
    "        X_batch = X_batches[i]\n",
    "        Y_batch = Y_batches[i]\n",
    "        sess.run(train_step, {X: X_batch, Y_: Y_batch})\n",
    "        \n",
    "        # get accuracy\n",
    "        a, c = sess.run([accuracy, cross_entropy], feed_dict={X: X_batch, Y_: Y_batch})\n",
    "        print \"Epoch:\", i\n",
    "        print \"Train accuracy: \", a, \"loss:\", c\n",
    "        \n",
    "        a, c = sess.run([accuracy, cross_entropy], feed_dict={X: X_test, Y_: y_test})\n",
    "        print \"Test accuracy:\", a, \"Loss:\", c\n",
    "        \n",
    "    print \"Final:\"\n",
    "    \n",
    "    a, c = sess.run([accuracy, cross_entropy], feed_dict={X: X_in, Y_: Y_in})\n",
    "    print \"Accuracy: \", a, \"loss:\", c\n",
    "    "
   ]
  },
  {
   "cell_type": "code",
   "execution_count": null,
   "metadata": {
    "collapsed": true
   },
   "outputs": [],
   "source": []
  }
 ],
 "metadata": {
  "kernelspec": {
   "display_name": "Python 2",
   "language": "python",
   "name": "python2"
  },
  "language_info": {
   "codemirror_mode": {
    "name": "ipython",
    "version": 2
   },
   "file_extension": ".py",
   "mimetype": "text/x-python",
   "name": "python",
   "nbconvert_exporter": "python",
   "pygments_lexer": "ipython2",
   "version": "2.7.13"
  }
 },
 "nbformat": 4,
 "nbformat_minor": 2
}

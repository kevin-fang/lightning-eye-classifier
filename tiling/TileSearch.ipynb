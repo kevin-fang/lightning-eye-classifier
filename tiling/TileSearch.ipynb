{
 "cells": [
  {
   "cell_type": "code",
   "execution_count": 1,
   "metadata": {
    "collapsed": true
   },
   "outputs": [],
   "source": [
    "# searches for a tile path given its location\n",
    "# note: requires linux for system 'cat' command.\n",
    "\n",
    "import numpy as np\n",
    "import sys, os\n",
    "import subprocess\n",
    "\n",
    "def tileSearch(arg):\n",
    "    coefPaths = np.load(\"./hiq-pgp-info\")\n",
    "    tile_path = np.trunc(coefPaths/(16**5))\n",
    "    tile_step = np.trunc((coefPaths - tile_path*16**5)/2)\n",
    "    tile_phase = np.trunc((coefPaths- tile_path*16**5 - 2*tile_step))\n",
    "\n",
    "    vhex = np.vectorize(hex)\n",
    "\n",
    "    vectorizedPath = vhex(tile_path.astype('int'))\n",
    "    vecpath = str(vectorizedPath[int(arg)])\n",
    "\n",
    "    vectorizedStep = vhex(tile_step.astype('int'))\n",
    "\n",
    "    vecpath = vecpath[2:]\n",
    "    vecpath = vecpath.zfill(4)\n",
    "    proc = subprocess.check_output(\"cat assembly.00.hg19.fw.fwi | grep :\" + vecpath, shell=True)\n",
    "    return proc"
   ]
  },
  {
   "cell_type": "code",
   "execution_count": 11,
   "metadata": {},
   "outputs": [
    {
     "name": "stdout",
     "output_type": "stream",
     "text": [
      "hg19:chr1:0005\t160976\t716480\t15\t16\n",
      "\n"
     ]
    }
   ],
   "source": [
    "print tileSearch(9153)"
   ]
  },
  {
   "cell_type": "code",
   "execution_count": 2,
   "metadata": {
    "collapsed": true
   },
   "outputs": [],
   "source": [
    "arr = np.load(\"../coefs.pkl\")"
   ]
  },
  {
   "cell_type": "code",
   "execution_count": 3,
   "metadata": {},
   "outputs": [
    {
     "name": "stdout",
     "output_type": "stream",
     "text": [
      "0, item: 118665 hg19:chr1:0028\t159216\t7739904\t15\t16\n",
      "\n",
      "1, item: 189603 hg19:chr1:003b\t252848\t12291296\t15\t16\n",
      "\n",
      "2, item: 202427 hg19:chr2:003f\t273312\t13392384\t15\t16\n",
      "\n",
      "3, item: 220611 hg19:chr2:0043\t158896\t14443344\t15\t16\n",
      "\n",
      "4, item: 254197 hg19:chr2:004d\t131936\t16705504\t15\t16\n",
      "\n",
      "5, item: 401709 hg19:chr2:007c\t362832\t27521040\t15\t16\n",
      "\n",
      "6, item: 413376 hg19:chr3:007f\t294208\t28131808\t15\t16\n",
      "\n",
      "7, item: 426933 hg19:chr3:0083\t464352\t28903280\t15\t16\n",
      "\n",
      "8, item: 491881 hg19:chr3:009b\t55136\t33888368\t15\t16\n",
      "\n",
      "9, item: 510859 hg19:chr3:00a5\t113808\t35368304\t15\t16\n",
      "\n",
      "10, item: 570909 hg19:chr3:00ba\t322656\t39606368\t15\t16\n",
      "\n",
      "11, item: 584173 hg19:chr4:00bf\t163600\t40821168\t15\t16\n",
      "\n",
      "12, item: 644070 hg19:chr4:00d6\t393760\t46291760\t15\t16\n",
      "\n",
      "13, item: 682373 hg19:chr4:00e5\t280080\t50237584\t15\t16\n",
      "\n",
      "14, item: 735267 hg19:chr5:00f8\t507856\t54340928\t15\t16\n",
      "\n",
      "15, item: 846813 hg19:chr6:0119\t180720\t62490496\t15\t16\n",
      "\n",
      "16, item: 846975 hg19:chr6:0119\t180720\t62490496\t15\t16\n",
      "\n",
      "17, item: 872663 hg19:chr6:0121\t94128\t64101440\t15\t16\n",
      "\n",
      "18, item: 962743 hg19:chr6:0143\t186592\t71394144\t15\t16\n",
      "\n",
      "19, item: 970923 hg19:chr6:0145\t221344\t71918544\t15\t16\n",
      "\n",
      "20, item: 975029 hg19:chr6:0146\t394592\t72139904\t15\t16\n",
      "\n",
      "21, item: 1021427 hg19:chr7:0157\t185904\t75840400\t15\t16\n",
      "\n",
      "22, item: 1058372 hg19:chr7:0168\t169888\t79380032\t15\t16\n",
      "\n",
      "23, item: 1089423 hg19:chr8:0174\t257136\t81757440\t15\t16\n",
      "\n",
      "24, item: 1089916 hg19:chr8:0174\t257136\t81757440\t15\t16\n",
      "\n",
      "25, item: 1094599 hg19:chr8:0175\t297456\t82014592\t15\t16\n",
      "\n",
      "26, item: 1097205 hg19:chr8:0176\t401632\t82312064\t15\t16\n",
      "\n",
      "27, item: 1207239 hg19:chr8:019a\t383408\t90025344\t15\t16\n",
      "\n",
      "28, item: 1214713 hg19:chr9:019c\t152016\t90534256\t15\t16\n",
      "\n",
      "29, item: 1214799 hg19:chr9:019c\t152016\t90534256\t15\t16\n",
      "\n",
      "30, item: 1275283 hg19:chr9:01bb\t192096\t95076592\t15\t16\n",
      "\n",
      "31, item: 1307183 hg19:chr10:01c7\t51808\t97291202\t15\t16\n",
      "\n",
      "32, item: 1309677 hg19:chr10:01c8\t173872\t97343027\t15\t16\n",
      "\n",
      "33, item: 1394887 hg19:chr10:01e8\t385104\t103094723\t15\t16\n",
      "\n",
      "34, item: 1415555 hg19:chr10:01ee\t190416\t104470441\t15\t16\n",
      "\n",
      "35, item: 1485626 hg19:chr11:0206\t531776\t109331553\t15\t16\n",
      "\n",
      "36, item: 1609027 hg19:chr12:0230\t218464\t118340651\t15\t16\n",
      "\n",
      "37, item: 1645505 hg19:chr12:023b\t216544\t120365686\t15\t16\n",
      "\n",
      "38, item: 1654239 hg19:chr13:0244\t142304\t121208015\t15\t16\n",
      "\n",
      "39, item: 1716867 hg19:chr14:0266\t260688\t126833313\t15\t16\n",
      "\n",
      "40, item: 1846117 hg19:chr15:029d\t239040\t135852504\t15\t16\n",
      "\n",
      "41, item: 1866293 hg19:chr16:02a1\t466320\t136926908\t15\t16\n",
      "\n",
      "42, item: 1866411 hg19:chr16:02a1\t466320\t136926908\t15\t16\n",
      "\n",
      "43, item: 1866519 hg19:chr16:02a1\t466320\t136926908\t15\t16\n",
      "\n",
      "44, item: 1866551 hg19:chr16:02a1\t466320\t136926908\t15\t16\n",
      "\n",
      "45, item: 1912355 hg19:chr16:02b2\t126704\t140220157\t15\t16\n",
      "\n",
      "46, item: 1933451 hg19:chr17:02bc\t253664\t141783959\t15\t16\n",
      "\n",
      "47, item: 1940575 hg19:chr17:02bd\t317536\t142037640\t15\t16\n",
      "\n",
      "48, item: 2087013 hg19:chr20:02fa\t259808\t153950117\t15\t16\n",
      "\n",
      "49, item: 2144473 hg19:chr21:0312\t76080\t157358285\t15\t16\n",
      "\n",
      "50, item: 2200080 hg19:chrX:032d\t210192\t161600053\t15\t16\n",
      "\n",
      "51, item: 2325973 hg19:chrX:033f\t97888\t165207477\t15\t16\n",
      "\n",
      "52, item: 2459513 hg19:chrX:0352\t421808\t169368741\t15\t16\n",
      "\n"
     ]
    }
   ],
   "source": [
    "counter = 0\n",
    "for item in arr:\n",
    "    print str(counter) + \", item: \" + str(item) + \" \" + tileSearch(item)\n",
    "    counter += 1"
   ]
  },
  {
   "cell_type": "code",
   "execution_count": null,
   "metadata": {
    "collapsed": true,
    "scrolled": false
   },
   "outputs": [],
   "source": [
    "arr = np.load(\"hiq-pgp-info\")\n",
    "counter = 0\n",
    "chrNums = {}\n",
    "import re\n",
    "for item in arr:\n",
    "    tile = tileSearch(item)\n",
    "    chrNum = tile[]\n",
    "    chrSearch = re.compile(\":chr(\\w+):\")\n",
    "    chrNums[re.search(chrSearch, tile).groups[0]] += 1;\n",
    "print counter"
   ]
  },
  {
   "cell_type": "code",
   "execution_count": null,
   "metadata": {
    "collapsed": true
   },
   "outputs": [],
   "source": []
  }
 ],
 "metadata": {
  "kernelspec": {
   "display_name": "Python 2",
   "language": "python",
   "name": "python2"
  },
  "language_info": {
   "codemirror_mode": {
    "name": "ipython",
    "version": 2
   },
   "file_extension": ".py",
   "mimetype": "text/x-python",
   "name": "python",
   "nbconvert_exporter": "python",
   "pygments_lexer": "ipython2",
   "version": "2.7.13"
  }
 },
 "nbformat": 4,
 "nbformat_minor": 2
}

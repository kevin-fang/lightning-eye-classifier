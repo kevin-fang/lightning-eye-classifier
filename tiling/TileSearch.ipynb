{
 "cells": [
  {
   "cell_type": "code",
   "execution_count": 1,
   "metadata": {
    "collapsed": true
   },
   "outputs": [],
   "source": [
    "# searches for a tile path given its location\n",
    "# note: requires linux for system 'cat' command.\n",
    "\n",
    "import numpy as np\n",
    "import sys, os\n",
    "import subprocess\n",
    "\n",
    "def tileSearch(arg):\n",
    "    coefPaths = np.load(\"./hiq-pgp-info\")\n",
    "    tile_path = np.trunc(coefPaths/(16**5))\n",
    "    tile_step = np.trunc((coefPaths - tile_path*16**5)/2)\n",
    "    tile_phase = np.trunc((coefPaths- tile_path*16**5 - 2*tile_step))\n",
    "\n",
    "    vhex = np.vectorize(hex)\n",
    "\n",
    "    vectorizedPath = vhex(tile_path.astype('int'))\n",
    "    vecpath = str(vectorizedPath[int(arg)])\n",
    "\n",
    "    vectorizedStep = vhex(tile_step.astype('int'))\n",
    "\n",
    "    vecpath = vecpath[2:]\n",
    "    vecpath = vecpath.zfill(4)\n",
    "    proc = subprocess.check_output(\"cat assembly.00.hg19.fw.fwi | grep :\" + vecpath, shell=True)\n",
    "    return proc"
   ]
  },
  {
   "cell_type": "code",
   "execution_count": 18,
   "metadata": {},
   "outputs": [
    {
     "name": "stdout",
     "output_type": "stream",
     "text": [
      "hg19:chr1:0005\t160976\t716480\t15\t16\n",
      "\n"
     ]
    }
   ],
   "source": [
    "print tileSearch(9153)"
   ]
  },
  {
   "cell_type": "code",
   "execution_count": 21,
   "metadata": {
    "collapsed": true
   },
   "outputs": [],
   "source": [
    "arr = np.asarray([9153, 118665, 131097,  202427,  214301,  414323,  426932,  491881,  510859,\n",
    "  570908,  572901,  573869,  633489,  633945,  672847,  672863,  734315,  842543,\n",
    "  869133,  872655,  872668,  980587, 1021427, 1034651, 1089423, 1090083, 1094105,\n",
    " 1097075, 1207239, 1214713, 1214799, 1246385, 1278269, 1415555, 1440803, 1518505,\n",
    " 1646825, 1654239, 1706439, 1709485, 1866551, 1867015, 1899325, 1926889, 1933450,\n",
    " 1949505, 2097203, 2190065, 2200081, 2252013, 2459513])"
   ]
  },
  {
   "cell_type": "code",
   "execution_count": 23,
   "metadata": {},
   "outputs": [
    {
     "name": "stdout",
     "output_type": "stream",
     "text": [
      "hg19:chr1:0005\t160976\t716480\t15\t16\n",
      "\n",
      "hg19:chr1:0028\t159216\t7739904\t15\t16\n",
      "\n",
      "hg19:chr1:002c\t228816\t8391344\t15\t16\n",
      "\n",
      "hg19:chr2:003f\t273312\t13392384\t15\t16\n",
      "\n",
      "hg19:chr2:0042\t283456\t14159872\t15\t16\n",
      "\n",
      "hg19:chr3:0080\t191696\t28426032\t15\t16\n",
      "\n",
      "hg19:chr3:0083\t464352\t28903280\t15\t16\n",
      "\n",
      "hg19:chr3:009b\t55136\t33888368\t15\t16\n",
      "\n",
      "hg19:chr3:00a5\t113808\t35368304\t15\t16\n",
      "\n",
      "hg19:chr3:00ba\t322656\t39606368\t15\t16\n",
      "\n",
      "hg19:chr4:00bb\t254384\t39929040\t15\t16\n",
      "\n",
      "hg19:chr4:00bc\t93312\t40183440\t15\t16\n",
      "\n",
      "hg19:chr4:00d1\t349040\t45087936\t15\t16\n",
      "\n",
      "hg19:chr4:00d1\t349040\t45087936\t15\t16\n",
      "\n",
      "hg19:chr4:00e1\t386912\t49228896\t15\t16\n",
      "\n",
      "hg19:chr4:00e1\t386912\t49228896\t15\t16\n",
      "\n",
      "hg19:chr5:00f8\t507856\t54340928\t15\t16\n",
      "\n",
      "hg19:chr6:0117\t138608\t62232640\t15\t16\n",
      "\n",
      "hg19:chr6:0120\t204496\t63896928\t15\t16\n",
      "\n",
      "hg19:chr6:0121\t94128\t64101440\t15\t16\n",
      "\n",
      "hg19:chr6:0121\t94128\t64101440\t15\t16\n",
      "\n",
      "hg19:chr7:014a\t409776\t72940848\t15\t16\n",
      "\n",
      "hg19:chr7:0157\t185904\t75840400\t15\t16\n",
      "\n",
      "hg19:chr7:015e\t110848\t77291360\t15\t16\n",
      "\n",
      "hg19:chr8:0174\t257136\t81757440\t15\t16\n",
      "\n",
      "hg19:chr8:0174\t257136\t81757440\t15\t16\n",
      "\n",
      "hg19:chr8:0175\t297456\t82014592\t15\t16\n",
      "\n",
      "hg19:chr8:0176\t401632\t82312064\t15\t16\n",
      "\n",
      "hg19:chr8:019a\t383408\t90025344\t15\t16\n",
      "\n",
      "hg19:chr9:019c\t152016\t90534256\t15\t16\n",
      "\n",
      "hg19:chr9:019c\t152016\t90534256\t15\t16\n",
      "\n",
      "hg19:chr9:01b0\t324256\t93004656\t15\t16\n",
      "\n",
      "hg19:chr9:01bb\t192096\t95076592\t15\t16\n",
      "\n",
      "hg19:chr10:01ee\t190416\t104470441\t15\t16\n",
      "\n",
      "hg19:chr11:01f4\t341424\t105932703\t15\t16\n",
      "\n",
      "hg19:chr11:020f\t427200\t111607162\t15\t16\n",
      "\n",
      "hg19:chr12:023c\t269776\t120582247\t15\t16\n",
      "\n",
      "hg19:chr13:0244\t142304\t121208015\t15\t16\n",
      "\n",
      "hg19:chr13:025d\t202544\t125991528\t15\t16\n",
      "\n",
      "hg19:chr13:025e\t143680\t126194089\t15\t16\n",
      "\n",
      "hg19:chr16:02a1\t466320\t136926908\t15\t16\n",
      "\n",
      "hg19:chr16:02a1\t466320\t136926908\t15\t16\n",
      "\n",
      "hg19:chr16:02ae\t258528\t139104329\t15\t16\n",
      "\n",
      "hg19:chr16:02b7\t185152\t141057426\t15\t16\n",
      "\n",
      "hg19:chr17:02bc\t253664\t141783959\t15\t16\n",
      "\n",
      "hg19:chr17:02c1\t343216\t142668924\t15\t16\n",
      "\n",
      "hg19:chr20:02fc\t368576\t154400247\t15\t16\n",
      "\n",
      "hg19:chr22:0328\t265392\t160970211\t15\t16\n",
      "\n",
      "hg19:chrX:032d\t210192\t161600053\t15\t16\n",
      "\n",
      "hg19:chrX:0333\t137408\t163026341\t15\t16\n",
      "\n",
      "hg19:chrX:0352\t421808\t169368741\t15\t16\n",
      "\n"
     ]
    }
   ],
   "source": [
    "for item in arr:\n",
    "    print tileSearch(item)"
   ]
  },
  {
   "cell_type": "code",
   "execution_count": null,
   "metadata": {
    "collapsed": true,
    "scrolled": false
   },
   "outputs": [],
   "source": [
    "arr = np.load(\"hiq-pgp-info\")\n",
    "counter = 0\n",
    "chrNums = {}\n",
    "import re\n",
    "for item in arr:\n",
    "    tile = tileSearch(item)\n",
    "    chrNum = tile[]\n",
    "    chrSearch = re.compile(\":chr(\\w+):\")\n",
    "    chrNums[re.search(chrSearch, tile).groups[0]] += 1;\n",
    "print counter"
   ]
  },
  {
   "cell_type": "code",
   "execution_count": null,
   "metadata": {
    "collapsed": true
   },
   "outputs": [],
   "source": []
  }
 ],
 "metadata": {
  "kernelspec": {
   "display_name": "Python 2",
   "language": "python",
   "name": "python2"
  },
  "language_info": {
   "codemirror_mode": {
    "name": "ipython",
    "version": 2
   },
   "file_extension": ".py",
   "mimetype": "text/x-python",
   "name": "python",
   "nbconvert_exporter": "python",
   "pygments_lexer": "ipython2",
   "version": "2.7.12"
  }
 },
 "nbformat": 4,
 "nbformat_minor": 2
}

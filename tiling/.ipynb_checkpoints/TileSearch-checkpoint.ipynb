{
 "cells": [
  {
   "cell_type": "code",
   "execution_count": 41,
   "metadata": {
    "collapsed": true
   },
   "outputs": [],
   "source": [
    "# searches for a tile path given its location\n",
    "# note: requires linux for system 'cat' command.\n",
    "\n",
    "import numpy as np\n",
    "import sys, os\n",
    "import subprocess\n",
    "import re"
   ]
  },
  {
   "cell_type": "code",
   "execution_count": 42,
   "metadata": {
    "collapsed": true
   },
   "outputs": [],
   "source": [
    "coefPaths = np.load(\"./hiq-pgp-info\")\n",
    "tile_path = np.trunc(coefPaths/(16**5))\n",
    "tile_step = np.trunc((coefPaths - tile_path*16**5)/2)\n",
    "tile_phase = np.trunc((coefPaths- tile_path*16**5 - 2*tile_step))\n",
    "vhex = np.vectorize(hex)\n",
    "vectorizedPath = vhex(tile_path.astype('int'))\n",
    "vectorizedStep = vhex(tile_step.astype('int'))\n",
    "    \n",
    "def tileSearch(arg):\n",
    "    vecpath = str(vectorizedPath[int(arg)])\n",
    "    vecpath = vecpath[2:].zfill(4)\n",
    "    proc = subprocess.check_output(\"cat ./assembly.00.hg19.fw.fwi | grep :\" + vecpath, shell=True)\n",
    "    return proc"
   ]
  },
  {
   "cell_type": "code",
   "execution_count": 43,
   "metadata": {
    "collapsed": true
   },
   "outputs": [],
   "source": [
    "coefs = np.load(\"../coefs.pkl\")\n",
    "pgp = np.load(\"../hiq-pgp.npy\")"
   ]
  },
  {
   "cell_type": "code",
   "execution_count": 44,
   "metadata": {
    "collapsed": true
   },
   "outputs": [],
   "source": [
    "def getTileLocation(raw_tile):\n",
    "    split_raw = raw_tile.split('\\t')\n",
    "    begin = int(split_raw[2])\n",
    "    sequence = int(split_raw[1])\n",
    "    hexVal = split_raw[0].split(':')[2]\n",
    "    cmdToRun = \"bgzip -c -b %d -s %d -d assembly.00.hg19.fw.gz | grep -B1 \\\"%s\\\"\" % (begin, sequence, hexVal)\n",
    "    proc = subprocess.check_output(cmdToRun, shell=True)\n",
    "    return proc"
   ]
  },
  {
   "cell_type": "code",
   "execution_count": 45,
   "metadata": {},
   "outputs": [
    {
     "name": "stdout",
     "output_type": "stream",
     "text": [
      "0. item: 1792420 hg19:chr15:0288\t99840\t132519571\t15\t16\n",
      "\n",
      "0. item: 1794813 hg19:chr15:028a\t119248\t132634149\t15\t16\n",
      "\n",
      "0. item: 1843740 hg19:chr15:029c\t154800\t135697687\t15\t16\n",
      "\n",
      "0. item: 1801942 hg19:chr15:028c\t161952\t133157847\t15\t16\n",
      "\n"
     ]
    }
   ],
   "source": [
    "counter = 0\n",
    "chrSearch = re.compile(\":chr(\\w+):\")\n",
    "chr15Vals = []\n",
    "for item in coefs:\n",
    "    tile = tileSearch(item)\n",
    "    #print str(counter) + \". item: \" + str(item) + \" \" + tile\n",
    "    chrnum = re.search(chrSearch, tile).groups(0)[0]\n",
    "    if chrnum == '15':\n",
    "        print str(counter) + \". item: \" + str(item) + \" \" + tile\n",
    "        chr15Vals.append(tile)"
   ]
  },
  {
   "cell_type": "code",
   "execution_count": 46,
   "metadata": {},
   "outputs": [
    {
     "name": "stdout",
     "output_type": "stream",
     "text": [
      "hg19:chr15:0288\t99840\t132519571\t15\t16\n",
      "\n",
      "0112\t  28170063\n",
      "0113\t  28170288\n",
      "--\n",
      "0287\t  28264893\n",
      "0288\t  28265118\n",
      "--\n",
      "06a1\t  29028611\n",
      "06a2\t  29028842\n",
      "--\n",
      "1830\t  30287875\n",
      "1831\t  30288109\n",
      "1832\t  30288334\n",
      "1833\t  30288559\n",
      "\n",
      "hg19:chr15:028a\t119248\t132634149\t15\t16\n",
      "\n",
      "0289\t  31360078\n",
      "028a\t  31360303\n",
      "\n",
      "hg19:chr15:029c\t154800\t135697687\t15\t16\n",
      "\n",
      "029b\t  81864645\n",
      "029c\t  81864870\n",
      "\n",
      "hg19:chr15:028c\t161952\t133157847\t15\t16\n",
      "\n",
      "028b\t  40265284\n",
      "028c\t  40265509\n",
      "\n"
     ]
    }
   ],
   "source": [
    "for val in chr15Vals:\n",
    "    print val\n",
    "    print getTileLocation(val)"
   ]
  },
  {
   "cell_type": "code",
   "execution_count": 5,
   "metadata": {},
   "outputs": [
    {
     "name": "stdout",
     "output_type": "stream",
     "text": [
      "Adding: ('1',)\n",
      "Adding: ('2',)\n",
      "Adding: ('3',)\n",
      "Adding: ('4',)\n",
      "Adding: ('5',)\n",
      "Adding: ('6',)\n",
      "Adding: ('7',)\n",
      "Adding: ('8',)\n",
      "Adding: ('9',)\n",
      "Adding: ('10',)\n",
      "Adding: ('11',)\n",
      "Adding: ('12',)\n",
      "Adding: ('13',)\n",
      "Adding: ('14',)\n",
      "Adding: ('15',)\n",
      "Adding: ('16',)\n",
      "Adding: ('17',)\n",
      "Adding: ('18',)\n",
      "Adding: ('19',)\n",
      "Adding: ('20',)\n",
      "Adding: ('21',)\n",
      "Adding: ('22',)\n",
      "Adding: ('X',)\n",
      "{('10',): 12494, ('12',): 10708, ('20',): 5860, ('14',): 7268, ('22',): 2368, ('16',): 7238, ('2',): 20076, ('X',): 16432, ('4',): 13124, ('6',): 12912, ('19',): 2234, ('9',): 9364, ('11',): 12952, ('13',): 7942, ('15',): 7874, ('21',): 2770, ('1',): 20386, ('17',): 5512, ('3',): 16784, ('5',): 13876, ('7',): 10990, ('18',): 6756, ('8',): 12390}\n"
     ]
    }
   ],
   "source": [
    "chrNums = {}\n",
    "chrSearch = re.compile(\":chr(\\w+):\")\n",
    "import re\n",
    "for item in np.nonzero(pgp[0])[0]:\n",
    "    tile = tileSearch(item)\n",
    "    chrNum = re.search(chrSearch, tile).groups(0)[0],\n",
    "    if (chrNum not in chrNums):\n",
    "        chrNums[chrNum] = 1\n",
    "        print \"Adding: \" + str(chrNum)\n",
    "    else:\n",
    "        chrNums[chrNum] += 1\n",
    "print chrNums"
   ]
  },
  {
   "cell_type": "code",
   "execution_count": null,
   "metadata": {
    "collapsed": true
   },
   "outputs": [],
   "source": []
  }
 ],
 "metadata": {
  "kernelspec": {
   "display_name": "Python 2",
   "language": "python",
   "name": "python2"
  },
  "language_info": {
   "codemirror_mode": {
    "name": "ipython",
    "version": 2
   },
   "file_extension": ".py",
   "mimetype": "text/x-python",
   "name": "python",
   "nbconvert_exporter": "python",
   "pygments_lexer": "ipython2",
   "version": "2.7.13"
  }
 },
 "nbformat": 4,
 "nbformat_minor": 2
}

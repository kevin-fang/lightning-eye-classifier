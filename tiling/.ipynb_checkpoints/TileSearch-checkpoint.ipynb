{
 "cells": [
  {
   "cell_type": "code",
   "execution_count": 1,
   "metadata": {
    "collapsed": true
   },
   "outputs": [],
   "source": [
    "# searches for a tile path given its location\n",
    "# note: requires linux for system 'cat' command.\n",
    "\n",
    "import numpy as np\n",
    "import sys, os\n",
    "import subprocess\n",
    "import searchTile\n",
    "import re"
   ]
  },
  {
   "cell_type": "code",
   "execution_count": 2,
   "metadata": {
    "collapsed": true
   },
   "outputs": [],
   "source": [
    "arr = np.load(\"../coefs.pkl\")"
   ]
  },
  {
   "cell_type": "code",
   "execution_count": 3,
   "metadata": {},
   "outputs": [
    {
     "name": "stdout",
     "output_type": "stream",
     "text": [
      "2 9 10 6 1 1 3 1 X 4 5 8 22 7 4 1 2 7 12 14 18 11 18 20 4 X 21 14 21 2 4 3\n"
     ]
    }
   ],
   "source": [
    "counter = 0\n",
    "chrSearch = re.compile(\":chr(\\w+):\")\n",
    "\n",
    "for item in arr:\n",
    "    tile = searchTile.tileSearch(item)\n",
    "    #print str(counter) + \". item: \" + str(item) + \" \" + tile\n",
    "    print re.search(chrSearch, tile).groups(0)[0],\n",
    "    counter += 1"
   ]
  },
  {
   "cell_type": "code",
   "execution_count": 4,
   "metadata": {},
   "outputs": [],
   "source": [
    "arr = np.load(\"hiq-pgp-info\")\n",
    "counter = 0\n",
    "chrNums = {}"
   ]
  },
  {
   "cell_type": "code",
   "execution_count": 6,
   "metadata": {},
   "outputs": [
    {
     "data": {
      "text/plain": [
       "(2469062,)"
      ]
     },
     "execution_count": 6,
     "metadata": {},
     "output_type": "execute_result"
    }
   ],
   "source": [
    "arr.shape"
   ]
  },
  {
   "cell_type": "code",
   "execution_count": 7,
   "metadata": {},
   "outputs": [
    {
     "name": "stdout",
     "output_type": "stream",
     "text": [
      "{('1',): 128, ('7',): 3780, ('20',): 2724}\n"
     ]
    }
   ],
   "source": [
    "import re\n",
    "for item in arr:\n",
    "    if (item > 2469062):\n",
    "        continue\n",
    "    tile = searchTile.tileSearch(item)\n",
    "    chrSearch = re.compile(\":chr(\\w+):\")\n",
    "    chrNum = re.search(chrSearch, tile).groups(0)[0],\n",
    "    if (chrNum not in chrNums):\n",
    "        chrNums[chrNum] = 1\n",
    "        print \"Adding: \" + str(chrNum)\n",
    "    else:\n",
    "        chrNums[chrNum] += 1\n",
    "print chrNums"
   ]
  },
  {
   "cell_type": "code",
   "execution_count": null,
   "metadata": {
    "collapsed": true
   },
   "outputs": [],
   "source": []
  }
 ],
 "metadata": {
  "kernelspec": {
   "display_name": "Python 2",
   "language": "python",
   "name": "python2"
  },
  "language_info": {
   "codemirror_mode": {
    "name": "ipython",
    "version": 2
   },
   "file_extension": ".py",
   "mimetype": "text/x-python",
   "name": "python",
   "nbconvert_exporter": "python",
   "pygments_lexer": "ipython2",
   "version": "2.7.13"
  }
 },
 "nbformat": 4,
 "nbformat_minor": 2
}

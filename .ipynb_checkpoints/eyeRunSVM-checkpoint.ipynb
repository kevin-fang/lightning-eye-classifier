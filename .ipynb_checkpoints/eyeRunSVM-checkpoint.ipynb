{
 "cells": [
  {
   "cell_type": "code",
   "execution_count": 1,
   "metadata": {
    "collapsed": true
   },
   "outputs": [],
   "source": [
    "from sklearn.svm import LinearSVC\n",
    "import numpy as np\n",
    "import pandas as pd"
   ]
  },
  {
   "cell_type": "code",
   "execution_count": 2,
   "metadata": {
    "collapsed": true
   },
   "outputs": [],
   "source": [
    "# read names that have provided survey eye color data\n",
    "columns = ['name', 'left', 'right', 'left_desc', 'right_desc']\n",
    "# pgp eye color data from survey\n",
    "surveyData = pd.read_csv(\"PGP-eyecolor.csv\", names=columns, na_values=['nan', ''])\n",
    "# names of the pgp participants\n",
    "surveyNames = np.asarray(surveyData['name'].values.tolist())\n",
    "leftEyeColors = surveyData['left']\n",
    "rightEyeColors = surveyData['right']"
   ]
  },
  {
   "cell_type": "code",
   "execution_count": 3,
   "metadata": {
    "collapsed": true
   },
   "outputs": [],
   "source": [
    "# load numpy array of names\n",
    "pgpNames = np.load(\"names.npy\")\n",
    "# load numpy array of tiled data and delete the extra information\n",
    "pgp = np.load(\"hiq-pgp.npy\")\n",
    "for i in range(len(pgpNames)):\n",
    "    pgpNames[i] = pgpNames[i][:8]"
   ]
  },
  {
   "cell_type": "code",
   "execution_count": 4,
   "metadata": {
    "collapsed": true
   },
   "outputs": [],
   "source": [
    "def getData(name, surveyData):\n",
    "    for index, row in surveyData.iterrows():\n",
    "        if row['name'] == name:\n",
    "            return (row['left'], row['right'])"
   ]
  },
  {
   "cell_type": "code",
   "execution_count": 5,
   "metadata": {
    "collapsed": true
   },
   "outputs": [],
   "source": [
    "# populate name dictionaries with respective eye color data\n",
    "namePairIndices = []\n",
    "nameLeftEyeMap = {}\n",
    "nameRightEyeMap = {}\n",
    "for i in range(len(pgpNames)):\n",
    "    if pgpNames[i] in surveyNames:\n",
    "        eyeData = getData(pgpNames[i], surveyData)\n",
    "        namePairIndices.append((i, pgpNames[i]))\n",
    "        nameLeftEyeMap[pgpNames[i]] = eyeData[0]\n",
    "        nameRightEyeMap[pgpNames[i]] = eyeData[1]\n",
    "\n",
    "# create lists containing the known eye color names and the unknown ones.\n",
    "nameIndices = [nameIndex[0] for nameIndex in namePairIndices]\n",
    "knownData = pgp[nameIndices]\n",
    "unknownData = np.delete(pgp, nameIndices, axis=0)"
   ]
  },
  {
   "cell_type": "code",
   "execution_count": 6,
   "metadata": {
    "collapsed": true
   },
   "outputs": [],
   "source": [
    "# convert dictionaries to lists using knownData\n",
    "leftEyeNameList = []\n",
    "rightEyeNameList = []\n",
    "\n",
    "knownDataNames = [nameIndices]\n",
    "for nameTuple in namePairIndices:\n",
    "    leftEyeNameList.append(nameLeftEyeMap[nameTuple[1]])\n",
    "    rightEyeNameList.append(nameRightEyeMap[nameTuple[1]])\n",
    "    \n",
    "for i in range(len(leftEyeNameList)):\n",
    "    eyeColor = leftEyeNameList[i]\n",
    "    if eyeColor > 17:\n",
    "        leftEyeNameList[i] = 1\n",
    "    else:\n",
    "        leftEyeNameList[i] = 0"
   ]
  },
  {
   "cell_type": "code",
   "execution_count": 7,
   "metadata": {},
   "outputs": [
    {
     "data": {
      "image/png": "[encoded data removed]",
      "text/plain": [
       "<matplotlib.figure.Figure at 0x7fd1571d5b50>"
      ]
     },
     "metadata": {},
     "output_type": "display_data"
    }
   ],
   "source": [
    "import matplotlib.pyplot as plt\n",
    "%matplotlib inline\n",
    "plt.hist(leftEyeNameList)\n",
    "plt.show()"
   ]
  },
  {
   "cell_type": "code",
   "execution_count": 8,
   "metadata": {},
   "outputs": [
    {
     "name": "stdout",
     "output_type": "stream",
     "text": [
      "id:  0 , cval:  0.001, mean:  0.774206349206 , std:  0.0845489566884\n",
      "id:  1 , cval:  0.00483293023857, mean:  0.548015873016 , std:  0.327984292528\n",
      "id:  2 , cval:  0.0233572146909, mean:  0.747817460317 , std:  0.25388422469\n",
      "id:  3 , cval:  0.112883789168, mean:  0.737103174603 , std:  0.283535841996\n",
      "id:  4 , cval:  0.545559478117, mean:  0.725992063492 , std:  0.310394836698\n",
      "id:  5 , cval:  2.63665089873, mean:  0.724206349206 , std:  0.307133628507\n",
      "id:  6 , cval:  12.742749857, mean:  0.799603174603 , std:  0.199914947902\n",
      "id:  7 , cval:  61.5848211066, mean:  0.759920634921 , std:  0.132351829616\n",
      "id:  8 , cval:  297.635144163, mean:  0.749206349206 , std:  0.1482895678\n",
      "id:  9 , cval:  1438.44988829, mean:  0.782142857143 , std:  0.251931315551\n",
      "id:  10 , cval:  6951.92796178, mean:  0.731349206349 , std:  0.286941807527\n",
      "id:  11 , cval:  33598.1828628, mean:  0.697023809524 , std:  0.200371678447\n",
      "id:  12 , cval:  162377.673919, mean:  0.759920634921 , std:  0.206196524711\n",
      "id:  13 , cval:  784759.970351, mean:  0.738095238095 , std:  0.293929511657\n",
      "id:  14 , cval:  3792690.19073, mean:  0.693849206349 , std:  0.179477858209\n",
      "id:  15 , cval:  18329807.1083, mean:  0.67380952381 , std:  0.217163219597\n",
      "id:  16 , cval:  88586679.041, mean:  0.659523809524 , std:  0.19334154334\n",
      "id:  17 , cval:  428133239.872, mean:  0.660515873016 , std:  0.193213222131\n",
      "id:  18 , cval:  2069138081.11, mean:  0.724206349206 , std:  0.270476609658\n",
      "id:  19 , cval:  10000000000.0, mean:  0.668849206349 , std:  0.284573615884\n"
     ]
    }
   ],
   "source": [
    "from sklearn.model_selection import cross_val_score\n",
    "\n",
    "\n",
    "crange = np.logspace(-3, 10, 20).tolist()\n",
    "scores = []\n",
    "stds = []\n",
    "for idC, Cval in enumerate(crange):\n",
    "    clf = LinearSVC(penalty='l1', class_weight='balanced', dual=False, C=Cval)\n",
    "    cvscores = cross_val_score(clf, knownData, leftEyeNameList, cv=10, scoring='accuracy')\n",
    "    scores.append(cvscores.mean())\n",
    "    stds.append(cvscores.std() * 2)\n",
    "    print \"id: \" + str(idC) + \", cval: \" + str(Cval) + \", mean:\" + str(cvscores.mean()) + \", std: \" + str(cvscores.std() * 2)"
   ]
  },
  {
   "cell_type": "code",
   "execution_count": 90,
   "metadata": {},
   "outputs": [
    {
     "data": {
      "image/png": "[encoded data removed]",
      "text/plain": [
       "<matplotlib.figure.Figure at 0x7fd12fc61b50>"
      ]
     },
     "metadata": {},
     "output_type": "display_data"
    }
   ],
   "source": [
    "plt.errorbar(crange, scores, [std / 2 for std in stds], marker=\"x\", elinewidth=1, linewidth=2)\n",
    "plt.title(\"Accuracy vs C value\")\n",
    "plt.xlabel(\"C value\")\n",
    "plt.ylabel(\"Accuracy Score\")\n",
    "plt.xscale(\"log\")\n",
    "ax = plt.subplot(111)\n",
    "\n",
    "plt.show()"
   ]
  },
  {
   "cell_type": "code",
   "execution_count": 15,
   "metadata": {},
   "outputs": [],
   "source": [
    "from sklearn.metrics import accuracy_score\n",
    "clf = LinearSVC(penalty='l1', class_weight='balanced', C=.113, dual=False)\n",
    "clf.fit(knownData, leftEyeNameList)\n",
    "pred = clf.predict(knownData)"
   ]
  },
  {
   "cell_type": "code",
   "execution_count": 63,
   "metadata": {},
   "outputs": [
    {
     "data": {
      "text/plain": [
       "0.6875"
      ]
     },
     "execution_count": 63,
     "metadata": {},
     "output_type": "execute_result"
    }
   ],
   "source": [
    "from sklearn.model_selection import train_test_split\n",
    "X_train, X_test, y_train, y_test = train_test_split(knownData, leftEyeNameList, test_size=.2, random_state=2)\n",
    "svc_test = LinearSVC(penalty='l1', class_weight='balanced', C=.113, dual=False)\n",
    "svc_test.fit(X_train, y_train)\n",
    "\n",
    "y_pred = svc_test.predict(X_test)\n",
    "accuracy_score(y_test, y_pred)"
   ]
  },
  {
   "cell_type": "code",
   "execution_count": 30,
   "metadata": {
    "scrolled": false
   },
   "outputs": [
    {
     "name": "stdout",
     "output_type": "stream",
     "text": [
      "1.0\n",
      "[   9153  118665  131097  202427  214301  414323  426932  491881  510859\n",
      "  570908  572901  573869  633489  633945  672847  672863  734315  842543\n",
      "  869133  872655  872668  980587 1021427 1034651 1089423 1090083 1094105\n",
      " 1097075 1207239 1214713 1214799 1246385 1278269 1415555 1440803 1518505\n",
      " 1646825 1654239 1706439 1709485 1866551 1867015 1899325 1926889 1933450\n",
      " 1949505 2097203 2190065 2200081 2252013 2459513]\n"
     ]
    }
   ],
   "source": [
    "nonzeroes = np.nonzero(clf.coef_)[1]\n",
    "nonzeroes"
   ]
  },
  {
   "cell_type": "code",
   "execution_count": 40,
   "metadata": {},
   "outputs": [
    {
     "data": {
      "text/plain": [
       "array([-0.02977927, -0.07226471,  0.01570802, -0.00044893,  0.03791838,\n",
       "        0.00280398, -0.02655785, -0.02755824, -0.01257585,  0.02215586,\n",
       "        0.01384371, -0.01599796,  0.03580997,  0.01196329,  0.01715992,\n",
       "        0.00870628, -0.01236526,  0.00261284,  0.02164314, -0.01349138,\n",
       "        0.01644594, -0.02386748, -0.0146622 ,  0.01118985,  0.02480712,\n",
       "        0.00690436, -0.00936586,  0.01256897,  0.04309965,  0.03993802,\n",
       "       -0.01545511, -0.03778697,  0.02845486,  0.01694705, -0.00643572,\n",
       "       -0.01222434,  0.00114175, -0.00746093, -0.00367822,  0.02841879,\n",
       "        0.00134367,  0.00250543, -0.00269715, -0.00430972, -0.02063049,\n",
       "       -0.00779533, -0.00133898, -0.00884822, -0.0002676 ,  0.05328209,\n",
       "       -0.01789651])"
      ]
     },
     "execution_count": 40,
     "metadata": {},
     "output_type": "execute_result"
    }
   ],
   "source": [
    "clf.coef_[0][nonzeroes]"
   ]
  },
  {
   "cell_type": "code",
   "execution_count": 59,
   "metadata": {
    "scrolled": true
   },
   "outputs": [
    {
     "name": "stdout",
     "output_type": "stream",
     "text": [
      "0.0532820919124\n",
      "2252013\n"
     ]
    }
   ],
   "source": [
    "print clf.coef_[0][nonzeroes].max()\n",
    "print nonzeroes[clf.coef_[0][nonzeroes].argmax()]"
   ]
  },
  {
   "cell_type": "code",
   "execution_count": 48,
   "metadata": {},
   "outputs": [
    {
     "data": {
      "text/plain": [
       "['eye_classifier.pkl']"
      ]
     },
     "execution_count": 48,
     "metadata": {},
     "output_type": "execute_result"
    }
   ],
   "source": [
    "from sklearn.externals import joblib\n",
    "joblib.dump(clf, 'eye_classifier.pkl') "
   ]
  }
 ],
 "metadata": {
  "kernelspec": {
   "display_name": "Python 2",
   "language": "python",
   "name": "python2"
  },
  "language_info": {
   "codemirror_mode": {
    "name": "ipython",
    "version": 2
   },
   "file_extension": ".py",
   "mimetype": "text/x-python",
   "name": "python",
   "nbconvert_exporter": "python",
   "pygments_lexer": "ipython2",
   "version": "2.7.13"
  }
 },
 "nbformat": 4,
 "nbformat_minor": 2
}

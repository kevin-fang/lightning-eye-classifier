{
 "cells": [
  {
   "cell_type": "code",
   "execution_count": 1,
   "metadata": {
    "collapsed": true
   },
   "outputs": [],
   "source": [
    "from sklearn.svm import LinearSVC\n",
    "import numpy as np\n",
    "import pandas as pd"
   ]
  },
  {
   "cell_type": "code",
   "execution_count": 2,
   "metadata": {
    "collapsed": true
   },
   "outputs": [],
   "source": [
    "# read names that have provided survey eye color data\n",
    "columns = ['name', 'left', 'right', 'left_desc', 'right_desc']\n",
    "# pgp eye color data from survey\n",
    "surveyData = pd.read_csv(\"PGP-eyecolor.csv\", names=columns, na_values=['nan', ''])\n",
    "# names of the pgp participants\n",
    "surveyNames = np.asarray(surveyData['name'].values.tolist())\n",
    "leftEyeColors = surveyData['left']\n",
    "rightEyeColors = surveyData['right']"
   ]
  },
  {
   "cell_type": "code",
   "execution_count": 3,
   "metadata": {
    "collapsed": true
   },
   "outputs": [],
   "source": [
    "# load numpy array of names\n",
    "pgpNames = np.load(\"names.npy\")\n",
    "# load numpy array of tiled data and delete the extra information\n",
    "pgp = np.load(\"hiq-pgp.npy\")\n",
    "for i in range(len(pgpNames)):\n",
    "    pgpNames[i] = pgpNames[i][:8]"
   ]
  },
  {
   "cell_type": "code",
   "execution_count": 4,
   "metadata": {
    "collapsed": true
   },
   "outputs": [],
   "source": [
    "def getData(name, surveyData):\n",
    "    for index, row in surveyData.iterrows():\n",
    "        if row['name'] == name:\n",
    "            return (row['left'], row['right'])"
   ]
  },
  {
   "cell_type": "code",
   "execution_count": 5,
   "metadata": {
    "collapsed": true
   },
   "outputs": [],
   "source": [
    "# populate name dictionaries with respective eye color data\n",
    "namePairIndices = []\n",
    "nameLeftEyeMap = {}\n",
    "nameRightEyeMap = {}\n",
    "for i in range(len(pgpNames)):\n",
    "    if pgpNames[i] in surveyNames:\n",
    "        eyeData = getData(pgpNames[i], surveyData)\n",
    "        namePairIndices.append((i, pgpNames[i]))\n",
    "        nameLeftEyeMap[pgpNames[i]] = eyeData[0]\n",
    "        nameRightEyeMap[pgpNames[i]] = eyeData[1]\n",
    "\n",
    "# create lists containing the known eye color names and the unknown ones.\n",
    "nameIndices = [nameIndex[0] for nameIndex in namePairIndices]\n",
    "knownData = pgp[nameIndices]\n",
    "unknownData = np.delete(pgp, nameIndices, axis=0)"
   ]
  },
  {
   "cell_type": "code",
   "execution_count": 6,
   "metadata": {
    "collapsed": true
   },
   "outputs": [],
   "source": [
    "# convert dictionaries to lists using knownData\n",
    "leftEyeNameList = []\n",
    "rightEyeNameList = []\n",
    "\n",
    "knownDataNames = [nameIndices]\n",
    "for nameTuple in namePairIndices:\n",
    "    leftEyeNameList.append(nameLeftEyeMap[nameTuple[1]])\n",
    "    rightEyeNameList.append(nameRightEyeMap[nameTuple[1]])\n",
    "    \n",
    "for i in range(len(leftEyeNameList)):\n",
    "    eyeColor = leftEyeNameList[i]\n",
    "    if eyeColor > 17:\n",
    "        leftEyeNameList[i] = 1\n",
    "    else:\n",
    "        leftEyeNameList[i] = 0"
   ]
  },
  {
   "cell_type": "code",
   "execution_count": 7,
   "metadata": {},
   "outputs": [
    {
     "data": {
      "image/png": "[encoded data removed]",
      "text/plain": [
       "<matplotlib.figure.Figure at 0xa9d4b70>"
      ]
     },
     "metadata": {},
     "output_type": "display_data"
    }
   ],
   "source": [
    "import matplotlib.pyplot as plt\n",
    "%matplotlib inline\n",
    "plt.hist(leftEyeNameList)\n",
    "plt.show()"
   ]
  },
  {
   "cell_type": "code",
   "execution_count": 15,
   "metadata": {},
   "outputs": [],
   "source": [
    "from sklearn.model_selection import cross_val_score\n",
    "\n",
    "\n",
    "crange = np.logspace(-3, 10, 20).tolist()\n",
    "scores = []\n",
    "stds = []\n",
    "for idC, Cval in enumerate(crange):\n",
    "    clf = LinearSVC(penalty='l1', class_weight='balanced', dual=False, C=Cval)\n",
    "    cvscores = cross_val_score(clf, knownData, leftEyeNameList, cv=10, scoring='accuracy')\n",
    "    scores.append(cvscores.mean())\n",
    "    stds.append(cvscores.std() * 2)\n",
    "    print \"id: \" + str(idC) + \", cval: \" + str(Cval) + \", mean:\" + str(cvscores.mean()) + \", std: \" + str(cvscores.std() * 2)"
   ]
  },
  {
   "cell_type": "code",
   "execution_count": 90,
   "metadata": {},
   "outputs": [
    {
     "data": {
      "image/png": "[encoded data removed]",
      "text/plain": [
       "<matplotlib.figure.Figure at 0x7fd12fc61b50>"
      ]
     },
     "metadata": {},
     "output_type": "display_data"
    }
   ],
   "source": [
    "plt.errorbar(crange, scores, [std / 2 for std in stds], marker=\"x\", elinewidth=1, linewidth=2)\n",
    "plt.title(\"Accuracy vs C value\")\n",
    "plt.xlabel(\"C value\")\n",
    "plt.ylabel(\"Accuracy Score\")\n",
    "plt.xscale(\"log\")\n",
    "ax = plt.subplot(111)\n",
    "\n",
    "plt.show()"
   ]
  },
  {
   "cell_type": "code",
   "execution_count": 9,
   "metadata": {},
   "outputs": [
    {
     "data": {
      "text/plain": [
       "0.6875"
      ]
     },
     "execution_count": 9,
     "metadata": {},
     "output_type": "execute_result"
    }
   ],
   "source": [
    "from sklearn.model_selection import train_test_split\n",
    "X_train, X_test, y_train, y_test = train_test_split(knownData, leftEyeNameList, test_size=.2, random_state=2)\n",
    "svc_test = LinearSVC(penalty='l1', class_weight='balanced', C=.113, dual=False)\n",
    "svc_test.fit(X_train, y_train)\n",
    "\n",
    "y_pred = svc_test.predict(X_test)\n",
    "accuracy_score(y_test, y_pred)"
   ]
  },
  {
   "cell_type": "code",
   "execution_count": 17,
   "metadata": {},
   "outputs": [
    {
     "data": {
      "text/plain": [
       "GridSearchCV(cv=10, error_score='raise',\n",
       "       estimator=LinearSVC(C=1.0, class_weight=None, dual=False, fit_intercept=True,\n",
       "     intercept_scaling=1, loss='squared_hinge', max_iter=1000,\n",
       "     multi_class='ovr', penalty='l2', random_state=None, tol=0.0001,\n",
       "     verbose=0),\n",
       "       fit_params={}, iid=True, n_jobs=1,\n",
       "       param_grid={'penalty': ['l1', 'l2'], 'C': [0.001, 0.004832930238571752, 0.023357214690901226, 0.11288378916846895, 0.545559478116852, 2.636650898730358, 12.742749857031347, 61.58482110660267, 297.63514416313194, 1438.449888287663, 6951.927961775606, 33598.18286283781, 162377.67391887243, 784759.9703514623, 3792690.1907322537, 18329807.108324375, 88586679.04100832, 428133239.8719396, 2069138081.1147902, 10000000000.0], 'class_weight': [None, 'balanced']},\n",
       "       pre_dispatch='2*n_jobs', refit=True, return_train_score=True,\n",
       "       scoring='accuracy', verbose=0)"
      ]
     },
     "execution_count": 17,
     "metadata": {},
     "output_type": "execute_result"
    }
   ],
   "source": [
    "from sklearn.model_selection import GridSearchCV\n",
    "\n",
    "crange = np.logspace(-3, 10, 20).tolist()\n",
    "reg = ['l1', 'l2']\n",
    "weight = [None, 'balanced']\n",
    "\n",
    "param_grid = dict(C=crange, penalty=reg, class_weight=weight)\n",
    "clf = LinearSVC(dual=False)\n",
    "grid = GridSearchCV(clf, param_grid, cv=10, scoring='accuracy')\n",
    "grid.fit(knownData, leftEyeNameList)"
   ]
  },
  {
   "cell_type": "code",
   "execution_count": 78,
   "metadata": {},
   "outputs": [
    {
     "name": "stdout",
     "output_type": "stream",
     "text": [
      "mean: 0.54430, std: 0.17498, params: {'penalty': 'l1', 'C': 0.001, 'class_weight': None}\n",
      "mean: 0.77215, std: 0.04227, params: {'penalty': 'l2', 'C': 0.001, 'class_weight': None}\n",
      "mean: 0.77215, std: 0.04227, params: {'penalty': 'l1', 'C': 0.001, 'class_weight': 'balanced'}\n",
      "mean: 0.77215, std: 0.04227, params: {'penalty': 'l2', 'C': 0.001, 'class_weight': 'balanced'}\n",
      "mean: 0.77215, std: 0.04227, params: {'penalty': 'l1', 'C': 0.004832930238571752, 'class_weight': None}\n",
      "mean: 0.77215, std: 0.04227, params: {'penalty': 'l2', 'C': 0.004832930238571752, 'class_weight': None}\n",
      "mean: 0.54430, std: 0.16399, params: {'penalty': 'l1', 'C': 0.004832930238571752, 'class_weight': 'balanced'}\n",
      "mean: 0.77215, std: 0.04227, params: {'penalty': 'l2', 'C': 0.004832930238571752, 'class_weight': 'balanced'}\n",
      "mean: 0.74684, std: 0.11028, params: {'penalty': 'l1', 'C': 0.023357214690901226, 'class_weight': None}\n",
      "mean: 0.77215, std: 0.04227, params: {'penalty': 'l2', 'C': 0.023357214690901226, 'class_weight': None}\n",
      "mean: 0.74684, std: 0.12694, params: {'penalty': 'l1', 'C': 0.023357214690901226, 'class_weight': 'balanced'}\n",
      "mean: 0.77215, std: 0.04227, params: {'penalty': 'l2', 'C': 0.023357214690901226, 'class_weight': 'balanced'}\n",
      "mean: 0.74684, std: 0.13569, params: {'penalty': 'l1', 'C': 0.11288378916846895, 'class_weight': None}\n",
      "mean: 0.77215, std: 0.04227, params: {'penalty': 'l2', 'C': 0.11288378916846895, 'class_weight': None}\n",
      "mean: 0.77215, std: 0.10732, params: {'penalty': 'l1', 'C': 0.11288378916846895, 'class_weight': 'balanced'}\n",
      "mean: 0.77215, std: 0.04227, params: {'penalty': 'l2', 'C': 0.11288378916846895, 'class_weight': 'balanced'}\n",
      "mean: 0.70886, std: 0.09748, params: {'penalty': 'l1', 'C': 0.545559478116852, 'class_weight': None}\n",
      "mean: 0.77215, std: 0.04227, params: {'penalty': 'l2', 'C': 0.545559478116852, 'class_weight': None}\n",
      "mean: 0.72152, std: 0.14378, params: {'penalty': 'l1', 'C': 0.545559478116852, 'class_weight': 'balanced'}\n",
      "mean: 0.77215, std: 0.04227, params: {'penalty': 'l2', 'C': 0.545559478116852, 'class_weight': 'balanced'}\n",
      "mean: 0.74684, std: 0.09438, params: {'penalty': 'l1', 'C': 2.636650898730358, 'class_weight': None}\n",
      "mean: 0.77215, std: 0.04227, params: {'penalty': 'l2', 'C': 2.636650898730358, 'class_weight': None}\n",
      "mean: 0.67089, std: 0.10732, params: {'penalty': 'l1', 'C': 2.636650898730358, 'class_weight': 'balanced'}\n",
      "mean: 0.77215, std: 0.04227, params: {'penalty': 'l2', 'C': 2.636650898730358, 'class_weight': 'balanced'}\n",
      "mean: 0.69620, std: 0.10718, params: {'penalty': 'l1', 'C': 12.742749857031347, 'class_weight': None}\n",
      "mean: 0.77215, std: 0.04227, params: {'penalty': 'l2', 'C': 12.742749857031347, 'class_weight': None}\n",
      "mean: 0.68354, std: 0.07567, params: {'penalty': 'l1', 'C': 12.742749857031347, 'class_weight': 'balanced'}\n",
      "mean: 0.77215, std: 0.04227, params: {'penalty': 'l2', 'C': 12.742749857031347, 'class_weight': 'balanced'}\n",
      "mean: 0.72152, std: 0.09168, params: {'penalty': 'l1', 'C': 61.58482110660267, 'class_weight': None}\n",
      "mean: 0.77215, std: 0.04227, params: {'penalty': 'l2', 'C': 61.58482110660267, 'class_weight': None}\n",
      "mean: 0.77215, std: 0.04227, params: {'penalty': 'l1', 'C': 61.58482110660267, 'class_weight': 'balanced'}\n",
      "mean: 0.77215, std: 0.04227, params: {'penalty': 'l2', 'C': 61.58482110660267, 'class_weight': 'balanced'}\n",
      "mean: 0.70886, std: 0.07744, params: {'penalty': 'l1', 'C': 297.63514416313194, 'class_weight': None}\n",
      "mean: 0.77215, std: 0.04227, params: {'penalty': 'l2', 'C': 297.63514416313194, 'class_weight': None}\n",
      "mean: 0.67089, std: 0.10858, params: {'penalty': 'l1', 'C': 297.63514416313194, 'class_weight': 'balanced'}\n",
      "mean: 0.77215, std: 0.04227, params: {'penalty': 'l2', 'C': 297.63514416313194, 'class_weight': 'balanced'}\n",
      "mean: 0.73418, std: 0.12168, params: {'penalty': 'l1', 'C': 1438.449888287663, 'class_weight': None}\n",
      "mean: 0.77215, std: 0.04227, params: {'penalty': 'l2', 'C': 1438.449888287663, 'class_weight': None}\n",
      "mean: 0.69620, std: 0.16187, params: {'penalty': 'l1', 'C': 1438.449888287663, 'class_weight': 'balanced'}\n",
      "mean: 0.77215, std: 0.04227, params: {'penalty': 'l2', 'C': 1438.449888287663, 'class_weight': 'balanced'}\n",
      "mean: 0.65823, std: 0.16826, params: {'penalty': 'l1', 'C': 6951.927961775606, 'class_weight': None}\n",
      "mean: 0.77215, std: 0.04227, params: {'penalty': 'l2', 'C': 6951.927961775606, 'class_weight': None}\n",
      "mean: 0.70886, std: 0.17543, params: {'penalty': 'l1', 'C': 6951.927961775606, 'class_weight': 'balanced'}\n",
      "mean: 0.77215, std: 0.04227, params: {'penalty': 'l2', 'C': 6951.927961775606, 'class_weight': 'balanced'}\n",
      "mean: 0.65823, std: 0.17468, params: {'penalty': 'l1', 'C': 33598.18286283781, 'class_weight': None}\n",
      "mean: 0.77215, std: 0.04227, params: {'penalty': 'l2', 'C': 33598.18286283781, 'class_weight': None}\n",
      "mean: 0.62025, std: 0.19130, params: {'penalty': 'l1', 'C': 33598.18286283781, 'class_weight': 'balanced'}\n",
      "mean: 0.77215, std: 0.04227, params: {'penalty': 'l2', 'C': 33598.18286283781, 'class_weight': 'balanced'}\n",
      "mean: 0.63291, std: 0.11086, params: {'penalty': 'l1', 'C': 162377.67391887243, 'class_weight': None}\n",
      "mean: 0.77215, std: 0.04227, params: {'penalty': 'l2', 'C': 162377.67391887243, 'class_weight': None}\n",
      "mean: 0.64557, std: 0.13614, params: {'penalty': 'l1', 'C': 162377.67391887243, 'class_weight': 'balanced'}\n",
      "mean: 0.77215, std: 0.04227, params: {'penalty': 'l2', 'C': 162377.67391887243, 'class_weight': 'balanced'}\n",
      "mean: 0.68354, std: 0.10210, params: {'penalty': 'l1', 'C': 784759.9703514623, 'class_weight': None}\n",
      "mean: 0.77215, std: 0.04227, params: {'penalty': 'l2', 'C': 784759.9703514623, 'class_weight': None}\n",
      "mean: 0.73418, std: 0.08343, params: {'penalty': 'l1', 'C': 784759.9703514623, 'class_weight': 'balanced'}\n",
      "mean: 0.77215, std: 0.04227, params: {'penalty': 'l2', 'C': 784759.9703514623, 'class_weight': 'balanced'}\n",
      "mean: 0.64557, std: 0.17186, params: {'penalty': 'l1', 'C': 3792690.1907322537, 'class_weight': None}\n",
      "mean: 0.77215, std: 0.04227, params: {'penalty': 'l2', 'C': 3792690.1907322537, 'class_weight': None}\n",
      "mean: 0.62025, std: 0.14197, params: {'penalty': 'l1', 'C': 3792690.1907322537, 'class_weight': 'balanced'}\n",
      "mean: 0.77215, std: 0.04227, params: {'penalty': 'l2', 'C': 3792690.1907322537, 'class_weight': 'balanced'}\n",
      "mean: 0.68354, std: 0.13202, params: {'penalty': 'l1', 'C': 18329807.108324375, 'class_weight': None}\n",
      "mean: 0.77215, std: 0.04227, params: {'penalty': 'l2', 'C': 18329807.108324375, 'class_weight': None}\n",
      "mean: 0.59494, std: 0.11613, params: {'penalty': 'l1', 'C': 18329807.108324375, 'class_weight': 'balanced'}\n",
      "mean: 0.77215, std: 0.04227, params: {'penalty': 'l2', 'C': 18329807.108324375, 'class_weight': 'balanced'}\n",
      "mean: 0.69620, std: 0.12382, params: {'penalty': 'l1', 'C': 88586679.04100832, 'class_weight': None}\n",
      "mean: 0.77215, std: 0.04227, params: {'penalty': 'l2', 'C': 88586679.04100832, 'class_weight': None}\n",
      "mean: 0.67089, std: 0.08381, params: {'penalty': 'l1', 'C': 88586679.04100832, 'class_weight': 'balanced'}\n",
      "mean: 0.77215, std: 0.04227, params: {'penalty': 'l2', 'C': 88586679.04100832, 'class_weight': 'balanced'}\n",
      "mean: 0.70886, std: 0.07995, params: {'penalty': 'l1', 'C': 428133239.8719396, 'class_weight': None}\n",
      "mean: 0.77215, std: 0.04227, params: {'penalty': 'l2', 'C': 428133239.8719396, 'class_weight': None}\n",
      "mean: 0.58228, std: 0.17178, params: {'penalty': 'l1', 'C': 428133239.8719396, 'class_weight': 'balanced'}\n",
      "mean: 0.77215, std: 0.04227, params: {'penalty': 'l2', 'C': 428133239.8719396, 'class_weight': 'balanced'}\n",
      "mean: 0.58228, std: 0.10942, params: {'penalty': 'l1', 'C': 2069138081.1147902, 'class_weight': None}\n",
      "mean: 0.77215, std: 0.04227, params: {'penalty': 'l2', 'C': 2069138081.1147902, 'class_weight': None}\n",
      "mean: 0.64557, std: 0.12938, params: {'penalty': 'l1', 'C': 2069138081.1147902, 'class_weight': 'balanced'}\n",
      "mean: 0.77215, std: 0.04227, params: {'penalty': 'l2', 'C': 2069138081.1147902, 'class_weight': 'balanced'}\n",
      "mean: 0.67089, std: 0.08381, params: {'penalty': 'l1', 'C': 10000000000.0, 'class_weight': None}\n",
      "mean: 0.77215, std: 0.04227, params: {'penalty': 'l2', 'C': 10000000000.0, 'class_weight': None}\n",
      "mean: 0.70886, std: 0.15603, params: {'penalty': 'l1', 'C': 10000000000.0, 'class_weight': 'balanced'}\n",
      "mean: 0.77215, std: 0.04227, params: {'penalty': 'l2', 'C': 10000000000.0, 'class_weight': 'balanced'}\n"
     ]
    },
    {
     "name": "stderr",
     "output_type": "stream",
     "text": [
      "C:\\Users\\kfang\\Miniconda2\\lib\\site-packages\\sklearn\\model_selection\\_search.py:667: DeprecationWarning: The grid_scores_ attribute was deprecated in version 0.18 in favor of the more elaborate cv_results_ attribute. The grid_scores_ attribute will not be available from 0.20\n",
      "  DeprecationWarning)\n"
     ]
    }
   ],
   "source": [
    "for score in grid.grid_scores_:\n",
    "    print score"
   ]
  },
  {
   "cell_type": "code",
   "execution_count": 11,
   "metadata": {},
   "outputs": [
    {
     "data": {
      "text/plain": [
       "array([-0.00182618, -0.04088134, -0.02454371, -0.04850267,  0.02532416,\n",
       "       -0.00520539,  0.0508477 ,  0.02672121,  0.00660492, -0.03156453,\n",
       "        0.05320828,  0.01364585,  0.00187606,  0.00123597,  0.0083509 ,\n",
       "        0.01547678, -0.0022404 , -0.00759769,  0.00766148,  0.01274698,\n",
       "       -0.00767599, -0.02183199,  0.03558189, -0.04799621,  0.01672696,\n",
       "        0.01293048, -0.01080662,  0.01095777, -0.0038741 ,  0.01744841,\n",
       "        0.00283146,  0.06307764,  0.02530392, -0.01929475, -0.00727601,\n",
       "        0.01352809,  0.01130878, -0.01666181, -0.00338396,  0.02331226,\n",
       "       -0.00506788, -0.01188222,  0.00409137, -0.00048353, -0.01253392,\n",
       "       -0.00673985,  0.0038353 , -0.00896231, -0.00723344, -0.00119317,\n",
       "       -0.01666841, -0.0063774 , -0.01941339])"
      ]
     },
     "execution_count": 11,
     "metadata": {},
     "output_type": "execute_result"
    }
   ],
   "source": [
    "nonzeroes = np.nonzero(clf.coef_)[1]\n",
    "clf.coef_[0][nonzeroes]"
   ]
  },
  {
   "cell_type": "code",
   "execution_count": 12,
   "metadata": {
    "scrolled": true
   },
   "outputs": [
    {
     "name": "stdout",
     "output_type": "stream",
     "text": [
      "0.0630776357992\n",
      "1207239\n"
     ]
    }
   ],
   "source": [
    "print clf.coef_[0][nonzeroes].max()\n",
    "print nonzeroes[clf.coef_[0][nonzeroes].argmax()]"
   ]
  },
  {
   "cell_type": "code",
   "execution_count": 48,
   "metadata": {},
   "outputs": [
    {
     "data": {
      "text/plain": [
       "['eye_classifier.pkl']"
      ]
     },
     "execution_count": 48,
     "metadata": {},
     "output_type": "execute_result"
    }
   ],
   "source": [
    "from sklearn.externals import joblib\n",
    "joblib.dump(clf, 'eye_classifier.pkl') "
   ]
  }
 ],
 "metadata": {
  "kernelspec": {
   "display_name": "Python 2",
   "language": "python",
   "name": "python2"
  },
  "language_info": {
   "codemirror_mode": {
    "name": "ipython",
    "version": 2
   },
   "file_extension": ".py",
   "mimetype": "text/x-python",
   "name": "python",
   "nbconvert_exporter": "python",
   "pygments_lexer": "ipython2",
   "version": "2.7.12"
  }
 },
 "nbformat": 4,
 "nbformat_minor": 2
}

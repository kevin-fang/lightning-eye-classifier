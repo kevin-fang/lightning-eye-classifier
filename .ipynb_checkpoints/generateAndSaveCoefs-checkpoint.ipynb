{
 "cells": [
  {
   "cell_type": "code",
   "execution_count": 1,
   "metadata": {
    "collapsed": true
   },
   "outputs": [],
   "source": [
    "import numpy as np\n",
    "import pandas as pd\n",
    "from sklearn.model_selection import cross_val_score, train_test_split\n",
    "from sklearn.externals import joblib"
   ]
  },
  {
   "cell_type": "code",
   "execution_count": 2,
   "metadata": {
    "collapsed": true
   },
   "outputs": [],
   "source": [
    "# load the saved support vector classifier\n",
    "svc_test = joblib.load(\"svc.pkl\")"
   ]
  },
  {
   "cell_type": "code",
   "execution_count": 3,
   "metadata": {
    "scrolled": true
   },
   "outputs": [
    {
     "name": "stdout",
     "output_type": "stream",
     "text": [
      "(1792420, 0.32377296437978126)\n",
      "(981082, 0.10071466224607553)\n",
      "(1472632, 0.10004687962599469)\n",
      "(1007310, 0.073570042259986673)\n",
      "(444129, 0.044645829704424697)\n",
      "(865338, 0.039904049588467341)\n",
      "(489736, 0.032733481998139954)\n",
      "(174453, 0.03028798125116906)\n",
      "(238309, 0.027402551647493275)\n",
      "(1660670, 0.018418032119856039)\n",
      "(1370239, 0.016896827782897486)\n",
      "(2143615, 0.016119292063380149)\n",
      "(1794813, 0.014781025928000877)\n",
      "(2086601, 0.014292217217703176)\n",
      "(834607, 0.012978605556549514)\n",
      "(579768, 0.012709986568661664)\n",
      "(1843740, 0.0093053888802837239)\n",
      "(279543, 0.0082453907008252763)\n",
      "(809281, 0.0081892919411654976)\n",
      "(2256145, 0.0081670042583185595)\n",
      "(1580503, 0.0072392556672705669)\n",
      "(1335343, 0.0055212986720293072)\n",
      "(1801942, 0.0049693892406090382)\n",
      "(1736283, 0.0036552546302164707)\n",
      "(2461521, 0.0027973896987101062)\n",
      "(2461523, 0.0019325328074356386)\n",
      "(438621, 0.0019148118143763933)\n",
      "(890474, 0.00076361671290500256)\n",
      "(2088513, 0.00044580332148265141)\n",
      "(1903788, -0.0030092676843346596)\n",
      "(2166165, -0.0036593192847947458)\n",
      "(2461525, -0.0036660694603381275)\n",
      "(1435117, -0.0057176290297666675)\n",
      "(596168, -0.0061010216356870333)\n",
      "(1021400, -0.0064516209264432666)\n",
      "(674644, -0.010979087033502819)\n",
      "(2043646, -0.012543040960299796)\n",
      "(2043901, -0.013024070727335005)\n",
      "(2088511, -0.013992868872565673)\n",
      "(2189921, -0.014374027949904071)\n",
      "(1081477, -0.015148591303055127)\n",
      "(1594144, -0.016186693562914054)\n",
      "(402803, -0.017731724176088592)\n",
      "(12624, -0.022658761580037247)\n",
      "(1170439, -0.022958914248952071)\n",
      "(579760, -0.023090082786820267)\n",
      "(2393717, -0.028110080516664495)\n",
      "(768874, -0.030805390822326081)\n",
      "(137247, -0.033489595767074387)\n",
      "(481212, -0.036143133642743658)\n",
      "(71357, -0.037281087793868233)\n",
      "(200986, -0.038487311080642662)\n",
      "(903627, -0.044586729309673195)\n",
      "(1321008, -0.05425144475037668)\n",
      "(342019, -0.072250207085966162)\n",
      "(1257816, -0.073438478704994523)\n"
     ]
    }
   ],
   "source": [
    "# retrieve all the nonzero coefficients and zip them with their respective indices\n",
    "nonzeroes = np.nonzero(svc_test.coef_[0])[0]\n",
    "coefs = zip(nonzeroes, svc_test.coef_[0][nonzeroes])\n",
    "\n",
    "# sort the coefficients by their value, instead of index\n",
    "coefs.sort(key = lambda x: x[1], reverse=True)\n",
    "\n",
    "for coef in coefs:\n",
    "    print coef"
   ]
  },
  {
   "cell_type": "code",
   "execution_count": 4,
   "metadata": {
    "collapsed": true
   },
   "outputs": [],
   "source": [
    "# save just the coefficient values\n",
    "firstCoefs = [coef[0] for coef in coefs]\n",
    "indices = np.asarray(firstCoefs)\n",
    "\n",
    "# dump the coefficients for tiling analysis\n",
    "indices.dump(\"coefs.pkl\")"
   ]
  }
 ],
 "metadata": {
  "kernelspec": {
   "display_name": "Python 2",
   "language": "python",
   "name": "python2"
  },
  "language_info": {
   "codemirror_mode": {
    "name": "ipython",
    "version": 2
   },
   "file_extension": ".py",
   "mimetype": "text/x-python",
   "name": "python",
   "nbconvert_exporter": "python",
   "pygments_lexer": "ipython2",
   "version": "2.7.13"
  }
 },
 "nbformat": 4,
 "nbformat_minor": 2
}

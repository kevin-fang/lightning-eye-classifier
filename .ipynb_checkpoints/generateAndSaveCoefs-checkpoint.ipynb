{
 "cells": [
  {
   "cell_type": "code",
   "execution_count": 21,
   "metadata": {
    "collapsed": true
   },
   "outputs": [],
   "source": [
    "import numpy as np\n",
    "import pandas as pd\n",
    "from sklearn.model_selection import cross_val_score, train_test_split\n",
    "from sklearn.externals import joblib"
   ]
  },
  {
   "cell_type": "code",
   "execution_count": 22,
   "metadata": {
    "collapsed": true
   },
   "outputs": [],
   "source": [
    "# load the saved support vector classifier\n",
    "svc_test = joblib.load(\"svc.pkl\")"
   ]
  },
  {
   "cell_type": "code",
   "execution_count": 23,
   "metadata": {
    "scrolled": true
   },
   "outputs": [
    {
     "name": "stdout",
     "output_type": "stream",
     "text": [
      "(1792420, 0.85199611991986213)\n",
      "(1570048, 0.13864484838155355)\n",
      "(1531647, 0.07095861924875814)\n",
      "(2334997, 0.063102352195598302)\n",
      "(1229091, 0.048711381623923786)\n",
      "(293783, 0.032535122957303764)\n",
      "(1433155, 0.027077879982136691)\n",
      "(1792082, 0.026227757997281387)\n",
      "(2308447, 0.010484185733816069)\n",
      "(775746, 0.0095161035971463963)\n",
      "(534975, 0.0083488749253270034)\n",
      "(878875, 0.0078004261619663718)\n",
      "(2187885, 0.0067342360970508025)\n",
      "(1911970, 0.0064900310293406404)\n",
      "(2453399, 0.0046379078586830901)\n",
      "(1232530, 0.0035818647569940223)\n",
      "(1986871, 0.0033566999763001708)\n",
      "(767366, 0.0023257948200298426)\n",
      "(926831, 0.0016631989377057122)\n",
      "(1741051, 0.0011381115162369636)\n",
      "(94715, 0.000800700468106973)\n",
      "(1457789, 0.0001593744622758323)\n",
      "(624685, 3.3830518537195109e-05)\n",
      "(1328446, -9.6084144300328465e-05)\n",
      "(16763, -0.00019798933433876994)\n",
      "(893241, -0.00040091485581909565)\n",
      "(1430873, -0.00089357109187329165)\n",
      "(1893821, -0.0019106672873999966)\n",
      "(271169, -0.0030454779750578248)\n",
      "(200986, -0.0086481082136695749)\n",
      "(2063747, -0.0092468324515508696)\n",
      "(2319627, -0.010819273861313298)\n",
      "(2221351, -0.012849027085151812)\n",
      "(2274388, -0.016085942078951195)\n",
      "(1673845, -0.018536959981838949)\n",
      "(813895, -0.06597642748598341)\n"
     ]
    }
   ],
   "source": [
    "# retrieve all the nonzero coefficients and zip them with their respective indices\n",
    "nonzeroes = np.nonzero(svc_test.coef_[0])[0]\n",
    "coefs = zip(nonzeroes, svc_test.coef_[0][nonzeroes])\n",
    "\n",
    "# sort the coefficients by their value, instead of index\n",
    "coefs.sort(key = lambda x: x[1], reverse=True)\n",
    "\n",
    "for coef in coefs:\n",
    "    print coef"
   ]
  },
  {
   "cell_type": "code",
   "execution_count": 8,
   "metadata": {
    "collapsed": true
   },
   "outputs": [],
   "source": [
    "# save just the coefficient values\n",
    "firstCoefs = [coef[0] for coef in coefs]\n",
    "indices = np.asarray(firstCoefs)\n",
    "\n",
    "# dump the coefficients for tiling analysis\n",
    "indices.dump(\"coefs.pkl\")"
   ]
  },
  {
   "cell_type": "code",
   "execution_count": 24,
   "metadata": {},
   "outputs": [
    {
     "data": {
      "text/plain": [
       "36"
      ]
     },
     "execution_count": 24,
     "metadata": {},
     "output_type": "execute_result"
    }
   ],
   "source": [
    "len(coefs)"
   ]
  },
  {
   "cell_type": "code",
   "execution_count": null,
   "metadata": {
    "collapsed": true
   },
   "outputs": [],
   "source": []
  }
 ],
 "metadata": {
  "kernelspec": {
   "display_name": "Python 2",
   "language": "python",
   "name": "python2"
  },
  "language_info": {
   "codemirror_mode": {
    "name": "ipython",
    "version": 2
   },
   "file_extension": ".py",
   "mimetype": "text/x-python",
   "name": "python",
   "nbconvert_exporter": "python",
   "pygments_lexer": "ipython2",
   "version": "2.7.13"
  }
 },
 "nbformat": 4,
 "nbformat_minor": 2
}

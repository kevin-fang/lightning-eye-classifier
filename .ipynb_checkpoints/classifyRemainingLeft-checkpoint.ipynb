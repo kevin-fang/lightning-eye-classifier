{
 "cells": [
  {
   "cell_type": "code",
   "execution_count": 1,
   "metadata": {
    "collapsed": true
   },
   "outputs": [],
   "source": [
    "from sklearn.svm import LinearSVC\n",
    "from sklearn import preprocessing\n",
    "import numpy as np\n",
    "import pandas as pd\n",
    "from sklearn.externals import joblib\n",
    "from sklearn.model_selection import cross_val_score, train_test_split\n",
    "from sklearn.metrics import accuracy_score, confusion_matrix\n",
    "import matplotlib.pyplot as plt\n",
    "%matplotlib inline"
   ]
  },
  {
   "cell_type": "code",
   "execution_count": 2,
   "metadata": {
    "collapsed": true
   },
   "outputs": [],
   "source": [
    "# read names that have provided survey eye color data\n",
    "columns = ['name', 'left', 'right', 'left_desc', 'right_desc']\n",
    "\n",
    "# pgp eye color data from survey\n",
    "surveyData = pd.read_csv(\"./eye_color_data/PGP-eyecolor.csv\", names=columns, na_values=['nan', ''])\n",
    "\n",
    "# names of the pgp participants\n",
    "surveyNames = np.asarray(surveyData['name'].values.tolist())"
   ]
  },
  {
   "cell_type": "code",
   "execution_count": 3,
   "metadata": {
    "collapsed": true
   },
   "outputs": [],
   "source": [
    "# load numpy array of names and keep only the huID\n",
    "pgpNames = np.load(\"names.npy\")\n",
    "for i in range(len(pgpNames)):\n",
    "    pgpNames[i] = pgpNames[i][:8]\n",
    "\n",
    "# load numpy array of tiled PGP data \n",
    "pgp = np.load(\"hiq-pgp.npy\")"
   ]
  },
  {
   "cell_type": "code",
   "execution_count": 4,
   "metadata": {
    "collapsed": true
   },
   "outputs": [],
   "source": [
    "# lookup a name in the survey data and return a tuple of the eye colors\n",
    "def getData(name, surveyData):\n",
    "    for index, row in surveyData.iterrows():\n",
    "        if row['name'] == name:\n",
    "            return (row['left'], row['right'])"
   ]
  },
  {
   "cell_type": "code",
   "execution_count": 5,
   "metadata": {
    "collapsed": true
   },
   "outputs": [],
   "source": [
    "# list of tuples for index and name with eye color data\n",
    "namePairIndices = []\n",
    "\n",
    "# dictionary of left and right eye colors with respective name, i.e., {\"huID\": 12}\n",
    "nameLeftEyeMap = {}\n",
    "nameRightEyeMap = {}\n",
    "\n",
    "existingNames = []\n",
    "\n",
    "# loop through pgpNames and add eye color to maps, making sure not to add the same name twice\n",
    "for i in range(len(pgpNames)):\n",
    "    name = pgpNames[i]\n",
    "    if name in surveyNames and name not in existingNames:\n",
    "        existingNames.append(name)\n",
    "        eyeData = getData(name, surveyData)\n",
    "        namePairIndices.append((i, name))\n",
    "        nameLeftEyeMap[name] = eyeData[0]\n",
    "        nameRightEyeMap[name] = eyeData[1]\n",
    "\n",
    "# create lists containing the known eye color names and the unknown eye colors.\n",
    "nameIndices = [nameIndex[0] for nameIndex in namePairIndices]\n",
    "knownData = pgp[nameIndices]\n",
    "unknownData = np.delete(pgp, nameIndices, axis=0)"
   ]
  },
  {
   "cell_type": "code",
   "execution_count": 6,
   "metadata": {
    "collapsed": true
   },
   "outputs": [],
   "source": [
    "clf = joblib.load(\"svc.pkl\")"
   ]
  },
  {
   "cell_type": "code",
   "execution_count": 7,
   "metadata": {},
   "outputs": [
    {
     "data": {
      "text/plain": [
       "array([[  8.30662386,  11.78982612,   0.        , ...,   0.        ,\n",
       "          0.        ,  -0.08481889],\n",
       "       [ -0.12038585,  -0.08481889,   0.        , ...,   0.        ,\n",
       "          0.        ,  -0.08481889],\n",
       "       [ -0.12038585,  -0.08481889,   0.        , ...,   0.        ,\n",
       "          0.        ,  -0.08481889],\n",
       "       ..., \n",
       "       [ -0.12038585,  -0.08481889,   0.        , ...,   0.        ,\n",
       "          0.        ,  -0.08481889],\n",
       "       [ -0.12038585,  -0.08481889,   0.        , ...,   0.        ,\n",
       "          0.        ,  -0.08481889],\n",
       "       [ -0.12038585,  -0.08481889,   0.        , ...,   0.        ,\n",
       "          0.        ,  -0.08481889]])"
      ]
     },
     "execution_count": 7,
     "metadata": {},
     "output_type": "execute_result"
    }
   ],
   "source": [
    "unknownData = preprocessing.scale(unknownData.astype('double'))\n",
    "unknownData"
   ]
  },
  {
   "cell_type": "code",
   "execution_count": 11,
   "metadata": {},
   "outputs": [
    {
     "name": "stdout",
     "output_type": "stream",
     "text": [
      "[0 0 1 0 1 1 0 0 0 1 0 0 1 1 1 0 0 0 0 0 1 1 1 0 0 0 1 0 1 0 1 0 0 0 0 0 0\n",
      " 1 0 0 0 0 1 1 0 1 1 1 0 1 0 1 0 1 1 1 1 0 1 0 1 1 0 1 0 0 1 1 0 1 0 1 1 1\n",
      " 1 1 1 0 0 1 1 0 1 0 1 0 0 1 0 0 0 1 0 0 1 0 0 0 0 1 0 1 0 0 1 0 1 1 1 0 0\n",
      " 1 0 0 0 0 1 1 1 0 0 1 0 1 1 0 1 1 1 1 0 0 0 1 0 1 0 1 0 1]\n"
     ]
    }
   ],
   "source": [
    "vals = clf.predict(unknownData)\n",
    "print vals"
   ]
  },
  {
   "cell_type": "code",
   "execution_count": 9,
   "metadata": {},
   "outputs": [
    {
     "name": "stdout",
     "output_type": "stream",
     "text": [
      "Counter({0: 74, 1: 66})\n"
     ]
    }
   ],
   "source": [
    "import collections\n",
    "print collections.Counter(vals)"
   ]
  },
  {
   "cell_type": "code",
   "execution_count": 19,
   "metadata": {},
   "outputs": [
    {
     "name": "stdout",
     "output_type": "stream",
     "text": [
      "-0.816639532516\n",
      "-0.816639532516\n",
      "2.49726001972\n",
      "-0.816639532516\n",
      "0.840310243604\n",
      "0.840310243604\n",
      "-0.816639532516\n",
      "-0.816639532516\n",
      "-0.816639532516\n",
      "0.840310243604\n",
      "-0.816639532516\n",
      "-0.816639532516\n",
      "0.840310243604\n",
      "0.840310243604\n",
      "-0.816639532516\n",
      "-0.816639532516\n",
      "-0.816639532516\n",
      "-0.816639532516\n",
      "-0.816639532516\n",
      "-0.816639532516\n",
      "0.840310243604\n",
      "0.840310243604\n",
      "0.840310243604\n",
      "-0.816639532516\n",
      "-0.816639532516\n",
      "-0.816639532516\n",
      "0.840310243604\n",
      "-0.816639532516\n",
      "0.840310243604\n",
      "-0.816639532516\n",
      "0.840310243604\n",
      "-0.816639532516\n",
      "-0.816639532516\n",
      "-0.816639532516\n",
      "-0.816639532516\n",
      "-0.816639532516\n",
      "-0.816639532516\n",
      "0.840310243604\n",
      "-0.816639532516\n",
      "-0.816639532516\n",
      "-0.816639532516\n",
      "-0.816639532516\n",
      "0.840310243604\n",
      "0.840310243604\n",
      "-0.816639532516\n",
      "0.840310243604\n",
      "0.840310243604\n",
      "0.840310243604\n",
      "-0.816639532516\n",
      "0.840310243604\n",
      "-0.816639532516\n",
      "0.840310243604\n",
      "-0.816639532516\n",
      "0.840310243604\n",
      "0.840310243604\n",
      "-0.816639532516\n",
      "0.840310243604\n",
      "-0.816639532516\n",
      "5.81115957196\n",
      "-0.816639532516\n",
      "0.840310243604\n",
      "0.840310243604\n",
      "-0.816639532516\n",
      "0.840310243604\n",
      "-0.816639532516\n",
      "-0.816639532516\n",
      "0.840310243604\n",
      "0.840310243604\n",
      "-0.816639532516\n",
      "0.840310243604\n",
      "-0.816639532516\n",
      "0.840310243604\n",
      "0.840310243604\n",
      "0.840310243604\n",
      "0.840310243604\n",
      "0.840310243604\n",
      "0.840310243604\n",
      "-0.816639532516\n",
      "-0.816639532516\n",
      "0.840310243604\n",
      "0.840310243604\n",
      "-0.816639532516\n",
      "0.840310243604\n",
      "-0.816639532516\n",
      "0.840310243604\n",
      "-0.816639532516\n",
      "-0.816639532516\n",
      "0.840310243604\n",
      "-0.816639532516\n",
      "-0.816639532516\n",
      "-0.816639532516\n",
      "0.840310243604\n",
      "-0.816639532516\n",
      "-0.816639532516\n",
      "0.840310243604\n",
      "-0.816639532516\n",
      "-0.816639532516\n",
      "-0.816639532516\n",
      "-0.816639532516\n",
      "0.840310243604\n",
      "-0.816639532516\n",
      "0.840310243604\n",
      "-0.816639532516\n",
      "-0.816639532516\n",
      "0.840310243604\n",
      "-0.816639532516\n",
      "0.840310243604\n",
      "0.840310243604\n",
      "0.840310243604\n",
      "-0.816639532516\n",
      "-0.816639532516\n",
      "0.840310243604\n",
      "-0.816639532516\n",
      "-0.816639532516\n",
      "-0.816639532516\n",
      "-0.816639532516\n",
      "0.840310243604\n",
      "0.840310243604\n",
      "0.840310243604\n",
      "-0.816639532516\n",
      "-0.816639532516\n",
      "0.840310243604\n",
      "-0.816639532516\n",
      "0.840310243604\n",
      "0.840310243604\n",
      "-0.816639532516\n",
      "0.840310243604\n",
      "0.840310243604\n",
      "0.840310243604\n",
      "2.49726001972\n",
      "-0.816639532516\n",
      "-0.816639532516\n",
      "-0.816639532516\n",
      "0.840310243604\n",
      "-0.816639532516\n",
      "0.840310243604\n",
      "-0.816639532516\n",
      "0.840310243604\n",
      "-0.816639532516\n",
      "0.840310243604\n"
     ]
    }
   ],
   "source": [
    "for data in unknownData:\n",
    "    print data[1792420]"
   ]
  },
  {
   "cell_type": "code",
   "execution_count": null,
   "metadata": {
    "collapsed": true
   },
   "outputs": [],
   "source": []
  }
 ],
 "metadata": {
  "kernelspec": {
   "display_name": "Python 2",
   "language": "python",
   "name": "python2"
  },
  "language_info": {
   "codemirror_mode": {
    "name": "ipython",
    "version": 2
   },
   "file_extension": ".py",
   "mimetype": "text/x-python",
   "name": "python",
   "nbconvert_exporter": "python",
   "pygments_lexer": "ipython2",
   "version": "2.7.13"
  }
 },
 "nbformat": 4,
 "nbformat_minor": 2
}

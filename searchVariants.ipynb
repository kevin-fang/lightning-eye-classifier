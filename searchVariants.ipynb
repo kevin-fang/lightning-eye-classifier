{
 "cells": [
  {
   "cell_type": "code",
   "execution_count": 12,
   "metadata": {
    "collapsed": true
   },
   "outputs": [],
   "source": [
    "with open(\"tileVariants-288.txt\") as f:\n",
    "    vals288 = f.read().split('\\n')[:-1]\n",
    "with open(\"tileVariants-287.txt\") as f:\n",
    "    vals287 = f.read().split('\\n')[:-1]"
   ]
  },
  {
   "cell_type": "code",
   "execution_count": 19,
   "metadata": {},
   "outputs": [],
   "source": [
    "for i, val in enumerate(vals288):\n",
    "    vals288[i] = val[52:]\n",
    "for i, val in enumerate(vals287):\n",
    "    vals287[i] = val[52:]"
   ]
  },
  {
   "cell_type": "code",
   "execution_count": 26,
   "metadata": {},
   "outputs": [
    {
     "data": {
      "text/plain": [
       "['actatagcctggggccaacgctgcagaaccacaagcactgttttgcccagtatgaagcaccccaccgcatcccccttaggtcacgatgtgccaagagcgcttgctgcaggaaagggaagggcgcctgccctcaggaggactgacaaccatggcccgcagcgcagaaggtcaaggtcaagctcagggaccctccagaacttgcctttgttcgtggctgatccggggacgtgacgacgactgtgttgcaga',\n",
       " 'actatagcctggggccaacgctgcagaaccacaagcactgttttgcccagtatgaagcaccccaccgcatcccccttaggtcacgatgtgccaagagcgcttgctgcaggaaagggaagggcgcctgccctcaggaggactgacaaccatggcccgcagcgcagaaggtcaaggtcaagctcagggacccttcagaacttgcctttgttcgtggctgatccggggacgtgacgacgactgtgttgcaga',\n",
       " 'actatagcctggggccaacgctgcagaaccacaagcactgttttgcccagtatgaagcaccccaccgcatcccccttaggtcacgatgtgccaagagcgcttgctgcaggaaagggaagggcgcctgccctcaggaggactgacaaccatggcccgcagcacagaaggtcaaggtcaagctcagggaccctccagaacttgcctttgttcgtggctgatccggggacgtgacgacgactgtgttgcaga',\n",
       " 'actatagcctggggccaacgctgcagaaccacaagcactgctttgcccagtatgaagcaccccaccgcatcccccttaggtcacgatgtgccaagagcgcttgctgcaggaaagggaagggcgcctgccctcaggaggactgacaaccatggcccgcagcacagaaggtcaaggtcaagctcagggaccctccagaacttgcctttgttcgtggctgatccggggacgtgacgacgactgtgttgcaga',\n",
       " 'actatagcctggggccaacgctgcagaaccacaagcactgttttgcccagtatgaagcaccccaccgcatcccccttaggtcacgatgtgccaaaagcgcttgctgcaggaaagggaagggcgcctgccctcaggaggactgacaaccatggcccgcagcgcagaaggtcaaggtcaagctcagggaccctccagaacttgcctttgttcgtggctgatccggggacgtgacgacgactgtgttgcaga']"
      ]
     },
     "execution_count": 26,
     "metadata": {},
     "output_type": "execute_result"
    }
   ],
   "source": [
    "vals287"
   ]
  },
  {
   "cell_type": "code",
   "execution_count": 21,
   "metadata": {},
   "outputs": [
    {
     "name": "stdout",
     "output_type": "stream",
     "text": [
      "62 a g a g a g\n",
      "81 a a a a g a\n",
      "137 a a a a a g\n",
      "177 c c a a c a\n"
     ]
    }
   ],
   "source": [
    "for i, bases in enumerate(vals288[0]):\n",
    "    equal = vals288[0][i] == vals288[1][i] == vals288[2][i] == vals288[3][i] == vals288[4][i] == vals288[5][i]\n",
    "    if not equal:\n",
    "        print i,\n",
    "        for x in vals288:\n",
    "            print x[i],\n",
    "        print"
   ]
  },
  {
   "cell_type": "code",
   "execution_count": 27,
   "metadata": {},
   "outputs": [
    {
     "name": "stdout",
     "output_type": "stream",
     "text": [
      "40 t t t c t\n",
      "94 g g g g a\n",
      "160 g g a a g\n",
      "191 c t c c c\n"
     ]
    }
   ],
   "source": [
    "for i, bases in enumerate(vals287[0]):\n",
    "    equal = vals287[0][i] == vals287[1][i] == vals287[2][i] == vals287[3][i] == vals287[4][i]\n",
    "    if not equal:\n",
    "        print i,\n",
    "        for x in vals287:\n",
    "            print x[i],\n",
    "        print"
   ]
  },
  {
   "cell_type": "code",
   "execution_count": null,
   "metadata": {
    "collapsed": true
   },
   "outputs": [],
   "source": []
  }
 ],
 "metadata": {
  "kernelspec": {
   "display_name": "Python 2",
   "language": "python",
   "name": "python2"
  },
  "language_info": {
   "codemirror_mode": {
    "name": "ipython",
    "version": 2
   },
   "file_extension": ".py",
   "mimetype": "text/x-python",
   "name": "python",
   "nbconvert_exporter": "python",
   "pygments_lexer": "ipython2",
   "version": "2.7.13"
  }
 },
 "nbformat": 4,
 "nbformat_minor": 2
}

{
 "cells": [
  {
   "cell_type": "code",
   "execution_count": 1,
   "metadata": {
    "collapsed": true
   },
   "outputs": [],
   "source": [
    "from sklearn.svm import LinearSVC\n",
    "import numpy as np\n",
    "import pandas as pd\n",
    "from sklearn.model_selection import cross_val_score, train_test_split\n",
    "from sklearn.metrics import accuracy_score, confusion_matrix"
   ]
  },
  {
   "cell_type": "code",
   "execution_count": 2,
   "metadata": {
    "collapsed": true
   },
   "outputs": [],
   "source": [
    "# read names that have provided survey eye color data\n",
    "columns = ['name', 'left', 'right', 'left_desc', 'right_desc']\n",
    "# pgp eye color data from survey\n",
    "surveyData = pd.read_csv(\"PGP-eyecolor.csv\", names=columns, na_values=['nan', ''])\n",
    "# names of the pgp participants\n",
    "surveyNames = np.asarray(surveyData['name'].values.tolist())\n",
    "leftEyeColors = surveyData['left']\n",
    "rightEyeColors = surveyData['right']"
   ]
  },
  {
   "cell_type": "code",
   "execution_count": 3,
   "metadata": {
    "collapsed": true
   },
   "outputs": [],
   "source": [
    "# load numpy array of names\n",
    "pgpNames = np.load(\"names.npy\")\n",
    "# load numpy array of tiled data and delete the extra information\n",
    "pgp = np.load(\"hiq-pgp.npy\")\n",
    "for i in range(len(pgpNames)):\n",
    "    pgpNames[i] = pgpNames[i][:8]"
   ]
  },
  {
   "cell_type": "code",
   "execution_count": 4,
   "metadata": {
    "collapsed": true
   },
   "outputs": [],
   "source": [
    "def getData(name, surveyData):\n",
    "    for index, row in surveyData.iterrows():\n",
    "        if row['name'] == name:\n",
    "            return (row['left'], row['right'])"
   ]
  },
  {
   "cell_type": "code",
   "execution_count": 5,
   "metadata": {
    "collapsed": true
   },
   "outputs": [],
   "source": [
    "# populate name dictionaries with respective eye color data\n",
    "namePairIndices = []\n",
    "nameLeftEyeMap = {}\n",
    "nameRightEyeMap = {}\n",
    "for i in range(len(pgpNames)):\n",
    "    if pgpNames[i] in surveyNames:\n",
    "        eyeData = getData(pgpNames[i], surveyData)\n",
    "        namePairIndices.append((i, pgpNames[i]))\n",
    "        nameLeftEyeMap[pgpNames[i]] = eyeData[0]\n",
    "        nameRightEyeMap[pgpNames[i]] = eyeData[1]\n",
    "\n",
    "# create lists containing the known eye color names and the unknown ones.\n",
    "nameIndices = [nameIndex[0] for nameIndex in namePairIndices]\n",
    "knownData = pgp[nameIndices]\n",
    "unknownData = np.delete(pgp, nameIndices, axis=0)"
   ]
  },
  {
   "cell_type": "code",
   "execution_count": 6,
   "metadata": {},
   "outputs": [
    {
     "data": {
      "image/png": "[encoded data removed]",
      "text/plain": [
       "<matplotlib.figure.Figure at 0x7fbfc12df550>"
      ]
     },
     "metadata": {},
     "output_type": "display_data"
    }
   ],
   "source": [
    "# convert dictionaries to lists using knownData\n",
    "leftEyeNameList = []\n",
    "rightEyeNameList = []\n",
    "\n",
    "knownDataNames = [nameIndices]\n",
    "for nameTuple in namePairIndices:\n",
    "    leftEyeNameList.append(nameLeftEyeMap[nameTuple[1]])\n",
    "    rightEyeNameList.append(nameRightEyeMap[nameTuple[1]])\n",
    "    \n",
    "for i in range(len(leftEyeNameList)):\n",
    "    eyeColor = leftEyeNameList[i]\n",
    "    if eyeColor > 12:\n",
    "        leftEyeNameList[i] = 1\n",
    "    else:\n",
    "        leftEyeNameList[i] = 0\n",
    "        \n",
    "import matplotlib.pyplot as plt\n",
    "%matplotlib inline\n",
    "plt.hist(leftEyeNameList)\n",
    "plt.ylabel(\"Number of Participants\")\n",
    "plt.xlabel(\"Eye Color\")\n",
    "plt.show()"
   ]
  },
  {
   "cell_type": "code",
   "execution_count": 32,
   "metadata": {},
   "outputs": [
    {
     "name": "stdout",
     "output_type": "stream",
     "text": [
      "[LibLinear]0.3125\n"
     ]
    },
    {
     "data": {
      "image/png": "[encoded data removed]",
      "text/plain": [
       "<matplotlib.figure.Figure at 0x7f9d7bce7410>"
      ]
     },
     "metadata": {},
     "output_type": "display_data"
    }
   ],
   "source": [
    "# from sklearn.model_selection import train_test_split\n",
    "svc_test = LinearSVC(penalty='l1', class_weight='balanced', \n",
    "                         C=.04, dual=False, verbose=1, max_iter=1500)\n",
    "X_train, X_test, y_train, y_test = train_test_split(knownData, leftEyeNameList, \n",
    "                                                    test_size=.2, random_state=5)\n",
    "svc_test.fit(X_train, y_train)\n",
    "y_pred = svc_test.predict(X_test)\n",
    "print accuracy_score(y_test, y_pred)\n",
    "\n",
    "# create confusion matrix - code taken from Sarah's blood type prediction\n",
    "confusion_matrix(y_test, y_pred)\n",
    "cnf_matrix = confusion_matrix(y_test, y_pred)\n",
    "plt.imshow(cnf_matrix,interpolation='nearest', cmap=plt.cm.Blues)\n",
    "plt.ylabel('True label')\n",
    "plt.xlabel('Predicted label')\n",
    "\n",
    "classes = ['Blue','Not Blue']\n",
    "\n",
    "plt.grid('off')\n",
    "plt.colorbar()\n",
    "tick_marks = np.arange(len(classes))\n",
    "plt.xticks(tick_marks, classes, rotation=45)\n",
    "plt.yticks(tick_marks, classes)\n",
    "\n",
    "for i in range(cnf_matrix.shape[0]):\n",
    "    for j in  range(cnf_matrix.shape[1]):\n",
    "        plt.text(j, i, cnf_matrix[i, j],\n",
    "                 horizontalalignment=\"center\",\n",
    "                 color= \"orangered\")\n",
    "\n",
    "plt.gcf().subplots_adjust(left=0.25, bottom = 0.35)\n",
    "plt.savefig('Brown_Confusion.png',format='png',dpi=300)"
   ]
  },
  {
   "cell_type": "code",
   "execution_count": 25,
   "metadata": {
    "scrolled": true
   },
   "outputs": [
    {
     "name": "stdout",
     "output_type": "stream",
     "text": [
      "[LibLinear][LibLinear][LibLinear][LibLinear][LibLinear][LibLinear][LibLinear][LibLinear][LibLinear][LibLinear]\n",
      "0.6875\n",
      "0.176400494199\n"
     ]
    }
   ],
   "source": [
    "svc_test = LinearSVC(penalty='l1', class_weight=None, \n",
    "                         C=.04, dual=False, verbose=1, max_iter=1500)\n",
    "cv_scores = cross_val_score(svc_test, knownData, leftEyeNameList, cv=10, scoring='accuracy')\n",
    "print\n",
    "print cv_scores.mean()\n",
    "print cv_scores.std()"
   ]
  },
  {
   "cell_type": "code",
   "execution_count": null,
   "metadata": {
    "scrolled": false
   },
   "outputs": [
    {
     "name": "stdout",
     "output_type": "stream",
     "text": [
      "[LibLinear][LibLinear][LibLinear][LibLinear][LibLinear][LibLinear][LibLinear][LibLinear][LibLinear][LibLinear][LibLinear]"
     ]
    }
   ],
   "source": [
    "# GridSearch CV to test for the C range and balance.\n",
    "from sklearn.model_selection import RandomizedSearchCV\n",
    "\n",
    "crange = np.logspace(-3, 5, 10).tolist()\n",
    "weight = [None, 'balanced']\n",
    "\n",
    "param_grid = dict(C=crange, class_weight=weight)\n",
    "clf = LinearSVC(dual=False, penalty='l1', verbose=1)\n",
    "rand = RandomizedSearchCV(clf, param_grid, cv=10, scoring='accuracy')\n",
    "rand.fit(knownData, leftEyeNameList)"
   ]
  },
  {
   "cell_type": "code",
   "execution_count": null,
   "metadata": {
    "collapsed": true,
    "scrolled": true
   },
   "outputs": [],
   "source": [
    "rand.grid_scores_"
   ]
  },
  {
   "cell_type": "code",
   "execution_count": null,
   "metadata": {
    "collapsed": true
   },
   "outputs": [],
   "source": [
    "nonzeroes = np.nonzero(svc_test.coef_[0])[0]\n",
    "print svc_test.coef_[0].max()\n",
    "arr = np.asarray(nonzeroes)"
   ]
  },
  {
   "cell_type": "code",
   "execution_count": 17,
   "metadata": {
    "collapsed": true
   },
   "outputs": [],
   "source": [
    "arr.dump(\"coefs.pkl\")"
   ]
  },
  {
   "cell_type": "code",
   "execution_count": 18,
   "metadata": {},
   "outputs": [
    {
     "name": "stdout",
     "output_type": "stream",
     "text": [
      "53\n",
      "(1940575, 0.061636187976859387)\n",
      "(1207239, 0.03926145596951805)\n",
      "(1394887, 0.034937445506419418)\n",
      "(1866551, 0.031449450680210572)\n",
      "(1089423, 0.029384773960825245)\n",
      "(1912355, 0.024466391861804347)\n",
      "(962743, 0.023378528275303682)\n",
      "(1089916, 0.021904492994020953)\n",
      "(970923, 0.0208884136403612)\n",
      "(2325973, 0.016385577359045347)\n",
      "(2087013, 0.015935205692007251)\n",
      "(1485626, 0.012188574424717012)\n",
      "(682373, 0.012164211074133784)\n",
      "(1415555, 0.012099068972533539)\n",
      "(1214713, 0.011306970331115695)\n",
      "(1609027, 0.010532181513164275)\n",
      "(401709, 0.0096356281344384676)\n",
      "(1866411, 0.0091659521780010633)\n",
      "(1866293, 0.0080555899939401231)\n",
      "(975029, 0.0062869786745772078)\n",
      "(846813, 0.0060262970948446329)\n",
      "(1275283, 0.0051908332378729615)\n",
      "(1846117, 0.0049878901022095429)\n",
      "(584173, 0.0048025443602681874)\n",
      "(1716867, 0.0012823889923459695)\n",
      "(1307183, 0.00099622372199173925)\n"
     ]
    }
   ],
   "source": [
    "coefs = zip(nonzeroes, svc_test.coef_[0][nonzeroes])\n",
    "coefs.sort(key = lambda x: x[1], reverse=True)\n",
    "print len(coefs)\n",
    "for coef in coefs:\n",
    "    if coef[1] > 0: print coef"
   ]
  }
 ],
 "metadata": {
  "kernelspec": {
   "display_name": "Python 2",
   "language": "python",
   "name": "python2"
  },
  "language_info": {
   "codemirror_mode": {
    "name": "ipython",
    "version": 2
   },
   "file_extension": ".py",
   "mimetype": "text/x-python",
   "name": "python",
   "nbconvert_exporter": "python",
   "pygments_lexer": "ipython2",
   "version": "2.7.13"
  }
 },
 "nbformat": 4,
 "nbformat_minor": 2
}

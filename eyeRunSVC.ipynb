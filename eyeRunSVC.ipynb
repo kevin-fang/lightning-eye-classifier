{
 "cells": [
  {
   "cell_type": "code",
   "execution_count": 60,
   "metadata": {
    "collapsed": true
   },
   "outputs": [],
   "source": [
    "from sklearn.svm import LinearSVC\n",
    "import numpy as np\n",
    "import pandas as pd\n",
    "from sklearn.model_selection import cross_val_score, train_test_split\n",
    "from sklearn.metrics import accuracy_score, confusion_matrix\n",
    "from sklearn.externals import joblib"
   ]
  },
  {
   "cell_type": "code",
   "execution_count": 61,
   "metadata": {
    "collapsed": true
   },
   "outputs": [],
   "source": [
    "# read names that have provided survey eye color data\n",
    "columns = ['name', 'left', 'right', 'left_desc', 'right_desc']\n",
    "\n",
    "# pgp eye color data from survey\n",
    "surveyData = pd.read_csv(\"PGP-eyecolor.csv\", names=columns, na_values=['nan', ''])\n",
    "\n",
    "# names of the pgp participants\n",
    "surveyNames = np.asarray(surveyData['name'].values.tolist())"
   ]
  },
  {
   "cell_type": "code",
   "execution_count": 62,
   "metadata": {
    "collapsed": true
   },
   "outputs": [],
   "source": [
    "# load numpy array of names and keep only the huID\n",
    "pgpNames = np.load(\"names.npy\")\n",
    "for i in range(len(pgpNames)):\n",
    "    pgpNames[i] = pgpNames[i][:8]\n",
    "\n",
    "# load numpy array of tiled PGP data \n",
    "pgp = np.load(\"hiq-pgp.npy\")"
   ]
  },
  {
   "cell_type": "code",
   "execution_count": 63,
   "metadata": {
    "collapsed": true
   },
   "outputs": [],
   "source": [
    "# lookup a name in the survey data and return a tuple of the eye colors\n",
    "def getData(name, surveyData):\n",
    "    for index, row in surveyData.iterrows():\n",
    "        if row['name'] == name:\n",
    "            return (row['left'], row['right'])"
   ]
  },
  {
   "cell_type": "code",
   "execution_count": 64,
   "metadata": {
    "collapsed": true
   },
   "outputs": [],
   "source": [
    "# list of tuples for index and name with eye color data\n",
    "namePairIndices = []\n",
    "\n",
    "# dictionary of left and right eye colors with respective name, i.e., {\"huID\": 12}\n",
    "nameLeftEyeMap = {}\n",
    "nameRightEyeMap = {}\n",
    "\n",
    "existingNames = []\n",
    "\n",
    "# loop through pgpNames and add eye color to maps, making sure not to add the same name twice\n",
    "for i in range(len(pgpNames)):\n",
    "    name = pgpNames[i]\n",
    "    if name in surveyNames and name not in existingNames:\n",
    "        existingNames.append(name)\n",
    "        eyeData = getData(name, surveyData)\n",
    "        namePairIndices.append((i, name))\n",
    "        nameLeftEyeMap[name] = eyeData[0]\n",
    "        nameRightEyeMap[name] = eyeData[1]\n",
    "\n",
    "# create lists containing the known eye color names and the unknown eye colors.\n",
    "nameIndices = [nameIndex[0] for nameIndex in namePairIndices]\n",
    "knownData = pgp[nameIndices]\n",
    "unknownData = np.delete(pgp, nameIndices, axis=0)"
   ]
  },
  {
   "cell_type": "code",
   "execution_count": 65,
   "metadata": {
    "collapsed": true
   },
   "outputs": [],
   "source": [
    "# convert dictionaries to lists \n",
    "leftEyeNameList = []\n",
    "rightEyeNameList = []\n",
    "\n",
    "for nameTuple in namePairIndices:\n",
    "    leftEyeNameList.append(nameLeftEyeMap[nameTuple[1]])\n",
    "    rightEyeNameList.append(nameRightEyeMap[nameTuple[1]])\n",
    "    \n",
    "for i in range(len(leftEyeNameList)): # classify only blue/not blue, so change all the colors above 12 to not blue\n",
    "    if leftEyeNameList[i] > 12:\n",
    "        leftEyeNameList[i] = 0 # not blue\n",
    "    else:\n",
    "        leftEyeNameList[i] = 1 # blue"
   ]
  },
  {
   "cell_type": "code",
   "execution_count": 66,
   "metadata": {
    "collapsed": true
   },
   "outputs": [],
   "source": [
    "svc_test = joblib.load(\"svc.pkl\")"
   ]
  },
  {
   "cell_type": "code",
   "execution_count": null,
   "metadata": {},
   "outputs": [],
   "source": [
    "print knownData.shape"
   ]
  },
  {
   "cell_type": "code",
   "execution_count": 67,
   "metadata": {},
   "outputs": [
    {
     "data": {
      "text/plain": [
       "0.96153846153846156"
      ]
     },
     "execution_count": 67,
     "metadata": {},
     "output_type": "execute_result"
    }
   ],
   "source": [
    "eye_pred = svc_test.predict(knownData)\n",
    "accuracy_score(leftEyeNameList, eye_pred)"
   ]
  },
  {
   "cell_type": "code",
   "execution_count": 68,
   "metadata": {
    "scrolled": true
   },
   "outputs": [
    {
     "name": "stdout",
     "output_type": "stream",
     "text": [
      "[(1792420, 0.32372423698020208), (981082, 0.10071041931276269), (1472632, 0.10004396832934007), (1007310, 0.073566122923813926), (444129, 0.044629981320942716), (865338, 0.039916922273430237), (489736, 0.032746360432997959), (174453, 0.03031268322706512), (579768, 0.029431511532881996), (238309, 0.027389850869883967), (1660670, 0.018410151623680211), (1370239, 0.016924862588293038), (2143615, 0.016114548858249506), (1794813, 0.014777673487784682), (2086601, 0.014334325702934676), (834607, 0.012982954140380689), (1843740, 0.0093281579129839368), (2461521, 0.0084142172400514127), (279543, 0.0082597949683368543), (2256145, 0.0081954169725747348), (809281, 0.0081823669457118213), (1580503, 0.0072350212088080875), (1335343, 0.005520470020886065), (1801942, 0.0050030821177857385), (1736283, 0.0036793361727867828), (438621, 0.0019042156548594329), (890474, 0.00071180190238712691), (2088513, 3.3726492822508257e-07), (2461523, 2.4804420457025974e-07), (1903788, -0.0029959753099066161), (2166165, -0.0036345113536874014), (1435117, -0.0057036641615754394), (596168, -0.0060940802135465572), (579760, -0.0063602885180751136), (1021400, -0.00647858199420285), (674644, -0.011017248078406741), (2043646, -0.012529715397717089), (2043901, -0.012993137678361365), (2189921, -0.014382699389520213), (2088511, -0.014431088053108986), (1081477, -0.015154571389103), (1594144, -0.016154596226457672), (402803, -0.017710714408147466), (12624, -0.022668663593933137), (1170439, -0.022973421404645117), (2393717, -0.028118020858031487), (768874, -0.030796599467434953), (137247, -0.033494594333308481), (481212, -0.036159026957339351), (71357, -0.037286870558786302), (200986, -0.038527792558342773), (903627, -0.044575679076914697), (1321008, -0.054245457947361686), (342019, -0.072226400818853065), (1257816, -0.073412849437351976)]\n"
     ]
    }
   ],
   "source": [
    "nonzeroes = np.nonzero(svc_test.coef_[0])[0]\n",
    "coefs = zip(nonzeroes, svc_test.coef_[0][nonzeroes])\n",
    "coefs.sort(key = lambda x: x[1], reverse=True)\n",
    "print coefs"
   ]
  },
  {
   "cell_type": "code",
   "execution_count": 69,
   "metadata": {},
   "outputs": [
    {
     "name": "stdout",
     "output_type": "stream",
     "text": [
      "[1792420, 981082, 1472632, 1007310, 444129, 865338, 489736, 174453, 579768, 238309, 1660670, 1370239, 2143615, 1794813, 2086601, 834607, 1843740, 2461521, 279543, 2256145, 809281, 1580503, 1335343, 1801942, 1736283, 438621, 890474, 2088513, 2461523, 1903788, 2166165, 1435117, 596168, 579760, 1021400, 674644, 2043646, 2043901, 2189921, 2088511, 1081477, 1594144, 402803, 12624, 1170439, 2393717, 768874, 137247, 481212, 71357, 200986, 903627, 1321008, 342019, 1257816]\n"
     ]
    }
   ],
   "source": [
    "posLocs = [coef[0] for coef in coefs]\n",
    "print posLocs\n",
    "pos = np.asarray(posLocs)\n",
    "pos.dump(\"coefs.pkl\")"
   ]
  },
  {
   "cell_type": "code",
   "execution_count": null,
   "metadata": {},
   "outputs": [],
   "source": [
    "print pos"
   ]
  },
  {
   "cell_type": "code",
   "execution_count": null,
   "metadata": {
    "collapsed": true
   },
   "outputs": [],
   "source": []
  }
 ],
 "metadata": {
  "kernelspec": {
   "display_name": "Python 2",
   "language": "python",
   "name": "python2"
  },
  "language_info": {
   "codemirror_mode": {
    "name": "ipython",
    "version": 2
   },
   "file_extension": ".py",
   "mimetype": "text/x-python",
   "name": "python",
   "nbconvert_exporter": "python",
   "pygments_lexer": "ipython2",
   "version": "2.7.13"
  }
 },
 "nbformat": 4,
 "nbformat_minor": 2
}

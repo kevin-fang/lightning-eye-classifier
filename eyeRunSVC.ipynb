{
 "cells": [
  {
   "cell_type": "code",
   "execution_count": 1,
   "metadata": {
    "collapsed": true
   },
   "outputs": [],
   "source": [
    "from sklearn.svm import LinearSVC\n",
    "import numpy as np\n",
    "import pandas as pd\n",
    "from sklearn.model_selection import cross_val_score, train_test_split\n",
    "from sklearn.metrics import accuracy_score, confusion_matrix"
   ]
  },
  {
   "cell_type": "code",
   "execution_count": 2,
   "metadata": {
    "collapsed": true
   },
   "outputs": [],
   "source": [
    "# read names that have provided survey eye color data\n",
    "columns = ['name', 'left', 'right', 'left_desc', 'right_desc']\n",
    "# pgp eye color data from survey\n",
    "surveyData = pd.read_csv(\"PGP-eyecolor.csv\", names=columns, na_values=['nan', ''])\n",
    "# names of the pgp participants\n",
    "surveyNames = np.asarray(surveyData['name'].values.tolist())\n",
    "leftEyeColors = surveyData['left']\n",
    "rightEyeColors = surveyData['right']"
   ]
  },
  {
   "cell_type": "code",
   "execution_count": 3,
   "metadata": {
    "collapsed": true
   },
   "outputs": [],
   "source": [
    "# load numpy array of names\n",
    "pgpNames = np.load(\"names.npy\")\n",
    "# load numpy array of tiled data and delete the extra information\n",
    "pgp = np.load(\"hiq-pgp.npy\")\n",
    "for i in range(len(pgpNames)):\n",
    "    pgpNames[i] = pgpNames[i][:8]"
   ]
  },
  {
   "cell_type": "code",
   "execution_count": 4,
   "metadata": {
    "collapsed": true
   },
   "outputs": [],
   "source": [
    "def getData(name, surveyData):\n",
    "    for index, row in surveyData.iterrows():\n",
    "        if row['name'] == name:\n",
    "            return (row['left'], row['right'])"
   ]
  },
  {
   "cell_type": "code",
   "execution_count": 5,
   "metadata": {
    "collapsed": true
   },
   "outputs": [],
   "source": [
    "# populate name dictionaries with respective eye color data\n",
    "namePairIndices = []\n",
    "nameLeftEyeMap = {}\n",
    "nameRightEyeMap = {}\n",
    "for i in range(len(pgpNames)):\n",
    "    if pgpNames[i] in surveyNames:\n",
    "        eyeData = getData(pgpNames[i], surveyData)\n",
    "        namePairIndices.append((i, pgpNames[i]))\n",
    "        nameLeftEyeMap[pgpNames[i]] = eyeData[0]\n",
    "        nameRightEyeMap[pgpNames[i]] = eyeData[1]\n",
    "\n",
    "# create lists containing the known eye color names and the unknown ones.\n",
    "nameIndices = [nameIndex[0] for nameIndex in namePairIndices]\n",
    "knownData = pgp[nameIndices]\n",
    "unknownData = np.delete(pgp, nameIndices, axis=0)"
   ]
  },
  {
   "cell_type": "code",
   "execution_count": 6,
   "metadata": {
    "scrolled": true
   },
   "outputs": [
    {
     "data": {
      "image/png": "[encoded data removed]",
      "text/plain": [
       "<matplotlib.figure.Figure at 0x7fd8bc267b50>"
      ]
     },
     "metadata": {},
     "output_type": "display_data"
    }
   ],
   "source": [
    "# convert dictionaries to lists using knownData\n",
    "leftEyeNameList = []\n",
    "rightEyeNameList = []\n",
    "\n",
    "knownDataNames = [nameIndices]\n",
    "for nameTuple in namePairIndices:\n",
    "    leftEyeNameList.append(nameLeftEyeMap[nameTuple[1]])\n",
    "    rightEyeNameList.append(nameRightEyeMap[nameTuple[1]])\n",
    "    \n",
    "for i in range(len(leftEyeNameList)):\n",
    "    eyeColor = leftEyeNameList[i]\n",
    "    if eyeColor > 12:\n",
    "        leftEyeNameList[i] = 1\n",
    "    else:\n",
    "        leftEyeNameList[i] = 0\n",
    "        \n",
    "import matplotlib.pyplot as plt\n",
    "%matplotlib inline\n",
    "plt.hist(leftEyeNameList)\n",
    "plt.ylabel(\"Number of Participants\")\n",
    "plt.xlabel(\"Eye Color\")\n",
    "plt.show()"
   ]
  },
  {
   "cell_type": "code",
   "execution_count": 7,
   "metadata": {},
   "outputs": [
    {
     "data": {
      "text/plain": [
       "array([[-0.1132277,  0.       ,  0.       , ...,  0.       ,  0.       ,\n",
       "         0.       ],\n",
       "       [-0.1132277,  0.       ,  0.       , ...,  0.       ,  0.       ,\n",
       "         0.       ],\n",
       "       [-0.1132277,  0.       ,  0.       , ...,  0.       ,  0.       ,\n",
       "         0.       ],\n",
       "       ..., \n",
       "       [-0.1132277,  0.       ,  0.       , ...,  0.       ,  0.       ,\n",
       "         0.       ],\n",
       "       [-0.1132277,  0.       ,  0.       , ...,  0.       ,  0.       ,\n",
       "         0.       ],\n",
       "       [-0.1132277,  0.       ,  0.       , ...,  0.       ,  0.       ,\n",
       "         0.       ]])"
      ]
     },
     "execution_count": 7,
     "metadata": {},
     "output_type": "execute_result"
    }
   ],
   "source": [
    "from sklearn import preprocessing\n",
    "knownData = preprocessing.scale(knownData.astype('double'))\n",
    "knownData"
   ]
  },
  {
   "cell_type": "code",
   "execution_count": 8,
   "metadata": {},
   "outputs": [
    {
     "name": "stdout",
     "output_type": "stream",
     "text": [
      "[LibLinear]0.0732878182289\n"
     ]
    }
   ],
   "source": [
    "svc_test = LinearSVC(penalty='l1', class_weight='balanced', \n",
    "                         C=.1, dual=False, verbose=1, max_iter=5000)\n",
    "svc_test.fit(knownData, leftEyeNameList)\n",
    "\n",
    "nonzeroes = np.nonzero(svc_test.coef_[0])[0]\n",
    "print svc_test.coef_[0].max()\n",
    "arr = np.asarray(nonzeroes)"
   ]
  },
  {
   "cell_type": "code",
   "execution_count": 9,
   "metadata": {},
   "outputs": [
    {
     "data": {
      "text/plain": [
       "1.0"
      ]
     },
     "execution_count": 9,
     "metadata": {},
     "output_type": "execute_result"
    }
   ],
   "source": [
    "eye_pred = svc_test.predict(knownData)\n",
    "accuracy_score(leftEyeNameList, eye_pred)"
   ]
  },
  {
   "cell_type": "code",
   "execution_count": 10,
   "metadata": {
    "scrolled": true
   },
   "outputs": [
    {
     "name": "stdout",
     "output_type": "stream",
     "text": [
      "66\n"
     ]
    }
   ],
   "source": [
    "coefs = zip(nonzeroes, svc_test.coef_[0][nonzeroes])\n",
    "coefs.sort(key = lambda x: x[1], reverse=True)\n",
    "posCoefs = []\n",
    "print len(coefs)\n",
    "for coef in coefs:\n",
    "    if coef[1] > 0:\n",
    "        posCoefs.append(coef)"
   ]
  },
  {
   "cell_type": "code",
   "execution_count": 11,
   "metadata": {},
   "outputs": [
    {
     "name": "stdout",
     "output_type": "stream",
     "text": [
      "32\n",
      "[(342019, 0.073287818228881113), (1257816, 0.068499901488679224), (1321008, 0.060255301634782689), (903627, 0.057442531066330876), (200986, 0.052621181923676305), (71357, 0.039888718212934902), (481212, 0.037393805021111184), (137247, 0.035022087220495296), (2393717, 0.030617314865758232), (674644, 0.029776971294740721), (768874, 0.02850189592204529), (1170439, 0.02499678255873632), (2189921, 0.024079654020872806), (1081477, 0.023894305731308272), (579760, 0.022093201364864506), (12624, 0.018269043671337928), (402803, 0.017876858213734217), (1021400, 0.016898117015024874), (1594144, 0.016016553931013085), (1739893, 0.012346453717763089), (2043646, 0.012196202445977496), (1435117, 0.011799935080254767), (2043901, 0.011364952881902153), (2088511, 0.011355708183568923), (596164, 0.0079473926359385251), (2461525, 0.0074619689249398454), (2166165, 0.0048371068547821148), (1779879, 0.0032848432652270998), (2147444, 0.0032778105409504775), (228289, 0.0012294601917930759), (584122, 0.0008911362347685045), (551190, 0.00046135147543762805)]\n"
     ]
    }
   ],
   "source": [
    "print len(posCoefs)\n",
    "print posCoefs"
   ]
  },
  {
   "cell_type": "code",
   "execution_count": 12,
   "metadata": {},
   "outputs": [
    {
     "name": "stdout",
     "output_type": "stream",
     "text": [
      "[342019, 1257816, 1321008, 903627, 200986, 71357, 481212, 137247, 2393717, 674644, 768874, 1170439, 2189921, 1081477, 579760, 12624, 402803, 1021400, 1594144, 1739893, 2043646, 1435117, 2043901, 2088511, 596164, 2461525, 2166165, 1779879, 2147444, 228289, 584122, 551190]\n"
     ]
    }
   ],
   "source": [
    "posLocs = [coef[0] for coef in posCoefs]\n",
    "print posLocs\n",
    "pos = np.asarray(posLocs)\n",
    "pos.dump(\"coefs.pkl\")"
   ]
  },
  {
   "cell_type": "code",
   "execution_count": null,
   "metadata": {
    "collapsed": true
   },
   "outputs": [],
   "source": []
  }
 ],
 "metadata": {
  "kernelspec": {
   "display_name": "Python 2",
   "language": "python",
   "name": "python2"
  },
  "language_info": {
   "codemirror_mode": {
    "name": "ipython",
    "version": 2
   },
   "file_extension": ".py",
   "mimetype": "text/x-python",
   "name": "python",
   "nbconvert_exporter": "python",
   "pygments_lexer": "ipython2",
   "version": "2.7.13"
  }
 },
 "nbformat": 4,
 "nbformat_minor": 2
}

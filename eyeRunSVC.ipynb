{
 "cells": [
  {
   "cell_type": "code",
   "execution_count": 1,
   "metadata": {
    "collapsed": true
   },
   "outputs": [],
   "source": [
    "from sklearn.svm import LinearSVC\n",
    "import numpy as np\n",
    "import pandas as pd\n",
    "from sklearn.model_selection import cross_val_score, train_test_split\n",
    "from sklearn.metrics import accuracy_score, confusion_matrix\n",
    "from sklearn.externals import joblib"
   ]
  },
  {
   "cell_type": "code",
   "execution_count": 2,
   "metadata": {
    "collapsed": true
   },
   "outputs": [],
   "source": [
    "# read names that have provided survey eye color data\n",
    "columns = ['name', 'left', 'right', 'left_desc', 'right_desc']\n",
    "\n",
    "# pgp eye color data from survey\n",
    "surveyData = pd.read_csv(\"PGP-eyecolor.csv\", names=columns, na_values=['nan', ''])\n",
    "\n",
    "# names of the pgp participants\n",
    "surveyNames = np.asarray(surveyData['name'].values.tolist())"
   ]
  },
  {
   "cell_type": "code",
   "execution_count": 3,
   "metadata": {
    "collapsed": true
   },
   "outputs": [],
   "source": [
    "# load numpy array of names and keep only the huID\n",
    "pgpNames = np.load(\"names.npy\")\n",
    "for i in range(len(pgpNames)):\n",
    "    pgpNames[i] = pgpNames[i][:8]\n",
    "\n",
    "# load numpy array of tiled PGP data \n",
    "pgp = np.load(\"hiq-pgp.npy\")"
   ]
  },
  {
   "cell_type": "code",
   "execution_count": 4,
   "metadata": {
    "collapsed": true
   },
   "outputs": [],
   "source": [
    "# lookup a name in the survey data and return a tuple of the eye colors\n",
    "def getData(name, surveyData):\n",
    "    for index, row in surveyData.iterrows():\n",
    "        if row['name'] == name:\n",
    "            return (row['left'], row['right'])"
   ]
  },
  {
   "cell_type": "code",
   "execution_count": 5,
   "metadata": {
    "collapsed": true
   },
   "outputs": [],
   "source": [
    "# list of tuples for index and name with eye color data\n",
    "namePairIndices = []\n",
    "\n",
    "# dictionary of left and right eye colors with respective name, i.e., {\"huID\": 12}\n",
    "nameLeftEyeMap = {}\n",
    "nameRightEyeMap = {}\n",
    "\n",
    "existingNames = []\n",
    "\n",
    "# loop through pgpNames and add eye color to maps, making sure not to add the same name twice\n",
    "for i in range(len(pgpNames)):\n",
    "    name = pgpNames[i]\n",
    "    if name in surveyNames and name not in existingNames:\n",
    "        existingNames.append(name)\n",
    "        eyeData = getData(name, surveyData)\n",
    "        namePairIndices.append((i, name))\n",
    "        nameLeftEyeMap[name] = eyeData[0]\n",
    "        nameRightEyeMap[name] = eyeData[1]\n",
    "\n",
    "# create lists containing the known eye color names and the unknown eye colors.\n",
    "nameIndices = [nameIndex[0] for nameIndex in namePairIndices]\n",
    "knownData = pgp[nameIndices]\n",
    "unknownData = np.delete(pgp, nameIndices, axis=0)"
   ]
  },
  {
   "cell_type": "code",
   "execution_count": 24,
   "metadata": {
    "collapsed": true
   },
   "outputs": [],
   "source": [
    "# convert dictionaries to lists \n",
    "leftEyeNameList = []\n",
    "rightEyeNameList = []\n",
    "\n",
    "for nameTuple in namePairIndices:\n",
    "    leftEyeNameList.append(nameLeftEyeMap[nameTuple[1]])\n",
    "    rightEyeNameList.append(nameRightEyeMap[nameTuple[1]])\n",
    "    \n",
    "for i in range(len(leftEyeNameList)): # classify only blue/not blue, so change all the colors above 12 to not blue\n",
    "    if leftEyeNameList[i] > 12:\n",
    "        leftEyeNameList[i] = 1 # not blue\n",
    "    else:\n",
    "        leftEyeNameList[i] = 0 # blue"
   ]
  },
  {
   "cell_type": "code",
   "execution_count": 34,
   "metadata": {
    "collapsed": true
   },
   "outputs": [],
   "source": [
    "svc_test = joblib.load(\"svc.pkl\")"
   ]
  },
  {
   "cell_type": "code",
   "execution_count": 35,
   "metadata": {},
   "outputs": [
    {
     "name": "stdout",
     "output_type": "stream",
     "text": [
      "(78, 2469062)\n"
     ]
    }
   ],
   "source": [
    "print knownData.shape"
   ]
  },
  {
   "cell_type": "code",
   "execution_count": 36,
   "metadata": {},
   "outputs": [
    {
     "data": {
      "text/plain": [
       "0.96153846153846156"
      ]
     },
     "execution_count": 36,
     "metadata": {},
     "output_type": "execute_result"
    }
   ],
   "source": [
    "eye_pred = svc_test.predict(knownData)\n",
    "accuracy_score(leftEyeNameList, eye_pred)"
   ]
  },
  {
   "cell_type": "code",
   "execution_count": 43,
   "metadata": {
    "scrolled": true
   },
   "outputs": [
    {
     "name": "stdout",
     "output_type": "stream",
     "text": [
      "[(1257816, 0.073470813698001028), (342019, 0.072255171659541415), (1321008, 0.054244558436764949), (903627, 0.044503739771904909), (200986, 0.038440259945633166), (71357, 0.037266173236257985), (481212, 0.036143179847734748), (137247, 0.033629689903357719), (768874, 0.030771588419761825), (2393717, 0.028110278182580602), (1170439, 0.023029095721417838), (12624, 0.022702893256663269), (402803, 0.017654211616017861), (1594144, 0.01602715821042271), (1081477, 0.015125042922764006), (2189921, 0.01439709409320934), (2088511, 0.014212737290436723), (2043901, 0.013033377057775714), (2043646, 0.012529949843646243), (674644, 0.010970582597430089), (2461525, 0.006872291074819019), (1021400, 0.0064551184068559779), (596168, 0.006083773790519633), (1435117, 0.0056687916769290409), (2166165, 0.0036715755740112199), (579760, 0.0032887504867792649), (1903788, 0.0030532207139391779), (2088513, -0.00016439543626351803), (890474, -0.00074713963241949423), (2461523, -0.001497068963951909), (438621, -0.0018021237832289219), (1736283, -0.0037587599468896569), (1801942, -0.0049417325703851149), (1335343, -0.0055172019417385381), (1580503, -0.0071455772977091873), (2256145, -0.0080770911748582249), (809281, -0.0082481999718308149), (279543, -0.0082726750988425246), (1843740, -0.009366943465540024), (834607, -0.013029090158785991), (2086601, -0.014387905278886009), (1794813, -0.014634922766025201), (2143615, -0.016145164817078957), (1370239, -0.016970753214266967), (1660670, -0.018435098621498926), (238309, -0.02741870956980123), (174453, -0.030291213282275513), (579768, -0.032506073465606425), (489736, -0.032950813618738875), (865338, -0.039834126450878381), (444129, -0.04468179794844309), (1007310, -0.073524276382631398), (1472632, -0.10012619658189192), (981082, -0.10070360917704091), (1792420, -0.32378254230564474)]\n"
     ]
    }
   ],
   "source": [
    "nonzeroes = np.nonzero(svc_test.coef_[0])[0]\n",
    "coefs = zip(nonzeroes, svc_test.coef_[0][nonzeroes])\n",
    "coefs.sort(key = lambda x: x[1], reverse=True)\n",
    "print coefs"
   ]
  },
  {
   "cell_type": "code",
   "execution_count": 47,
   "metadata": {},
   "outputs": [
    {
     "name": "stdout",
     "output_type": "stream",
     "text": [
      "[1257816, 342019, 1321008, 903627, 200986, 71357, 481212, 137247, 768874, 2393717, 1170439, 12624, 402803, 1594144, 1081477, 2189921, 2088511, 2043901, 2043646, 674644, 2461525, 1021400, 596168, 1435117, 2166165, 579760, 1903788, 2088513, 890474, 2461523, 438621, 1736283, 1801942, 1335343, 1580503, 2256145, 809281, 279543, 1843740, 834607, 2086601, 1794813, 2143615, 1370239, 1660670, 238309, 174453, 579768, 489736, 865338, 444129, 1007310, 1472632, 981082, 1792420]\n"
     ]
    }
   ],
   "source": [
    "posLocs = [coef[0] for coef in coefs]\n",
    "print posLocs\n",
    "pos = np.asarray(posLocs)\n",
    "pos.dump(\"coefs.pkl\")"
   ]
  },
  {
   "cell_type": "code",
   "execution_count": 45,
   "metadata": {},
   "outputs": [
    {
     "name": "stdout",
     "output_type": "stream",
     "text": [
      "[[  1.25781600e+06   7.34708137e-02]\n",
      " [  3.42019000e+05   7.22551717e-02]\n",
      " [  1.32100800e+06   5.42445584e-02]\n",
      " [  9.03627000e+05   4.45037398e-02]\n",
      " [  2.00986000e+05   3.84402599e-02]\n",
      " [  7.13570000e+04   3.72661732e-02]\n",
      " [  4.81212000e+05   3.61431798e-02]\n",
      " [  1.37247000e+05   3.36296899e-02]\n",
      " [  7.68874000e+05   3.07715884e-02]\n",
      " [  2.39371700e+06   2.81102782e-02]\n",
      " [  1.17043900e+06   2.30290957e-02]\n",
      " [  1.26240000e+04   2.27028933e-02]\n",
      " [  4.02803000e+05   1.76542116e-02]\n",
      " [  1.59414400e+06   1.60271582e-02]\n",
      " [  1.08147700e+06   1.51250429e-02]\n",
      " [  2.18992100e+06   1.43970941e-02]\n",
      " [  2.08851100e+06   1.42127373e-02]\n",
      " [  2.04390100e+06   1.30333771e-02]\n",
      " [  2.04364600e+06   1.25299498e-02]\n",
      " [  6.74644000e+05   1.09705826e-02]\n",
      " [  2.46152500e+06   6.87229107e-03]\n",
      " [  1.02140000e+06   6.45511841e-03]\n",
      " [  5.96168000e+05   6.08377379e-03]\n",
      " [  1.43511700e+06   5.66879168e-03]\n",
      " [  2.16616500e+06   3.67157557e-03]\n",
      " [  5.79760000e+05   3.28875049e-03]\n",
      " [  1.90378800e+06   3.05322071e-03]\n",
      " [  2.08851300e+06  -1.64395436e-04]\n",
      " [  8.90474000e+05  -7.47139632e-04]\n",
      " [  2.46152300e+06  -1.49706896e-03]\n",
      " [  4.38621000e+05  -1.80212378e-03]\n",
      " [  1.73628300e+06  -3.75875995e-03]\n",
      " [  1.80194200e+06  -4.94173257e-03]\n",
      " [  1.33534300e+06  -5.51720194e-03]\n",
      " [  1.58050300e+06  -7.14557730e-03]\n",
      " [  2.25614500e+06  -8.07709117e-03]\n",
      " [  8.09281000e+05  -8.24819997e-03]\n",
      " [  2.79543000e+05  -8.27267510e-03]\n",
      " [  1.84374000e+06  -9.36694347e-03]\n",
      " [  8.34607000e+05  -1.30290902e-02]\n",
      " [  2.08660100e+06  -1.43879053e-02]\n",
      " [  1.79481300e+06  -1.46349228e-02]\n",
      " [  2.14361500e+06  -1.61451648e-02]\n",
      " [  1.37023900e+06  -1.69707532e-02]\n",
      " [  1.66067000e+06  -1.84350986e-02]\n",
      " [  2.38309000e+05  -2.74187096e-02]\n",
      " [  1.74453000e+05  -3.02912133e-02]\n",
      " [  5.79768000e+05  -3.25060735e-02]\n",
      " [  4.89736000e+05  -3.29508136e-02]\n",
      " [  8.65338000e+05  -3.98341265e-02]\n",
      " [  4.44129000e+05  -4.46817979e-02]\n",
      " [  1.00731000e+06  -7.35242764e-02]\n",
      " [  1.47263200e+06  -1.00126197e-01]\n",
      " [  9.81082000e+05  -1.00703609e-01]\n",
      " [  1.79242000e+06  -3.23782542e-01]]\n"
     ]
    }
   ],
   "source": [
    "print pos"
   ]
  },
  {
   "cell_type": "code",
   "execution_count": null,
   "metadata": {
    "collapsed": true
   },
   "outputs": [],
   "source": []
  }
 ],
 "metadata": {
  "kernelspec": {
   "display_name": "Python 2",
   "language": "python",
   "name": "python2"
  },
  "language_info": {
   "codemirror_mode": {
    "name": "ipython",
    "version": 2
   },
   "file_extension": ".py",
   "mimetype": "text/x-python",
   "name": "python",
   "nbconvert_exporter": "python",
   "pygments_lexer": "ipython2",
   "version": "2.7.13"
  }
 },
 "nbformat": 4,
 "nbformat_minor": 2
}

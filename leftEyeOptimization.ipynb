{
 "cells": [
  {
   "cell_type": "code",
   "execution_count": 1,
   "metadata": {
    "collapsed": true
   },
   "outputs": [],
   "source": [
    "from sklearn.svm import LinearSVC\n",
    "import numpy as np\n",
    "import pandas as pd\n",
    "from sklearn.model_selection import cross_val_score, train_test_split\n",
    "from sklearn.metrics import accuracy_score, confusion_matrix"
   ]
  },
  {
   "cell_type": "code",
   "execution_count": 2,
   "metadata": {
    "collapsed": true
   },
   "outputs": [],
   "source": [
    "# read names that have provided survey eye color data\n",
    "columns = ['name', 'left', 'right', 'left_desc', 'right_desc']\n",
    "\n",
    "# pgp eye color data from survey\n",
    "surveyData = pd.read_csv(\"PGP-eyecolor.csv\", names=columns, na_values=['nan', ''])\n",
    "\n",
    "# names of the pgp participants\n",
    "surveyNames = np.asarray(surveyData['name'].values.tolist())"
   ]
  },
  {
   "cell_type": "code",
   "execution_count": 3,
   "metadata": {
    "collapsed": true
   },
   "outputs": [],
   "source": [
    "# load numpy array of names and keep only the huID\n",
    "pgpNames = np.load(\"names.npy\")\n",
    "for i in range(len(pgpNames)):\n",
    "    pgpNames[i] = pgpNames[i][:8]\n",
    "\n",
    "# load numpy array of tiled PGP data \n",
    "pgp = np.load(\"hiq-pgp.npy\")"
   ]
  },
  {
   "cell_type": "code",
   "execution_count": 4,
   "metadata": {
    "collapsed": true
   },
   "outputs": [],
   "source": [
    "# lookup a name in the survey data and return a tuple of the eye colors\n",
    "def getData(name, surveyData):\n",
    "    for index, row in surveyData.iterrows():\n",
    "        if row['name'] == name:\n",
    "            return (row['left'], row['right'])"
   ]
  },
  {
   "cell_type": "code",
   "execution_count": 5,
   "metadata": {},
   "outputs": [],
   "source": [
    "# list of tuples for index and name with eye color data\n",
    "namePairIndices = []\n",
    "\n",
    "# dictionary of left and right eye colors with respective name, i.e., {\"huID\": 12}\n",
    "nameLeftEyeMap = {}\n",
    "nameRightEyeMap = {}\n",
    "\n",
    "existingNames = []\n",
    "\n",
    "# loop through pgpNames and add eye color to maps, making sure not to add the same name twice\n",
    "for i in range(len(pgpNames)):\n",
    "    name = pgpNames[i]\n",
    "    if name in surveyNames and name not in existingNames:\n",
    "        existingNames.append(name)\n",
    "        eyeData = getData(name, surveyData)\n",
    "        namePairIndices.append((i, name))\n",
    "        nameLeftEyeMap[name] = eyeData[0]\n",
    "        nameRightEyeMap[name] = eyeData[1]\n",
    "\n",
    "# create lists containing the known eye color names and the unknown eye colors.\n",
    "nameIndices = [nameIndex[0] for nameIndex in namePairIndices]\n",
    "knownData = pgp[nameIndices]\n",
    "unknownData = np.delete(pgp, nameIndices, axis=0)"
   ]
  },
  {
   "cell_type": "code",
   "execution_count": 16,
   "metadata": {},
   "outputs": [],
   "source": [
    "# convert dictionaries to lists \n",
    "leftEyeNameList = []\n",
    "rightEyeNameList = []\n",
    "\n",
    "for nameTuple in namePairIndices:\n",
    "    leftEyeNameList.append(nameLeftEyeMap[nameTuple[1]])\n",
    "    rightEyeNameList.append(nameRightEyeMap[nameTuple[1]])\n",
    "    \n",
    "for i in range(len(leftEyeNameList)): # classify only blue/not blue, so change all the colors above 12 to not blue\n",
    "    if leftEyeNameList[i] > 12:\n",
    "        leftEyeNameList[i] = 0 # not blue\n",
    "    else:\n",
    "        leftEyeNameList[i] = 1 # blue"
   ]
  },
  {
   "cell_type": "code",
   "execution_count": 17,
   "metadata": {},
   "outputs": [
    {
     "data": {
      "image/png": "[encoded data removed]",
      "text/plain": [
       "<matplotlib.figure.Figure at 0x7f31bdee7dd0>"
      ]
     },
     "metadata": {},
     "output_type": "display_data"
    }
   ],
   "source": [
    "import matplotlib.pyplot as plt\n",
    "%matplotlib inline\n",
    "plt.hist(leftEyeNameList)\n",
    "plt.ylabel(\"Number of Participants\")\n",
    "plt.xlabel(\"Eye Color\")\n",
    "plt.show()"
   ]
  },
  {
   "cell_type": "code",
   "execution_count": 18,
   "metadata": {},
   "outputs": [
    {
     "data": {
      "text/plain": [
       "array([[-0.11396058,  0.        ,  0.        , ...,  0.        ,\n",
       "         0.        ,  0.        ],\n",
       "       [-0.11396058,  0.        ,  0.        , ...,  0.        ,\n",
       "         0.        ,  0.        ],\n",
       "       [-0.11396058,  0.        ,  0.        , ...,  0.        ,\n",
       "         0.        ,  0.        ],\n",
       "       ..., \n",
       "       [-0.11396058,  0.        ,  0.        , ...,  0.        ,\n",
       "         0.        ,  0.        ],\n",
       "       [-0.11396058,  0.        ,  0.        , ...,  0.        ,\n",
       "         0.        ,  0.        ],\n",
       "       [-0.11396058,  0.        ,  0.        , ...,  0.        ,\n",
       "         0.        ,  0.        ]])"
      ]
     },
     "execution_count": 18,
     "metadata": {},
     "output_type": "execute_result"
    }
   ],
   "source": [
    "from sklearn import preprocessing\n",
    "knownData = preprocessing.scale(knownData.astype('double')) # scale the data\n",
    "knownData"
   ]
  },
  {
   "cell_type": "code",
   "execution_count": 20,
   "metadata": {},
   "outputs": [
    {
     "name": "stdout",
     "output_type": "stream",
     "text": [
      "[LibLinear]0.6875\n"
     ]
    },
    {
     "data": {
      "image/png": "[encoded data removed]",
      "text/plain": [
       "<matplotlib.figure.Figure at 0x7f31bde8e190>"
      ]
     },
     "metadata": {},
     "output_type": "display_data"
    }
   ],
   "source": [
    "# train test split on the data\n",
    "svc_test = LinearSVC(penalty='l1', class_weight='balanced', \n",
    "                         C=.06, dual=False, verbose=1, max_iter=1500)\n",
    "X_train, X_test, y_train, y_test = train_test_split(knownData, leftEyeNameList, \n",
    "                                                    test_size=.2, random_state=1)\n",
    "svc_test.fit(X_train, y_train)\n",
    "y_pred = svc_test.predict(X_test)\n",
    "print accuracy_score(y_test, y_pred)\n",
    "\n",
    "# create confusion matrix - code taken from Sarah's blood type prediction\n",
    "cnf_matrix = confusion_matrix(y_test, y_pred)\n",
    "plt.imshow(cnf_matrix, interpolation='nearest', cmap=plt.cm.Blues)\n",
    "plt.ylabel('True label')\n",
    "plt.xlabel('Predicted label')\n",
    "\n",
    "classes = ['Not Blue','Blue']\n",
    "\n",
    "plt.grid('off')\n",
    "plt.colorbar()\n",
    "tick_marks = np.arange(len(classes))\n",
    "plt.xticks(tick_marks, classes, rotation=45)\n",
    "plt.yticks(tick_marks, classes)\n",
    "\n",
    "for i in range(cnf_matrix.shape[0]):\n",
    "    for j in range(cnf_matrix.shape[1]):\n",
    "        plt.text(j, i, cnf_matrix[i, j],\n",
    "                 horizontalalignment=\"center\",\n",
    "                 color= \"orangered\")\n",
    "\n",
    "plt.gcf().subplots_adjust(left=0.25, bottom = 0.35)\n",
    "plt.savefig('Blue_Confusion.png',format='png',dpi=300)"
   ]
  },
  {
   "cell_type": "code",
   "execution_count": 13,
   "metadata": {},
   "outputs": [
    {
     "name": "stdout",
     "output_type": "stream",
     "text": [
      "[LibLinear][LibLinear][LibLinear][LibLinear][LibLinear][LibLinear][LibLinear][LibLinear][LibLinear][LibLinear][LibLinear][LibLinear][LibLinear][LibLinear][LibLinear][LibLinear][LibLinear][LibLinear][LibLinear][LibLinear]\n",
      "0.6925\n",
      "0.175394396844\n",
      "\n",
      "\n",
      "\n"
     ]
    }
   ],
   "source": [
    "svc_test = LinearSVC(penalty='l1', class_weight='balanced', \n",
    "                         C=.06, dual=False, verbose=1, max_iter=5000)\n",
    "cv_scores = cross_val_score(svc_test, knownData, leftEyeNameList, cv=20, scoring='accuracy')\n",
    "print\n",
    "print cv_scores.mean()\n",
    "print cv_scores.std()\n",
    "print \"\\n\\n\""
   ]
  },
  {
   "cell_type": "code",
   "execution_count": 10,
   "metadata": {
    "scrolled": true
   },
   "outputs": [
    {
     "name": "stdout",
     "output_type": "stream",
     "text": [
      "[LibLinear][1] [0]\n",
      " Iteration: 0\n",
      "[LibLinear][1] [0]\n",
      " Iteration: 1\n",
      "[LibLinear][1] [0]\n",
      " Iteration: 2\n",
      "[LibLinear][1] [1]\n",
      " Iteration: 3\n",
      "[LibLinear][1] [0]\n",
      " Iteration: 4\n",
      "[LibLinear][0] [0]\n",
      " Iteration: 5\n",
      "[LibLinear][0] [1]\n",
      " Iteration: 6\n",
      "[LibLinear][0] [0]\n",
      " Iteration: 7\n",
      "[LibLinear][0] [1]\n",
      " Iteration: 8\n",
      "[LibLinear][0] [0]\n",
      " Iteration: 9\n",
      "[LibLinear][0] [0]\n",
      " Iteration: 10\n",
      "[LibLinear][1] [1]\n",
      " Iteration: 11\n",
      "[LibLinear][0] [0]\n",
      " Iteration: 12\n",
      "[LibLinear][0] [0]\n",
      " Iteration: 13\n",
      "[LibLinear][0] [0]\n",
      " Iteration: 14\n",
      "[LibLinear][0] [0]\n",
      " Iteration: 15\n",
      "[LibLinear][1] [0]\n",
      " Iteration: 16\n",
      "[LibLinear][0] [0]\n",
      " Iteration: 17\n",
      "[LibLinear][1] [0]\n",
      " Iteration: 18\n",
      "[LibLinear][1] [1]\n",
      " Iteration: 19\n",
      "[LibLinear][0] [0]\n",
      " Iteration: 20\n",
      "[LibLinear][0] [0]\n",
      " Iteration: 21\n",
      "[LibLinear][1] [1]\n",
      " Iteration: 22\n",
      "[LibLinear][1] [1]\n",
      " Iteration: 23\n",
      "[LibLinear][1] [0]\n",
      " Iteration: 24\n",
      "[LibLinear][1] [0]\n",
      " Iteration: 25\n",
      "[LibLinear][0] [0]\n",
      " Iteration: 26\n",
      "[LibLinear][1] [1]\n",
      " Iteration: 27\n",
      "[LibLinear][1] [0]\n",
      " Iteration: 28\n",
      "[LibLinear][1] [1]\n",
      " Iteration: 29\n",
      "[LibLinear][1] [1]\n",
      " Iteration: 30\n",
      "[LibLinear][0] [0]\n",
      " Iteration: 31\n",
      "[LibLinear][1] [0]\n",
      " Iteration: 32\n",
      "[LibLinear][0] [0]\n",
      " Iteration: 33\n",
      "[LibLinear][1] [0]\n",
      " Iteration: 34\n",
      "[LibLinear][1] [0]\n",
      " Iteration: 35\n",
      "[LibLinear][0] [0]\n",
      " Iteration: 36\n",
      "[LibLinear][0] [0]\n",
      " Iteration: 37\n",
      "[LibLinear][0] [0]\n",
      " Iteration: 38\n",
      "[LibLinear][1] [1]\n",
      " Iteration: 39\n",
      "[LibLinear][1] [1]\n",
      " Iteration: 40\n",
      "[LibLinear][0] [0]\n",
      " Iteration: 41\n",
      "[LibLinear][0] [0]\n",
      " Iteration: 42\n",
      "[LibLinear][0] [0]\n",
      " Iteration: 43\n",
      "[LibLinear][1] [0]\n",
      " Iteration: 44\n",
      "[LibLinear][1] [0]\n",
      " Iteration: 45\n",
      "[LibLinear][0] [0]\n",
      " Iteration: 46\n",
      "[LibLinear][1] [1]\n",
      " Iteration: 47\n",
      "[LibLinear][1] [1]\n",
      " Iteration: 48\n",
      "[LibLinear][1] [1]\n",
      " Iteration: 49\n",
      "[LibLinear][1] [1]\n",
      " Iteration: 50\n",
      "[LibLinear][1] [1]\n",
      " Iteration: 51\n",
      "[LibLinear][0] [0]\n",
      " Iteration: 52\n",
      "[LibLinear][1] [1]\n",
      " Iteration: 53\n",
      "[LibLinear][0] [0]\n",
      " Iteration: 54\n",
      "[LibLinear][1] [0]\n",
      " Iteration: 55\n",
      "[LibLinear][1] [0]\n",
      " Iteration: 56\n",
      "[LibLinear][0] [0]\n",
      " Iteration: 57\n",
      "[LibLinear][0] [0]\n",
      " Iteration: 58\n",
      "[LibLinear][0] [0]\n",
      " Iteration: 59\n",
      "[LibLinear][1] [1]\n",
      " Iteration: 60\n",
      "[LibLinear][0] [0]\n",
      " Iteration: 61\n",
      "[LibLinear][0] [0]\n",
      " Iteration: 62\n",
      "[LibLinear][0] [0]\n",
      " Iteration: 63\n",
      "[LibLinear][1] [1]\n",
      " Iteration: 64\n",
      "[LibLinear][0] [1]\n",
      " Iteration: 65\n",
      "[LibLinear][1] [1]\n",
      " Iteration: 66\n",
      "[LibLinear][0] [0]\n",
      " Iteration: 67\n",
      "[LibLinear][0] [1]\n",
      " Iteration: 68\n",
      "[LibLinear][1] [1]\n",
      " Iteration: 69\n",
      "[LibLinear][1] [1]\n",
      " Iteration: 70\n",
      "[LibLinear][1] [1]\n",
      " Iteration: 71\n",
      "[LibLinear][1] [0]\n",
      " Iteration: 72\n",
      "[LibLinear][1] [1]\n",
      " Iteration: 73\n",
      "[LibLinear][1] [1]\n",
      " Iteration: 74\n",
      "[LibLinear][0] [0]\n",
      " Iteration: 75\n",
      "[LibLinear][1] [1]\n",
      " Iteration: 76\n",
      "[LibLinear][1] [0]\n",
      " Iteration: 77\n"
     ]
    },
    {
     "data": {
      "text/plain": [
       "0.71794871794871795"
      ]
     },
     "execution_count": 10,
     "metadata": {},
     "output_type": "execute_result"
    }
   ],
   "source": [
    "from sklearn.model_selection import LeaveOneOut\n",
    "\n",
    "leftOut = LeaveOneOut()\n",
    "leftEyeNameList = np.asarray(leftEyeNameList)\n",
    "scores = []\n",
    "counter = 0\n",
    "for train_index, test_index in leftOut.split(knownData):\n",
    "    X_train, X_test = knownData[train_index], knownData[test_index]\n",
    "    y_train, y_test = leftEyeNameList[train_index], leftEyeNameList[test_index]\n",
    "    svc_test = LinearSVC(penalty='l1', class_weight='balanced', \n",
    "                         C=.06, dual=False, verbose=1, max_iter=5000)\n",
    "    svc_test.fit(X_train, y_train)\n",
    "    y_pred = svc_test.predict(X_test)\n",
    "    scores.append(accuracy_score(y_test, y_pred))\n",
    "    print y_test, y_pred\n",
    "    print \" Iteration: \" + str(counter)\n",
    "    counter += 1\n",
    "    \n",
    "np.mean(np.asarray(scores))"
   ]
  },
  {
   "cell_type": "code",
   "execution_count": 12,
   "metadata": {},
   "outputs": [
    {
     "data": {
      "text/plain": [
       "Counter({0.0: 22, 1.0: 56})"
      ]
     },
     "execution_count": 12,
     "metadata": {},
     "output_type": "execute_result"
    }
   ],
   "source": [
    "import collections\n",
    "collections.Counter(scores)"
   ]
  },
  {
   "cell_type": "code",
   "execution_count": 21,
   "metadata": {},
   "outputs": [
    {
     "name": "stdout",
     "output_type": "stream",
     "text": [
      "[LibLinear]1.0\n"
     ]
    }
   ],
   "source": [
    "from sklearn.externals import joblib\n",
    "svc_test.fit(knownData, leftEyeNameList)\n",
    "y_pred = svc_test.predict(knownData)\n",
    "print accuracy_score(leftEyeNameList, y_pred)"
   ]
  },
  {
   "cell_type": "code",
   "execution_count": 22,
   "metadata": {},
   "outputs": [
    {
     "data": {
      "text/plain": [
       "['svc.pkl']"
      ]
     },
     "execution_count": 22,
     "metadata": {},
     "output_type": "execute_result"
    }
   ],
   "source": [
    "joblib.dump(svc_test, \"svc.pkl\")"
   ]
  },
  {
   "cell_type": "code",
   "execution_count": 18,
   "metadata": {},
   "outputs": [
    {
     "name": "stdout",
     "output_type": "stream",
     "text": [
      "78\n"
     ]
    }
   ],
   "source": [
    "print len(leftEyeNameList)"
   ]
  },
  {
   "cell_type": "code",
   "execution_count": null,
   "metadata": {
    "collapsed": true
   },
   "outputs": [],
   "source": []
  }
 ],
 "metadata": {
  "kernelspec": {
   "display_name": "Python 2",
   "language": "python",
   "name": "python2"
  },
  "language_info": {
   "codemirror_mode": {
    "name": "ipython",
    "version": 2
   },
   "file_extension": ".py",
   "mimetype": "text/x-python",
   "name": "python",
   "nbconvert_exporter": "python",
   "pygments_lexer": "ipython2",
   "version": "2.7.13"
  }
 },
 "nbformat": 4,
 "nbformat_minor": 2
}

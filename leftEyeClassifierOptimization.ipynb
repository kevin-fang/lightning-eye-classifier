{
 "cells": [
  {
   "cell_type": "code",
   "execution_count": 1,
   "metadata": {},
   "outputs": [
    {
     "name": "stderr",
     "output_type": "stream",
     "text": [
      "/home/kfang/miniconda2/lib/python2.7/site-packages/matplotlib/font_manager.py:280: UserWarning: Matplotlib is building the font cache using fc-list. This may take a moment.\n",
      "  'Matplotlib is building the font cache using fc-list. '\n"
     ]
    }
   ],
   "source": [
    "from sklearn.svm import LinearSVC\n",
    "from sklearn import preprocessing\n",
    "import numpy as np\n",
    "import pandas as pd\n",
    "from sklearn.model_selection import cross_val_score, train_test_split\n",
    "from sklearn.metrics import accuracy_score, confusion_matrix\n",
    "import matplotlib.pyplot as plt\n",
    "%matplotlib inline"
   ]
  },
  {
   "cell_type": "code",
   "execution_count": 2,
   "metadata": {
    "collapsed": true
   },
   "outputs": [],
   "source": [
    "# read names that have provided survey eye color data\n",
    "columns = ['name', 'left', 'right', 'left_desc', 'right_desc']\n",
    "\n",
    "# pgp eye color data from survey\n",
    "surveyData = pd.read_csv(\"./eye_color_data/PGP-eyecolor.csv\", names=columns, na_values=['nan', ''])\n",
    "\n",
    "# names of the pgp participants\n",
    "surveyNames = np.asarray(surveyData['name'].values.tolist())"
   ]
  },
  {
   "cell_type": "code",
   "execution_count": 3,
   "metadata": {
    "collapsed": true
   },
   "outputs": [],
   "source": [
    "# load numpy array of names and keep only the huID\n",
    "pgpNames = np.load(\"names.npy\")\n",
    "for i in range(len(pgpNames)):\n",
    "    pgpNames[i] = pgpNames[i][:8]\n",
    "\n",
    "# load numpy array of tiled PGP data \n",
    "pgp = np.load(\"hiq-pgp.npy\")"
   ]
  },
  {
   "cell_type": "code",
   "execution_count": 4,
   "metadata": {
    "collapsed": true
   },
   "outputs": [],
   "source": [
    "# lookup a name in the survey data and return a tuple of the eye colors\n",
    "def getData(name, surveyData):\n",
    "    for index, row in surveyData.iterrows():\n",
    "        if row['name'] == name:\n",
    "            return (row['left'], row['right'])"
   ]
  },
  {
   "cell_type": "code",
   "execution_count": 5,
   "metadata": {
    "collapsed": true
   },
   "outputs": [],
   "source": [
    "# list of tuples for index and name with eye color data\n",
    "namePairIndices = []\n",
    "\n",
    "# dictionary of left and right eye colors with respective name, i.e., {\"huID\": 12}\n",
    "nameLeftEyeMap = {}\n",
    "nameRightEyeMap = {}\n",
    "\n",
    "existingNames = []\n",
    "\n",
    "# loop through pgpNames and add eye color to maps, making sure not to add the same name twice\n",
    "for i in range(len(pgpNames)):\n",
    "    name = pgpNames[i]\n",
    "    if name in surveyNames and name not in existingNames:\n",
    "        existingNames.append(name)\n",
    "        eyeData = getData(name, surveyData)\n",
    "        namePairIndices.append((i, name))\n",
    "        nameLeftEyeMap[name] = eyeData[0]\n",
    "        nameRightEyeMap[name] = eyeData[1]\n",
    "\n",
    "# create lists containing the known eye color names and the unknown eye colors.\n",
    "nameIndices = [nameIndex[0] for nameIndex in namePairIndices]\n",
    "knownData = pgp[nameIndices]\n",
    "unknownData = np.delete(pgp, nameIndices, axis=0)"
   ]
  },
  {
   "cell_type": "code",
   "execution_count": 6,
   "metadata": {
    "collapsed": true
   },
   "outputs": [],
   "source": [
    "# convert dictionaries to lists \n",
    "leftEyeNameList = []\n",
    "rightEyeNameList = []\n",
    "\n",
    "for nameTuple in namePairIndices:\n",
    "    leftEyeNameList.append(nameLeftEyeMap[nameTuple[1]])\n",
    "    rightEyeNameList.append(nameRightEyeMap[nameTuple[1]])\n",
    "    \n",
    "for i in range(len(leftEyeNameList)): # changes values to only blue/not blue for binary classification\n",
    "    if leftEyeNameList[i] > 13:\n",
    "        leftEyeNameList[i] = 0 # not blue\n",
    "    else:\n",
    "        leftEyeNameList[i] = 1 # blue"
   ]
  },
  {
   "cell_type": "code",
   "execution_count": 7,
   "metadata": {
    "scrolled": false
   },
   "outputs": [
    {
     "data": {
      "image/png": "[encoded data removed]",
      "text/plain": [
       "<matplotlib.figure.Figure at 0x7fbb8e340690>"
      ]
     },
     "metadata": {},
     "output_type": "display_data"
    }
   ],
   "source": [
    "# create histogram of blue/not blue. TODO: make labels for graph\n",
    "\n",
    "plt.hist(leftEyeNameList)\n",
    "plt.ylabel(\"Number of Participants\")\n",
    "plt.xlabel(\"Eye Color\")\n",
    "plt.show()"
   ]
  },
  {
   "cell_type": "code",
   "execution_count": 8,
   "metadata": {},
   "outputs": [
    {
     "data": {
      "text/plain": [
       "array([[-0.11396058,  0.        ,  0.        , ...,  0.        ,\n",
       "         0.        ,  0.        ],\n",
       "       [-0.11396058,  0.        ,  0.        , ...,  0.        ,\n",
       "         0.        ,  0.        ],\n",
       "       [-0.11396058,  0.        ,  0.        , ...,  0.        ,\n",
       "         0.        ,  0.        ],\n",
       "       ..., \n",
       "       [-0.11396058,  0.        ,  0.        , ...,  0.        ,\n",
       "         0.        ,  0.        ],\n",
       "       [-0.11396058,  0.        ,  0.        , ...,  0.        ,\n",
       "         0.        ,  0.        ],\n",
       "       [-0.11396058,  0.        ,  0.        , ...,  0.        ,\n",
       "         0.        ,  0.        ]])"
      ]
     },
     "execution_count": 8,
     "metadata": {},
     "output_type": "execute_result"
    }
   ],
   "source": [
    "# scale the data\n",
    "knownData = preprocessing.scale(knownData.astype('double'))\n",
    "knownData"
   ]
  },
  {
   "cell_type": "code",
   "execution_count": 9,
   "metadata": {
    "scrolled": true
   },
   "outputs": [
    {
     "name": "stdout",
     "output_type": "stream",
     "text": [
      "[LibLinear][LibLinear][LibLinear][LibLinear][LibLinear][LibLinear][LibLinear][LibLinear][LibLinear][LibLinear]\n",
      "0.855952380952\n",
      "0.0946376575058\n"
     ]
    }
   ],
   "source": [
    "# 10-fold cross validation\n",
    "svc_test = LinearSVC(penalty='l1', class_weight='balanced', \n",
    "                     C=.06, dual=False, verbose=1, max_iter=2500)\n",
    "cv_scores = cross_val_score(svc_test, knownData, leftEyeNameList, cv=10, scoring='accuracy')\n",
    "print\n",
    "print cv_scores.mean()\n",
    "print cv_scores.std()"
   ]
  },
  {
   "cell_type": "code",
   "execution_count": 10,
   "metadata": {
    "scrolled": true
   },
   "outputs": [
    {
     "name": "stdout",
     "output_type": "stream",
     "text": [
      "[LibLinear]Iteration: 1, correct: True\n",
      "[LibLinear]Iteration: 2, correct: True\n",
      "[LibLinear]Iteration: 3, correct: True\n",
      "[LibLinear]Iteration: 4, correct: True\n",
      "[LibLinear]Iteration: 5, correct: True\n",
      "[LibLinear]Iteration: 6, correct: True\n",
      "[LibLinear]Iteration: 7, correct: False\n",
      "[LibLinear]Iteration: 8, correct: True\n",
      "[LibLinear]Iteration: 9, correct: False\n",
      "[LibLinear]Iteration: 10, correct: True\n",
      "[LibLinear]Iteration: 11, correct: True\n",
      "[LibLinear]Iteration: 12, correct: True\n",
      "[LibLinear]Iteration: 13, correct: True\n",
      "[LibLinear]Iteration: 14, correct: True\n",
      "[LibLinear]Iteration: 15, correct: True\n",
      "[LibLinear]Iteration: 16, correct: True\n",
      "[LibLinear]Iteration: 17, correct: False\n",
      "[LibLinear]Iteration: 18, correct: True\n",
      "[LibLinear]Iteration: 19, correct: True\n",
      "[LibLinear]Iteration: 20, correct: True\n",
      "[LibLinear]Iteration: 21, correct: True\n",
      "[LibLinear]Iteration: 22, correct: True\n",
      "[LibLinear]Iteration: 23, correct: True\n",
      "[LibLinear]Iteration: 24, correct: True\n",
      "[LibLinear]Iteration: 25, correct: True\n",
      "[LibLinear]Iteration: 26, correct: True\n",
      "[LibLinear]Iteration: 27, correct: True\n",
      "[LibLinear]Iteration: 28, correct: True\n",
      "[LibLinear]Iteration: 29, correct: True\n",
      "[LibLinear]Iteration: 30, correct: False\n",
      "[LibLinear]Iteration: 31, correct: True\n",
      "[LibLinear]Iteration: 32, correct: True\n",
      "[LibLinear]Iteration: 33, correct: True\n",
      "[LibLinear]Iteration: 34, correct: True\n",
      "[LibLinear]Iteration: 35, correct: True\n",
      "[LibLinear]Iteration: 36, correct: True\n",
      "[LibLinear]Iteration: 37, correct: True\n",
      "[LibLinear]Iteration: 38, correct: True\n",
      "[LibLinear]Iteration: 39, correct: True\n",
      "[LibLinear]Iteration: 40, correct: True\n",
      "[LibLinear]Iteration: 41, correct: False\n",
      "[LibLinear]Iteration: 42, correct: True\n",
      "[LibLinear]Iteration: 43, correct: True\n",
      "[LibLinear]Iteration: 44, correct: True\n",
      "[LibLinear]Iteration: 45, correct: False\n",
      "[LibLinear]Iteration: 46, correct: True\n",
      "[LibLinear]Iteration: 47, correct: True\n",
      "[LibLinear]Iteration: 48, correct: True\n",
      "[LibLinear]Iteration: 49, correct: True\n",
      "[LibLinear]Iteration: 50, correct: True\n",
      "[LibLinear]Iteration: 51, correct: True\n",
      "[LibLinear]Iteration: 52, correct: True\n",
      "[LibLinear]Iteration: 53, correct: True\n",
      "[LibLinear]Iteration: 54, correct: True\n",
      "[LibLinear]Iteration: 55, correct: True\n",
      "[LibLinear]Iteration: 56, correct: True\n",
      "[LibLinear]Iteration: 57, correct: True\n",
      "[LibLinear]Iteration: 58, correct: True\n",
      "[LibLinear]Iteration: 59, correct: True\n",
      "[LibLinear]Iteration: 60, correct: True\n",
      "[LibLinear]Iteration: 61, correct: True\n",
      "[LibLinear]Iteration: 62, correct: True\n",
      "[LibLinear]Iteration: 63, correct: False\n",
      "[LibLinear]Iteration: 64, correct: True\n",
      "[LibLinear]Iteration: 65, correct: True\n",
      "[LibLinear]Iteration: 66, correct: False\n",
      "[LibLinear]Iteration: 67, correct: True\n",
      "[LibLinear]Iteration: 68, correct: True\n",
      "[LibLinear]Iteration: 69, correct: False\n",
      "[LibLinear]Iteration: 70, correct: True\n",
      "[LibLinear]Iteration: 71, correct: True\n",
      "[LibLinear]Iteration: 72, correct: True\n",
      "[LibLinear]Iteration: 73, correct: True\n",
      "[LibLinear]Iteration: 74, correct: True\n",
      "[LibLinear]Iteration: 75, correct: True\n",
      "[LibLinear]Iteration: 76, correct: True\n",
      "[LibLinear]Iteration: 77, correct: False\n",
      "[LibLinear]Iteration: 78, correct: True\n"
     ]
    }
   ],
   "source": [
    "# leave one out validation\n",
    "from sklearn.model_selection import LeaveOneOut\n",
    "\n",
    "leftOut = LeaveOneOut()\n",
    "leftEyeNameList = np.asarray(leftEyeNameList)\n",
    "scores = []\n",
    "counter = 0\n",
    "predicted = []\n",
    "tested = []\n",
    "for train_index, test_index in leftOut.split(knownData):\n",
    "    X_train, X_test = knownData[train_index], knownData[test_index]\n",
    "    y_train, y_test = leftEyeNameList[train_index], leftEyeNameList[test_index]\n",
    "    svc_test.fit(X_train, y_train)\n",
    "    y_pred = svc_test.predict(X_test)\n",
    "    \n",
    "    scores.append(accuracy_score(y_test, y_pred))\n",
    "    predicted.append(y_pred)\n",
    "    tested.append(y_test)\n",
    "    \n",
    "    counter += 1\n",
    "    print \"Iteration: \" + str(counter) + \", correct: \" + str(bool(y_test == y_pred))"
   ]
  },
  {
   "cell_type": "code",
   "execution_count": 11,
   "metadata": {},
   "outputs": [
    {
     "name": "stdout",
     "output_type": "stream",
     "text": [
      "0.871794871795\n",
      "Counter({1.0: 68, 0.0: 10})\n"
     ]
    }
   ],
   "source": [
    "# print results of leave one out validation\n",
    "print np.mean(np.asarray(scores))\n",
    "import collections\n",
    "print collections.Counter(scores)"
   ]
  },
  {
   "cell_type": "code",
   "execution_count": 13,
   "metadata": {},
   "outputs": [
    {
     "data": {
      "image/png": "[encoded data removed]",
      "text/plain": [
       "<matplotlib.figure.Figure at 0x7fbb8e047090>"
      ]
     },
     "metadata": {},
     "output_type": "display_data"
    }
   ],
   "source": [
    "# create confusion matrix - code taken from Sarah's blood type prediction\n",
    "cnf_matrix = confusion_matrix(predicted, tested)\n",
    "plt.imshow(cnf_matrix, interpolation='nearest', cmap=plt.cm.Blues)\n",
    "plt.ylabel('True label')\n",
    "plt.xlabel('Predicted label')\n",
    "\n",
    "classes = ['Not Blue','Blue']\n",
    "\n",
    "plt.grid('off')\n",
    "plt.colorbar()\n",
    "tick_marks = np.arange(len(classes))\n",
    "plt.xticks(tick_marks, classes, rotation=45)\n",
    "plt.yticks(tick_marks, classes)\n",
    "\n",
    "for i in range(cnf_matrix.shape[0]):\n",
    "    for j in range(cnf_matrix.shape[1]):\n",
    "        plt.text(j, i, cnf_matrix[i, j],\n",
    "                 horizontalalignment=\"center\",\n",
    "                 color= \"orangered\")\n",
    "\n",
    "plt.gcf().subplots_adjust(left=0.25, bottom = 0.35)\n",
    "\n",
    "plt.savefig('Blue_Confusion.png',format='png',dpi=300)"
   ]
  },
  {
   "cell_type": "code",
   "execution_count": null,
   "metadata": {
    "collapsed": true
   },
   "outputs": [],
   "source": []
  }
 ],
 "metadata": {
  "kernelspec": {
   "display_name": "Python 2",
   "language": "python",
   "name": "python2"
  },
  "language_info": {
   "codemirror_mode": {
    "name": "ipython",
    "version": 2
   },
   "file_extension": ".py",
   "mimetype": "text/x-python",
   "name": "python",
   "nbconvert_exporter": "python",
   "pygments_lexer": "ipython2",
   "version": "2.7.13"
  }
 },
 "nbformat": 4,
 "nbformat_minor": 2
}

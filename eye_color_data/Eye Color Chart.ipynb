{
 "cells": [
  {
   "cell_type": "code",
   "execution_count": 66,
   "metadata": {
    "collapsed": true
   },
   "outputs": [],
   "source": [
    "import pandas as pd\n",
    "import numpy as np\n",
    "import matplotlib.pyplot as plt\n",
    "%matplotlib inline\n",
    "import collections\n",
    "import seaborn"
   ]
  },
  {
   "cell_type": "code",
   "execution_count": 19,
   "metadata": {
    "collapsed": true
   },
   "outputs": [],
   "source": [
    "# read names that have provided survey eye color data\n",
    "columns = ['name', 'timestamp', 'id', 'blood_type', 'height', 'weight', 'hw_comments', 'left', 'right', 'left_desc', 'right_desc', 'eye_comments', 'hair', 'hair_desc', 'hair_comments', 'misc', 'handedness']\n",
    "\n",
    "# pgp eye color data from survey\n",
    "surveyData = pd.read_csv(\"../eye_color_data/PGP-Survey.csv\", names=columns, na_values=['nan', '', 'NaN'])"
   ]
  },
  {
   "cell_type": "code",
   "execution_count": 20,
   "metadata": {},
   "outputs": [
    {
     "data": {
      "text/html": [
       "<div>\n",
       "<style>\n",
       "    .dataframe thead tr:only-child th {\n",
       "        text-align: right;\n",
       "    }\n",
       "\n",
       "    .dataframe thead th {\n",
       "        text-align: left;\n",
       "    }\n",
       "\n",
       "    .dataframe tbody tr th {\n",
       "        vertical-align: top;\n",
       "    }\n",
       "</style>\n",
       "<table border=\"1\" class=\"dataframe\">\n",
       "  <thead>\n",
       "    <tr style=\"text-align: right;\">\n",
       "      <th></th>\n",
       "      <th>name</th>\n",
       "      <th>timestamp</th>\n",
       "      <th>id</th>\n",
       "      <th>blood_type</th>\n",
       "      <th>height</th>\n",
       "      <th>weight</th>\n",
       "      <th>hw_comments</th>\n",
       "      <th>left</th>\n",
       "      <th>right</th>\n",
       "      <th>left_desc</th>\n",
       "      <th>right_desc</th>\n",
       "      <th>eye_comments</th>\n",
       "      <th>hair</th>\n",
       "      <th>hair_desc</th>\n",
       "      <th>hair_comments</th>\n",
       "      <th>misc</th>\n",
       "      <th>handedness</th>\n",
       "    </tr>\n",
       "  </thead>\n",
       "  <tbody>\n",
       "    <tr>\n",
       "      <th>0</th>\n",
       "      <td>Participant</td>\n",
       "      <td>Timestamp</td>\n",
       "      <td>Do not touch!</td>\n",
       "      <td>1.1 — Blood Type</td>\n",
       "      <td>1.2 — Height</td>\n",
       "      <td>1.3 — Weight</td>\n",
       "      <td>1.4 — Comments</td>\n",
       "      <td>2.1 — Left Eye (Photograph Number)  (full-size...</td>\n",
       "      <td>2.2 — Right Eye (Photograph Number)  (full-siz...</td>\n",
       "      <td>2.3 — Left Eye Color - Text Description</td>\n",
       "      <td>2.4 — Right Eye Color - Text Description</td>\n",
       "      <td>2.5 —Comments</td>\n",
       "      <td>3.1 — What is your natural hair color currentl...</td>\n",
       "      <td>3.2 — Hair Color - Text Description</td>\n",
       "      <td>3.3 — Comments</td>\n",
       "      <td>4.1 — Any final thoughts?</td>\n",
       "      <td>1.4 — Handedness</td>\n",
       "    </tr>\n",
       "    <tr>\n",
       "      <th>1</th>\n",
       "      <td>hu826751</td>\n",
       "      <td>8/12/2015 15:21:10</td>\n",
       "      <td>27y7cuiyvfqmwsuf9lyzzpr11crysksjum4v0fgdbmxrng...</td>\n",
       "      <td>AB +</td>\n",
       "      <td>6'2\"</td>\n",
       "      <td>188</td>\n",
       "      <td>NaN</td>\n",
       "      <td>11</td>\n",
       "      <td>11</td>\n",
       "      <td>greyish blue</td>\n",
       "      <td>greyish blue</td>\n",
       "      <td>NaN</td>\n",
       "      <td>brown</td>\n",
       "      <td>NaN</td>\n",
       "      <td>NaN</td>\n",
       "      <td>NaN</td>\n",
       "      <td>Right</td>\n",
       "    </tr>\n",
       "    <tr>\n",
       "      <th>2</th>\n",
       "      <td>huDDCF88</td>\n",
       "      <td>8/12/2015 15:51:01</td>\n",
       "      <td>3i5vtwnckk71bh94bo7p0fzgagmnio2ur7ob450fvsnprw...</td>\n",
       "      <td>O +</td>\n",
       "      <td>5'10\"</td>\n",
       "      <td>159</td>\n",
       "      <td>NaN</td>\n",
       "      <td>1</td>\n",
       "      <td>1</td>\n",
       "      <td>blue</td>\n",
       "      <td>same</td>\n",
       "      <td>NaN</td>\n",
       "      <td>blonde</td>\n",
       "      <td>NaN</td>\n",
       "      <td>NaN</td>\n",
       "      <td>NaN</td>\n",
       "      <td>Right</td>\n",
       "    </tr>\n",
       "    <tr>\n",
       "      <th>3</th>\n",
       "      <td>hu3DC5EA</td>\n",
       "      <td>8/12/2015 15:55:41</td>\n",
       "      <td>radduuaftr4ajkwdz0kvckj1o2yrw8v5bwor6avvhnm0q189d</td>\n",
       "      <td>A +</td>\n",
       "      <td>5'5\"</td>\n",
       "      <td>184</td>\n",
       "      <td>NaN</td>\n",
       "      <td>15</td>\n",
       "      <td>15</td>\n",
       "      <td>light brown</td>\n",
       "      <td>light brown</td>\n",
       "      <td>NaN</td>\n",
       "      <td>brown</td>\n",
       "      <td>dark brown</td>\n",
       "      <td>NaN</td>\n",
       "      <td>NaN</td>\n",
       "      <td>Right</td>\n",
       "    </tr>\n",
       "    <tr>\n",
       "      <th>4</th>\n",
       "      <td>hu008567</td>\n",
       "      <td>8/12/2015 18:14:48</td>\n",
       "      <td>3rgj1kpcwof17q3lgwebtuiwufmwfev27ibcoxs4sqf8fy...</td>\n",
       "      <td>O +</td>\n",
       "      <td>5'1\"</td>\n",
       "      <td>138</td>\n",
       "      <td>I draw and paint almost equally with right and...</td>\n",
       "      <td>7</td>\n",
       "      <td>7</td>\n",
       "      <td>very blue with darker blue outside ring</td>\n",
       "      <td>very blue with darker blue outside ring</td>\n",
       "      <td>I'm adopted but my birth mother was described ...</td>\n",
       "      <td>red</td>\n",
       "      <td>dark red/auburn/very metallic</td>\n",
       "      <td>Born with red hair per adoption papers/descrip...</td>\n",
       "      <td>NaN</td>\n",
       "      <td>Right</td>\n",
       "    </tr>\n",
       "  </tbody>\n",
       "</table>\n",
       "</div>"
      ],
      "text/plain": [
       "          name           timestamp  \\\n",
       "0  Participant           Timestamp   \n",
       "1     hu826751  8/12/2015 15:21:10   \n",
       "2     huDDCF88  8/12/2015 15:51:01   \n",
       "3     hu3DC5EA  8/12/2015 15:55:41   \n",
       "4     hu008567  8/12/2015 18:14:48   \n",
       "\n",
       "                                                  id        blood_type  \\\n",
       "0                                      Do not touch!  1.1 — Blood Type   \n",
       "1  27y7cuiyvfqmwsuf9lyzzpr11crysksjum4v0fgdbmxrng...              AB +   \n",
       "2  3i5vtwnckk71bh94bo7p0fzgagmnio2ur7ob450fvsnprw...               O +   \n",
       "3  radduuaftr4ajkwdz0kvckj1o2yrw8v5bwor6avvhnm0q189d               A +   \n",
       "4  3rgj1kpcwof17q3lgwebtuiwufmwfev27ibcoxs4sqf8fy...               O +   \n",
       "\n",
       "         height        weight  \\\n",
       "0  1.2 — Height  1.3 — Weight   \n",
       "1          6'2\"           188   \n",
       "2         5'10\"           159   \n",
       "3          5'5\"           184   \n",
       "4          5'1\"           138   \n",
       "\n",
       "                                         hw_comments  \\\n",
       "0                                     1.4 — Comments   \n",
       "1                                                NaN   \n",
       "2                                                NaN   \n",
       "3                                                NaN   \n",
       "4  I draw and paint almost equally with right and...   \n",
       "\n",
       "                                                left  \\\n",
       "0  2.1 — Left Eye (Photograph Number)  (full-size...   \n",
       "1                                                 11   \n",
       "2                                                  1   \n",
       "3                                                 15   \n",
       "4                                                  7   \n",
       "\n",
       "                                               right  \\\n",
       "0  2.2 — Right Eye (Photograph Number)  (full-siz...   \n",
       "1                                                 11   \n",
       "2                                                  1   \n",
       "3                                                 15   \n",
       "4                                                  7   \n",
       "\n",
       "                                 left_desc  \\\n",
       "0  2.3 — Left Eye Color - Text Description   \n",
       "1                             greyish blue   \n",
       "2                                     blue   \n",
       "3                              light brown   \n",
       "4  very blue with darker blue outside ring   \n",
       "\n",
       "                                 right_desc  \\\n",
       "0  2.4 — Right Eye Color - Text Description   \n",
       "1                              greyish blue   \n",
       "2                                      same   \n",
       "3                               light brown   \n",
       "4   very blue with darker blue outside ring   \n",
       "\n",
       "                                        eye_comments  \\\n",
       "0                                      2.5 —Comments   \n",
       "1                                                NaN   \n",
       "2                                                NaN   \n",
       "3                                                NaN   \n",
       "4  I'm adopted but my birth mother was described ...   \n",
       "\n",
       "                                                hair  \\\n",
       "0  3.1 — What is your natural hair color currentl...   \n",
       "1                                              brown   \n",
       "2                                             blonde   \n",
       "3                                              brown   \n",
       "4                                                red   \n",
       "\n",
       "                             hair_desc  \\\n",
       "0  3.2 — Hair Color - Text Description   \n",
       "1                                  NaN   \n",
       "2                                  NaN   \n",
       "3                           dark brown   \n",
       "4        dark red/auburn/very metallic   \n",
       "\n",
       "                                       hair_comments  \\\n",
       "0                                     3.3 — Comments   \n",
       "1                                                NaN   \n",
       "2                                                NaN   \n",
       "3                                                NaN   \n",
       "4  Born with red hair per adoption papers/descrip...   \n",
       "\n",
       "                        misc        handedness  \n",
       "0  4.1 — Any final thoughts?  1.4 — Handedness  \n",
       "1                        NaN             Right  \n",
       "2                        NaN             Right  \n",
       "3                        NaN             Right  \n",
       "4                        NaN             Right  "
      ]
     },
     "execution_count": 20,
     "metadata": {},
     "output_type": "execute_result"
    }
   ],
   "source": [
    "surveyData.head()"
   ]
  },
  {
   "cell_type": "code",
   "execution_count": 21,
   "metadata": {},
   "outputs": [],
   "source": [
    "leftColors = surveyData['left'].as_matrix()[1:]"
   ]
  },
  {
   "cell_type": "code",
   "execution_count": 50,
   "metadata": {},
   "outputs": [],
   "source": [
    "surveyResults = collections.Counter(leftColors).items()[1:]"
   ]
  },
  {
   "cell_type": "code",
   "execution_count": 51,
   "metadata": {},
   "outputs": [],
   "source": [
    "for index, item in enumerate(surveyResults):\n",
    "    surveyResults[index] = (int(item[0]), item[1])"
   ]
  },
  {
   "cell_type": "code",
   "execution_count": 67,
   "metadata": {
    "collapsed": true
   },
   "outputs": [],
   "source": [
    "seaborn.set()"
   ]
  },
  {
   "cell_type": "code",
   "execution_count": 69,
   "metadata": {},
   "outputs": [
    {
     "data": {
      "image/png": "[encoded data removed]",
      "text/plain": [
       "<matplotlib.figure.Figure at 0x7f8dc37ef910>"
      ]
     },
     "metadata": {},
     "output_type": "display_data"
    },
    {
     "data": {
      "text/plain": [
       "<matplotlib.figure.Figure at 0x7f8dc32c6c90>"
      ]
     },
     "metadata": {},
     "output_type": "display_data"
    }
   ],
   "source": [
    "plt.bar([result[0] for result in surveyResults], [result[1] for result in surveyResults], color='g')\n",
    "plt.title(\"Left Eye Responses\")\n",
    "plt.xlabel(\"Image Number\")\n",
    "plt.ylabel(\"Number of Responses\")\n",
    "plt.xticks([result[0] for result in surveyResults])\n",
    "plt.show()\n",
    "plt.savefig('left_eye_responses.png', dpi=300)"
   ]
  },
  {
   "cell_type": "code",
   "execution_count": null,
   "metadata": {
    "collapsed": true
   },
   "outputs": [],
   "source": []
  }
 ],
 "metadata": {
  "kernelspec": {
   "display_name": "Python 2",
   "language": "python",
   "name": "python2"
  },
  "language_info": {
   "codemirror_mode": {
    "name": "ipython",
    "version": 2
   },
   "file_extension": ".py",
   "mimetype": "text/x-python",
   "name": "python",
   "nbconvert_exporter": "python",
   "pygments_lexer": "ipython2",
   "version": "2.7.13"
  }
 },
 "nbformat": 4,
 "nbformat_minor": 2
}

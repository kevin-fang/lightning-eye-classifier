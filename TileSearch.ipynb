{
 "cells": [
  {
   "cell_type": "code",
   "execution_count": 9,
   "metadata": {
    "collapsed": true
   },
   "outputs": [],
   "source": [
    "# searches for a tile path given its location\n",
    "# note: requires unix for system 'cat' command.\n",
    "\n",
    "import numpy as np\n",
    "import subprocess\n",
    "import re"
   ]
  },
  {
   "cell_type": "code",
   "execution_count": 11,
   "metadata": {},
   "outputs": [],
   "source": [
    "# load the coefficient paths from pgp data and generate tile path, step, and phase.\n",
    "coefPaths = np.load(\"./tiling-server/tiling_files/hiq-pgp-info\")\n",
    "tile_path = np.trunc(coefPaths/(16**5))\n",
    "tile_step = np.trunc((coefPaths - tile_path*16**5)/2)\n",
    "tile_phase = np.trunc((coefPaths - tile_path*16**5 - 2*tile_step))\n",
    "vhex = np.vectorize(hex)\n",
    "vectorizedPath = vhex(tile_path.astype('int'))\n",
    "vectorizedStep = vhex(tile_step.astype('int'))\n",
    "vectorizedPhase = vhex(tile_phase.astype('int'))"
   ]
  },
  {
   "cell_type": "code",
   "execution_count": 12,
   "metadata": {
    "collapsed": true
   },
   "outputs": [],
   "source": [
    "# search for a tile\n",
    "def tileSearch(arg):\n",
    "    vecpath = str(vectorizedPath[int(arg)])\n",
    "    vecpath = vecpath[2:].zfill(4)\n",
    "    proc = subprocess.check_output(\"cat ./tiling-server/tiling_files/assembly.00.hg19.fw.fwi | grep :\" + vecpath, shell=True)\n",
    "    return proc"
   ]
  },
  {
   "cell_type": "code",
   "execution_count": 13,
   "metadata": {
    "collapsed": true
   },
   "outputs": [],
   "source": [
    "# get the location of a tile\n",
    "def getTileLocation(raw_tile_data):\n",
    "    split_raw = raw_tile_data.split('\\t')\n",
    "    begin = int(split_raw[2])\n",
    "    sequence = int(split_raw[1])\n",
    "    hexVal = split_raw[0].split(':')[2]\n",
    "    cmdToRun = \"bgzip -c -b %d -s %d -d ./tiling-server/tiling_files/assembly.00.hg19.fw.gz | grep -B1 \\\"%s\\s\\\"\" % (begin, sequence, hexVal)\n",
    "    return subprocess.check_output(cmdToRun, shell=True)"
   ]
  },
  {
   "cell_type": "code",
   "execution_count": 14,
   "metadata": {
    "collapsed": true
   },
   "outputs": [],
   "source": [
    "def getTileInfo(index):\n",
    "    print \"Tile Path:\", vectorizedPath[index]\n",
    "    print \"Tile Step\", vectorizedStep[index]\n",
    "    print \"Tile Phase:\", vectorizedPhase[index]\n",
    "    print\n",
    "    tile = tileSearch(index)\n",
    "    print tile\n",
    "    print getTileLocation(tile)"
   ]
  },
  {
   "cell_type": "code",
   "execution_count": 15,
   "metadata": {
    "collapsed": true
   },
   "outputs": [],
   "source": [
    "# load generated coefficients (sorted by weight)\n",
    "coefs = np.load(\"coefs.pkl\")"
   ]
  },
  {
   "cell_type": "code",
   "execution_count": 16,
   "metadata": {},
   "outputs": [
    {
     "name": "stdout",
     "output_type": "stream",
     "text": [
      "Tile Path: 0x288\n",
      "Tile Step 0x415\n",
      "Tile Phase: 0x0\n",
      "\n",
      "hg19:chr15:0288\t99840\t132519571\t15\t16\n",
      "\n",
      "0287\t  28264893\n",
      "0288\t  28265118\n",
      "\n",
      "Tile Path: 0x288\n",
      "Tile Step 0x415\n",
      "Tile Phase: 0x1\n",
      "\n",
      "hg19:chr15:0288\t99840\t132519571\t15\t16\n",
      "\n",
      "0287\t  28264893\n",
      "0288\t  28265118\n",
      "\n"
     ]
    }
   ],
   "source": [
    "getTileInfo(1792420)\n",
    "getTileInfo(1792421)"
   ]
  },
  {
   "cell_type": "code",
   "execution_count": 16,
   "metadata": {},
   "outputs": [
    {
     "name": "stdout",
     "output_type": "stream",
     "text": [
      "hg19:chr15:0288\t99840\t132519571\t15\t16\n",
      "1792420 \n",
      "\n",
      "hg19:chr12:0221\t500208\t115007292\t15\t16\n",
      "1570048 \n",
      "\n"
     ]
    }
   ],
   "source": [
    "# search for the specific tile location from the coefficients\n",
    "tileLocations = []\n",
    "for item in coefs:\n",
    "    tile = tileSearch(item)\n",
    "    print tile, item, '\\n'\n",
    "    tileLocations.append(tile)"
   ]
  },
  {
   "cell_type": "code",
   "execution_count": 17,
   "metadata": {},
   "outputs": [
    {
     "name": "stdout",
     "output_type": "stream",
     "text": [
      "0287\t  28264893\n",
      "0288\t  28265118\n",
      "\n"
     ]
    }
   ],
   "source": [
    "# get the location of the tile with the highest coefficient\n",
    "print getTileLocation(tileLocations[0])"
   ]
  },
  {
   "cell_type": "markdown",
   "metadata": {},
   "source": [
    "According to the to the NIH Genetics Home Reference (https://ghr.nlm.nih.gov/gene/HERC2#location), the HERC2 gene, responsible for coding the protein that produces the blue eye color is located from base pairs 28,111,037 to 28,322,173 on chromosome 15. The classifier created the following output:\n",
    "\n",
    "```\n",
    "0287\t  28264893\n",
    "0288\t  28265118\n",
    "\n",
    "```\n",
    "`getTileLocation(tileLocations[0])` returns the chromosome location responsible for the tile with the highest coefficient generated from the Support Vector Classifier. As evident by the results, the classifier correctly predicted that eye color is reliant on base pairs 28,264,893 to 28,265,118."
   ]
  }
 ],
 "metadata": {
  "kernelspec": {
   "display_name": "Python 2",
   "language": "python",
   "name": "python2"
  },
  "language_info": {
   "codemirror_mode": {
    "name": "ipython",
    "version": 2
   },
   "file_extension": ".py",
   "mimetype": "text/x-python",
   "name": "python",
   "nbconvert_exporter": "python",
   "pygments_lexer": "ipython2",
   "version": "2.7.13"
  }
 },
 "nbformat": 4,
 "nbformat_minor": 2
}

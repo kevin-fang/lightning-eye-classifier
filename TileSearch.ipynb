{
 "cells": [
  {
   "cell_type": "code",
   "execution_count": 7,
   "metadata": {
    "collapsed": true
   },
   "outputs": [],
   "source": [
    "# searches for a tile path given its location\n",
    "# note: requires unix for system 'cat' command.\n",
    "\n",
    "import numpy as np\n",
    "import subprocess\n",
    "import re"
   ]
  },
  {
   "cell_type": "code",
   "execution_count": 8,
   "metadata": {
    "collapsed": true
   },
   "outputs": [],
   "source": [
    "# load the coefficient paths from pgp data and generate tile path, step, and phase.\n",
    "coefPaths = np.load(\"./tiling/hiq-pgp-info\")\n",
    "tile_path = np.trunc(coefPaths/(16**5))\n",
    "tile_step = np.trunc((coefPaths - tile_path*16**5)/2)\n",
    "tile_phase = np.trunc((coefPaths - tile_path*16**5 - 2*tile_step))\n",
    "vhex = np.vectorize(hex)\n",
    "vectorizedPath = vhex(tile_path.astype('int'))\n",
    "vectorizedStep = vhex(tile_step.astype('int'))"
   ]
  },
  {
   "cell_type": "code",
   "execution_count": 9,
   "metadata": {
    "collapsed": true
   },
   "outputs": [],
   "source": [
    "# search for a tile\n",
    "def tileSearch(arg):\n",
    "    vecpath = str(vectorizedPath[int(arg)])\n",
    "    vecpath = vecpath[2:].zfill(4)\n",
    "    proc = subprocess.check_output(\"cat ./tiling/assembly.00.hg19.fw.fwi | grep :\" + vecpath, shell=True)\n",
    "    return proc"
   ]
  },
  {
   "cell_type": "code",
   "execution_count": 10,
   "metadata": {
    "collapsed": true
   },
   "outputs": [],
   "source": [
    "# get the location of a tile\n",
    "def getTileLocation(raw_tile_data):\n",
    "    split_raw = raw_tile_data.split('\\t')\n",
    "    begin = int(split_raw[2])\n",
    "    sequence = int(split_raw[1])\n",
    "    hexVal = split_raw[0].split(':')[2]\n",
    "    cmdToRun = \"bgzip -c -b %d -s %d -d ./tiling/assembly.00.hg19.fw.gz | grep -B1 \\\"%s\\s\\\"\" % (begin, sequence, hexVal)\n",
    "    return subprocess.check_output(cmdToRun, shell=True)"
   ]
  },
  {
   "cell_type": "code",
   "execution_count": 5,
   "metadata": {
    "collapsed": true
   },
   "outputs": [],
   "source": [
    "# load generated coefficients (sorted by weight)\n",
    "coefs = np.load(\"coefs.pkl\")"
   ]
  },
  {
   "cell_type": "code",
   "execution_count": 12,
   "metadata": {},
   "outputs": [
    {
     "name": "stdout",
     "output_type": "stream",
     "text": [
      "hg19:chr15:0288\t99840\t132519571\t15\t16\n",
      "\n",
      "0287\t  28264893\n",
      "0288\t  28265118\n",
      "\n"
     ]
    }
   ],
   "source": [
    "val = 1792420\n",
    "\n",
    "print tileSearch(val)\n",
    "print getTileLocation(tileSearch(val))"
   ]
  },
  {
   "cell_type": "code",
   "execution_count": 29,
   "metadata": {},
   "outputs": [
    {
     "name": "stdout",
     "output_type": "stream",
     "text": [
      "hg19:chr15:0288\t99840\t132519571\t15\t16\n",
      "1792420\n",
      "hg19:chr9:01bc\t222800\t95268704\t15\t16\n",
      "1280301\n",
      "hg19:chr13:0244\t142304\t121208015\t15\t16\n",
      "1654420\n",
      "hg19:chr4:00e3\t342576\t49787616\t15\t16\n",
      "678939\n",
      "hg19:chr6:0145\t221344\t71918544\t15\t16\n",
      "969853\n",
      "hg19:chr5:00ff\t271856\t55839008\t15\t16\n",
      "751247\n",
      "hg19:chr2:0058\t332112\t18964000\t15\t16\n",
      "286179\n",
      "hg19:chr9:01bb\t192096\t95076592\t15\t16\n",
      "1276707\n",
      "hg19:chr3:00a7\t266528\t35696448\t15\t16\n",
      "516464\n",
      "hg19:chr6:0125\t355424\t64715520\t15\t16\n",
      "884661\n",
      "hg19:chr10:01cd\t236128\t98240648\t15\t16\n",
      "1322343\n",
      "hg19:chr3:00a7\t266528\t35696448\t15\t16\n",
      "516454\n",
      "hg19:chr17:02ce\t242560\t145038457\t15\t16\n",
      "1983840\n",
      "hg19:chr22:0321\t73632\t159663260\t15\t16\n",
      "2170593\n",
      "hg19:chr1:0029\t86656\t7899136\t15\t16\n",
      "119177\n",
      "hg19:chr16:02a3\t124704\t137549390\t15\t16\n",
      "1870557\n",
      "hg19:chr14:0270\t160272\t128985595\t15\t16\n",
      "1741051\n",
      "hg19:chr8:019a\t383408\t90025344\t15\t16\n",
      "1208426\n",
      "hg19:chr8:019a\t383408\t90025344\t15\t16\n",
      "1208428\n",
      "hg19:chr5:010b\t199728\t58956464\t15\t16\n",
      "786173\n",
      "hg19:chr2:0045\t235248\t14909296\t15\t16\n",
      "228774\n",
      "hg19:chr6:0146\t394592\t72139904\t15\t16\n",
      "975213\n",
      "hg19:chr4:00d5\t399600\t45892144\t15\t16\n",
      "642695\n",
      "hg19:chr17:02bd\t317536\t142037640\t15\t16\n",
      "1941551\n",
      "hg19:chr1:0012\t144896\t3444288\t15\t16\n",
      "58045\n",
      "hg19:chr3:00b9\t281584\t39324768\t15\t16\n",
      "566954\n",
      "hg19:chr8:0197\t264144\t89222048\t15\t16\n",
      "1192321\n",
      "hg19:chr6:0119\t180720\t62490496\t15\t16\n",
      "849033\n",
      "hg19:chr3:00b1\t429360\t37634080\t15\t16\n",
      "544572\n",
      "hg19:chr11:01f1\t458400\t105126236\t15\t16\n",
      "1422095\n",
      "hg19:chrX:0351\t296400\t169072325\t15\t16\n",
      "2445263\n",
      "hg19:chr2:004a\t199344\t15808592\t15\t16\n",
      "242948\n",
      "hg19:chr9:01a4\t322304\t92141088\t15\t16\n",
      "1232530\n",
      "hg19:chr3:00b1\t429360\t37634080\t15\t16\n",
      "544574\n",
      "hg19:chr18:02dc\t407200\t147967623\t15\t16\n",
      "2020887\n",
      "hg19:chr10:01ef\t305472\t104660874\t15\t16\n",
      "1420343\n",
      "hg19:chr3:00b1\t429360\t37634080\t15\t16\n",
      "544578\n",
      "hg19:chr22:0321\t73632\t159663260\t15\t16\n",
      "2170597\n",
      "hg19:chr10:01de\t368032\t101661465\t15\t16\n",
      "1367770\n",
      "hg19:chr4:00e3\t342576\t49787616\t15\t16\n",
      "678937\n",
      "hg19:chr12:022a\t234544\t116778197\t15\t16\n",
      "1595700\n",
      "hg19:chr1:0015\t943056\t4110896\t15\t16\n",
      "71357\n",
      "hg19:chr2:005f\t470032\t20410432\t15\t16\n",
      "309057\n",
      "hg19:chr19:02e7\t369232\t150943618\t15\t16\n",
      "2054634\n",
      "hg19:chr14:026e\t195920\t128702313\t15\t16\n",
      "1736510\n",
      "hg19:chr12:022b\t263456\t117012758\t15\t16\n",
      "1595761\n",
      "hg19:chr20:0302\t142528\t155267373\t15\t16\n",
      "2108225\n",
      "hg19:chr12:0219\t326512\t113774468\t15\t16\n",
      "1557419\n",
      "hg19:chr18:02db\t288368\t147679238\t15\t16\n",
      "2015334\n",
      "hg19:chr16:02a6\t219808\t137862577\t15\t16\n",
      "1877454\n",
      "hg19:chr10:01cf\t302416\t98599706\t15\t16\n",
      "1328517\n",
      "hg19:chr15:029d\t239040\t135852504\t15\t16\n",
      "1849259\n",
      "hg19:chrX:033e\t223680\t164983781\t15\t16\n",
      "2319157\n",
      "hg19:chr6:0136\t560032\t68467120\t15\t16\n",
      "926551\n",
      "hg19:chr1:003e\t313504\t13078864\t15\t16\n",
      "200986\n",
      "hg19:chrX:032e\t468528\t161810261\t15\t16\n",
      "2216828\n",
      "hg19:chr12:0218\t124384\t113650067\t15\t16\n",
      "1555375\n",
      "hg19:chr3:0091\t379280\t31822400\t15\t16\n",
      "473864\n",
      "hg19:chr13:0247\t114624\t121624018\t15\t16\n",
      "1660562\n",
      "hg19:chrX:034d\t191104\t168401413\t15\t16\n",
      "2420849\n",
      "hg19:chr14:0266\t260688\t126833313\t15\t16\n",
      "1719119\n"
     ]
    }
   ],
   "source": [
    "# search for the specific tile location from the coefficients\n",
    "tileLocations = []\n",
    "for item in coefs:\n",
    "    tile = tileSearch(item)\n",
    "    print tile, item\n",
    "    tileLocations.append(tile)"
   ]
  },
  {
   "cell_type": "code",
   "execution_count": 27,
   "metadata": {},
   "outputs": [
    {
     "name": "stdout",
     "output_type": "stream",
     "text": [
      "0287\t  28264893\n",
      "0288\t  28265118\n",
      "\n"
     ]
    }
   ],
   "source": [
    "# get the location of the tile with the highest coefficient\n",
    "print getTileLocation(tileLocations[0])"
   ]
  },
  {
   "cell_type": "markdown",
   "metadata": {},
   "source": [
    "According to the to the NIH Genetics Home Reference (https://ghr.nlm.nih.gov/gene/HERC2#location), the HERC2 gene, responsible for coding the protein that produces the blue eye color is located from base pairs 28,111,037 to 28,322,173 on chromosome 15. The classifier created the following output:\n",
    "\n",
    "```\n",
    "0287\t  28264893\n",
    "0288\t  28265118\n",
    "\n",
    "```\n",
    "`getTileLocation(tileLocations[0])` returns the chromosome location responsible for the tile with the highest coefficient generated from the Support Vector Classifier. As you can see, the classifier correctly predicted that eye color is reliant on base pairs 28,264,893 to 28,265,118."
   ]
  }
 ],
 "metadata": {
  "kernelspec": {
   "display_name": "Python 2",
   "language": "python",
   "name": "python2"
  },
  "language_info": {
   "codemirror_mode": {
    "name": "ipython",
    "version": 2
   },
   "file_extension": ".py",
   "mimetype": "text/x-python",
   "name": "python",
   "nbconvert_exporter": "python",
   "pygments_lexer": "ipython2",
   "version": "2.7.13"
  }
 },
 "nbformat": 4,
 "nbformat_minor": 2
}

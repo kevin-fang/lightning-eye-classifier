{
 "cells": [
  {
   "cell_type": "code",
   "execution_count": 1,
   "metadata": {
    "collapsed": true
   },
   "outputs": [],
   "source": [
    "import numpy as np\n",
    "import pandas as pd\n",
    "import math\n",
    "from sklearn.model_selection import cross_val_score, train_test_split\n",
    "from sklearn.externals import joblib\n",
    "import matplotlib.pyplot as plt"
   ]
  },
  {
   "cell_type": "code",
   "execution_count": 2,
   "metadata": {
    "collapsed": true
   },
   "outputs": [],
   "source": [
    "# load the saved support vector classifier\n",
    "svc_test = joblib.load(\"svc.pkl\")"
   ]
  },
  {
   "cell_type": "code",
   "execution_count": 3,
   "metadata": {
    "scrolled": true
   },
   "outputs": [
    {
     "name": "stdout",
     "output_type": "stream",
     "text": [
      "(1792420, 0.85221157198918984)\n",
      "(1570048, 0.13900986791003583)\n",
      "(1531647, 0.071014911671477068)\n",
      "(813895, 0.06617650537542856)\n",
      "(2334997, 0.063415306920521761)\n",
      "(1229091, 0.04924680419751877)\n",
      "(293783, 0.032680871892924235)\n",
      "(1433155, 0.026718741380009722)\n",
      "(1792082, 0.026136860916351271)\n",
      "(1673845, 0.018470589169844048)\n",
      "(2274388, 0.01601788249171859)\n",
      "(2187885, 0.011729740271638813)\n",
      "(2308447, 0.01100311926308524)\n",
      "(2319627, 0.010643874659416332)\n",
      "(775746, 0.0094927214720703489)\n",
      "(2063747, 0.00908735298940061)\n",
      "(200986, 0.0086433172354942918)\n",
      "(534975, 0.007948746813005593)\n",
      "(878875, 0.0077556524704592749)\n",
      "(2221351, 0.0068998138827534939)\n",
      "(1911970, 0.0064415305300268158)\n",
      "(2453399, 0.0045812880608832561)\n",
      "(1232530, 0.003640692787781999)\n",
      "(1986871, 0.0033272864422578246)\n",
      "(271169, 0.003115151201421642)\n",
      "(767366, 0.0023943638953306963)\n",
      "(1893821, 0.0018878751483582296)\n",
      "(926831, 0.001758055216196164)\n",
      "(1741051, 0.001192584186200975)\n",
      "(94715, 0.00083434834946815694)\n",
      "(1430873, 0.00081144285679449083)\n",
      "(893241, 0.00033554593209722121)\n",
      "(16763, 0.00017823349145621299)\n",
      "(1328446, 0.00012972603548597273)\n",
      "(624685, 4.8496399067744498e-05)\n",
      "(1457789, 4.0243507864492378e-05)\n"
     ]
    }
   ],
   "source": [
    "# retrieve all the nonzero coefficients and zip them with their respective indices\n",
    "nonzeroes = np.nonzero(svc_test.coef_[0])[0]\n",
    "coefs = zip(nonzeroes, abs(svc_test.coef_[0][nonzeroes]))\n",
    "\n",
    "# sort the coefficients by their value, instead of index\n",
    "coefs.sort(key = lambda x: x[1], reverse=True)\n",
    "\n",
    "for coef in coefs:\n",
    "    print coef"
   ]
  },
  {
   "cell_type": "code",
   "execution_count": 4,
   "metadata": {
    "collapsed": true
   },
   "outputs": [],
   "source": [
    "# save just the coefficient values\n",
    "firstCoefs = [coef[0] for coef in coefs]\n",
    "indices = np.asarray(firstCoefs)\n",
    "\n",
    "# dump the coefficients for tiling analysis\n",
    "indices.dump(\"coefs.pkl\")"
   ]
  },
  {
   "cell_type": "code",
   "execution_count": 5,
   "metadata": {
    "collapsed": true
   },
   "outputs": [],
   "source": [
    "# load the saved support vector classifier\n",
    "svc_test_no_hazel = joblib.load(\"svc_without_hazel.pkl\")"
   ]
  },
  {
   "cell_type": "code",
   "execution_count": 6,
   "metadata": {},
   "outputs": [
    {
     "name": "stdout",
     "output_type": "stream",
     "text": [
      "(1792420, 0.93262388356867709)\n",
      "(1570048, 0.16877823086694371)\n"
     ]
    }
   ],
   "source": [
    "# retrieve all the nonzero coefficients and zip them with their respective indices\n",
    "nonzeroes = np.nonzero(svc_test_no_hazel.coef_[0])[0]\n",
    "no_hazel_coefs = zip(nonzeroes, svc_test_no_hazel.coef_[0][nonzeroes])\n",
    "\n",
    "# sort the coefficients by their value, instead of index\n",
    "no_hazel_coefs.sort(key = lambda x: x[1], reverse=True)\n",
    "\n",
    "for coef in no_hazel_coefs:\n",
    "    print coef"
   ]
  },
  {
   "cell_type": "code",
   "execution_count": 7,
   "metadata": {
    "scrolled": false
   },
   "outputs": [
    {
     "data": {
      "image/png": "[encoded data removed]",
      "text/plain": [
       "<matplotlib.figure.Figure at 0x7fdff0568c50>"
      ]
     },
     "metadata": {},
     "output_type": "display_data"
    }
   ],
   "source": [
    "withHazel, = plt.plot([x for x in range(len(coefs))], [coef[1] for coef in coefs], ':r.')\n",
    "withoutHazel, = plt.plot([x for x in range(len(no_hazel_coefs))], [coef[1] for coef in no_hazel_coefs], '-bo')\n",
    "\n",
    "plt.legend([withHazel, withoutHazel], [\"With Hazel\", \"Without Hazel\"])\n",
    "plt.title(\"Coefficient Weights (absolute value)\")\n",
    "plt.ylabel(\"Weight (logarithmic)\")\n",
    "plt.yscale('log')\n",
    "plt.savefig(\"Coefficients_desc.png\", dpi=300, transparent=True)\n",
    "plt.show()"
   ]
  }
 ],
 "metadata": {
  "kernelspec": {
   "display_name": "Python 2",
   "language": "python",
   "name": "python2"
  },
  "language_info": {
   "codemirror_mode": {
    "name": "ipython",
    "version": 2
   },
   "file_extension": ".py",
   "mimetype": "text/x-python",
   "name": "python",
   "nbconvert_exporter": "python",
   "pygments_lexer": "ipython2",
   "version": "2.7.13"
  }
 },
 "nbformat": 4,
 "nbformat_minor": 2
}

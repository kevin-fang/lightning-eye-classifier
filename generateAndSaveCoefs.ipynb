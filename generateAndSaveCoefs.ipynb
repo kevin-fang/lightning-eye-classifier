{
 "cells": [
  {
   "cell_type": "code",
   "execution_count": 91,
   "metadata": {
    "collapsed": true
   },
   "outputs": [],
   "source": [
    "import numpy as np\n",
    "import pandas as pd\n",
    "from sklearn.model_selection import cross_val_score, train_test_split\n",
    "from sklearn.externals import joblib"
   ]
  },
  {
   "cell_type": "code",
   "execution_count": 92,
   "metadata": {
    "collapsed": true
   },
   "outputs": [],
   "source": [
    "# load the saved support vector classifier\n",
    "svc_test = joblib.load(\"svc.pkl\")"
   ]
  },
  {
   "cell_type": "code",
   "execution_count": 93,
   "metadata": {
    "scrolled": true
   },
   "outputs": [
    {
     "name": "stdout",
     "output_type": "stream",
     "text": [
      "(1792420, 0.32372423698020208)\n",
      "(981082, 0.10071041931276269)\n",
      "(1472632, 0.10004396832934007)\n",
      "(1007310, 0.073566122923813926)\n",
      "(444129, 0.044629981320942716)\n",
      "(865338, 0.039916922273430237)\n",
      "(489736, 0.032746360432997959)\n",
      "(174453, 0.03031268322706512)\n",
      "(579768, 0.029431511532881996)\n",
      "(238309, 0.027389850869883967)\n",
      "(1660670, 0.018410151623680211)\n",
      "(1370239, 0.016924862588293038)\n",
      "(2143615, 0.016114548858249506)\n",
      "(1794813, 0.014777673487784682)\n",
      "(2086601, 0.014334325702934676)\n",
      "(834607, 0.012982954140380689)\n",
      "(1843740, 0.0093281579129839368)\n",
      "(2461521, 0.0084142172400514127)\n",
      "(279543, 0.0082597949683368543)\n",
      "(2256145, 0.0081954169725747348)\n",
      "(809281, 0.0081823669457118213)\n",
      "(1580503, 0.0072350212088080875)\n",
      "(1335343, 0.005520470020886065)\n",
      "(1801942, 0.0050030821177857385)\n",
      "(1736283, 0.0036793361727867828)\n",
      "(438621, 0.0019042156548594329)\n",
      "(890474, 0.00071180190238712691)\n",
      "(2088513, 3.3726492822508257e-07)\n",
      "(2461523, 2.4804420457025974e-07)\n",
      "(1903788, -0.0029959753099066161)\n",
      "(2166165, -0.0036345113536874014)\n",
      "(1435117, -0.0057036641615754394)\n",
      "(596168, -0.0060940802135465572)\n",
      "(579760, -0.0063602885180751136)\n",
      "(1021400, -0.00647858199420285)\n",
      "(674644, -0.011017248078406741)\n",
      "(2043646, -0.012529715397717089)\n",
      "(2043901, -0.012993137678361365)\n",
      "(2189921, -0.014382699389520213)\n",
      "(2088511, -0.014431088053108986)\n",
      "(1081477, -0.015154571389103)\n",
      "(1594144, -0.016154596226457672)\n",
      "(402803, -0.017710714408147466)\n",
      "(12624, -0.022668663593933137)\n",
      "(1170439, -0.022973421404645117)\n",
      "(2393717, -0.028118020858031487)\n",
      "(768874, -0.030796599467434953)\n",
      "(137247, -0.033494594333308481)\n",
      "(481212, -0.036159026957339351)\n",
      "(71357, -0.037286870558786302)\n",
      "(200986, -0.038527792558342773)\n",
      "(903627, -0.044575679076914697)\n",
      "(1321008, -0.054245457947361686)\n",
      "(342019, -0.072226400818853065)\n",
      "(1257816, -0.073412849437351976)\n"
     ]
    }
   ],
   "source": [
    "# retrieve all the nonzero coefficients and zip them with their respective indices\n",
    "nonzeroes = np.nonzero(svc_test.coef_[0])[0]\n",
    "coefs = zip(nonzeroes, svc_test.coef_[0][nonzeroes])\n",
    "\n",
    "# sort the coefficients by their value, instead of index\n",
    "coefs.sort(key = lambda x: x[1], reverse=True)\n",
    "\n",
    "for coef in coefs:\n",
    "    print coef"
   ]
  },
  {
   "cell_type": "code",
   "execution_count": 94,
   "metadata": {},
   "outputs": [],
   "source": [
    "# save just the coefficient values\n",
    "firstCoefs = [coef[0] for coef in coefs]\n",
    "indices = np.asarray(firstCoefs)\n",
    "\n",
    "# dump the coefficients for tiling analysis\n",
    "indices.dump(\"coefs.pkl\")"
   ]
  }
 ],
 "metadata": {
  "kernelspec": {
   "display_name": "Python 2",
   "language": "python",
   "name": "python2"
  },
  "language_info": {
   "codemirror_mode": {
    "name": "ipython",
    "version": 2
   },
   "file_extension": ".py",
   "mimetype": "text/x-python",
   "name": "python",
   "nbconvert_exporter": "python",
   "pygments_lexer": "ipython2",
   "version": "2.7.13"
  }
 },
 "nbformat": 4,
 "nbformat_minor": 2
}

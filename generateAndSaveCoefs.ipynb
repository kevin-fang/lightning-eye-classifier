{
 "cells": [
  {
   "cell_type": "code",
   "execution_count": 7,
   "metadata": {
    "collapsed": true
   },
   "outputs": [],
   "source": [
    "import numpy as np\n",
    "import pandas as pd\n",
    "from sklearn.model_selection import cross_val_score, train_test_split\n",
    "from sklearn.externals import joblib"
   ]
  },
  {
   "cell_type": "code",
   "execution_count": 8,
   "metadata": {
    "collapsed": true
   },
   "outputs": [],
   "source": [
    "# load the saved support vector classifier\n",
    "svc_test = joblib.load(\"svc.pkl\")"
   ]
  },
  {
   "cell_type": "code",
   "execution_count": 9,
   "metadata": {
    "scrolled": true
   },
   "outputs": [
    {
     "name": "stdout",
     "output_type": "stream",
     "text": [
      "(1792420, 0.47913883288377418)\n",
      "(1280301, 0.078098439408637185)\n",
      "(1654420, 0.052597393590133053)\n",
      "(678939, 0.05149036306361978)\n",
      "(969853, 0.045891586182563511)\n",
      "(751247, 0.03998129279389042)\n",
      "(286179, 0.025927551147708283)\n",
      "(1276707, 0.024550670283066102)\n",
      "(516464, 0.022796761389242162)\n",
      "(884661, 0.02182471915141088)\n",
      "(1322343, 0.021008747564582417)\n",
      "(516454, 0.020725265953522087)\n",
      "(1983840, 0.020143720932293357)\n",
      "(2170593, 0.019327865852018018)\n",
      "(119177, 0.017445742737810147)\n",
      "(1870557, 0.015659405313634685)\n",
      "(1741051, 0.015421162545355856)\n",
      "(1208426, 0.0150942412473264)\n",
      "(1208428, 0.014696502758603652)\n",
      "(786173, 0.014386296803982757)\n",
      "(228774, 0.01427248473511474)\n",
      "(975213, 0.01131690600844938)\n",
      "(642695, 0.01035785036343603)\n",
      "(1941551, 0.010030319641904735)\n",
      "(58045, 0.0089156352970673532)\n",
      "(566954, 0.006861476868211331)\n",
      "(1192321, 0.0051599524311916264)\n",
      "(849033, 0.0038242263461881025)\n",
      "(544572, 0.0037286385376050267)\n",
      "(1422095, 0.0028751312338629654)\n",
      "(2445263, 0.0022955128664169659)\n",
      "(242948, 0.0021618927319756189)\n",
      "(1232530, 0.0020194540859084799)\n",
      "(544574, 0.00092391580827597293)\n",
      "(2020887, 0.00061813870185003746)\n",
      "(1420343, 0.00042686231467751833)\n",
      "(544578, 1.5220053879003038e-07)\n",
      "(2170597, -4.2842905408368303e-08)\n",
      "(1367770, -0.00016061988717784874)\n",
      "(678937, -0.00017444849041984146)\n",
      "(1595700, -0.00020517617527810648)\n",
      "(71357, -0.0013402821263138664)\n",
      "(309057, -0.0014163431079810057)\n",
      "(2054634, -0.0020365733518909438)\n",
      "(1736510, -0.0025769408407058199)\n",
      "(1595761, -0.0026210783127730733)\n",
      "(2108225, -0.0030580258997119263)\n",
      "(1557419, -0.004687598365409185)\n",
      "(2015334, -0.0056157514321803631)\n",
      "(1877454, -0.0061010716561234876)\n",
      "(1328517, -0.0078766373838925763)\n",
      "(1849259, -0.010413558676499816)\n",
      "(2319157, -0.011149894324721597)\n",
      "(926551, -0.021081643332025564)\n",
      "(200986, -0.021126423131111103)\n",
      "(2216828, -0.023235415550483713)\n",
      "(1555375, -0.023382395812295488)\n",
      "(473864, -0.032337597538168041)\n",
      "(1660562, -0.035028297431574575)\n",
      "(2420849, -0.037684415281343142)\n",
      "(1719119, -0.087287786085917612)\n"
     ]
    }
   ],
   "source": [
    "# retrieve all the nonzero coefficients and zip them with their respective indices\n",
    "nonzeroes = np.nonzero(svc_test.coef_[0])[0]\n",
    "coefs = zip(nonzeroes, svc_test.coef_[0][nonzeroes])\n",
    "\n",
    "# sort the coefficients by their value, instead of index\n",
    "coefs.sort(key = lambda x: x[1], reverse=True)\n",
    "\n",
    "for coef in coefs:\n",
    "    print coef"
   ]
  },
  {
   "cell_type": "code",
   "execution_count": 10,
   "metadata": {
    "collapsed": true
   },
   "outputs": [],
   "source": [
    "# save just the coefficient values\n",
    "firstCoefs = [coef[0] for coef in coefs]\n",
    "indices = np.asarray(firstCoefs)\n",
    "\n",
    "# dump the coefficients for tiling analysis\n",
    "indices.dump(\"coefs.pkl\")"
   ]
  },
  {
   "cell_type": "code",
   "execution_count": null,
   "metadata": {
    "collapsed": true
   },
   "outputs": [],
   "source": []
  }
 ],
 "metadata": {
  "kernelspec": {
   "display_name": "Python 2",
   "language": "python",
   "name": "python2"
  },
  "language_info": {
   "codemirror_mode": {
    "name": "ipython",
    "version": 2
   },
   "file_extension": ".py",
   "mimetype": "text/x-python",
   "name": "python",
   "nbconvert_exporter": "python",
   "pygments_lexer": "ipython2",
   "version": "2.7.13"
  }
 },
 "nbformat": 4,
 "nbformat_minor": 2
}

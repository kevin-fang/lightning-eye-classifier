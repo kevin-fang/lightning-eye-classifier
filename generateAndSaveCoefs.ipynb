{
 "cells": [
  {
   "cell_type": "code",
   "execution_count": 1,
   "metadata": {
    "collapsed": true
   },
   "outputs": [],
   "source": [
    "import numpy as np\n",
    "import pandas as pd\n",
    "from sklearn.model_selection import cross_val_score, train_test_split\n",
    "from sklearn.externals import joblib"
   ]
  },
  {
   "cell_type": "code",
   "execution_count": 2,
   "metadata": {
    "collapsed": true
   },
   "outputs": [],
   "source": [
    "# load the saved support vector classifier\n",
    "svc_test = joblib.load(\"svc.pkl\")"
   ]
  },
  {
   "cell_type": "code",
   "execution_count": 3,
   "metadata": {
    "scrolled": true
   },
   "outputs": [
    {
     "name": "stdout",
     "output_type": "stream",
     "text": [
      "(1792420, 0.3237768880678028)\n",
      "(981082, 0.10070544287993848)\n",
      "(1472632, 0.10012460286244786)\n",
      "(1007310, 0.073513305841362994)\n",
      "(444129, 0.044679144263364765)\n",
      "(865338, 0.039857040318905336)\n",
      "(489736, 0.032914587058351326)\n",
      "(174453, 0.03029216646791107)\n",
      "(238309, 0.02739534459561108)\n",
      "(1660670, 0.01841541191787275)\n",
      "(1370239, 0.016959171020937351)\n",
      "(2143615, 0.016123826142004988)\n",
      "(1794813, 0.01466284452872992)\n",
      "(2086601, 0.014389772413399811)\n",
      "(2088513, 0.014381809116947388)\n",
      "(834607, 0.01300864645963627)\n",
      "(1843740, 0.0093727085261148257)\n",
      "(279543, 0.0082780480334725091)\n",
      "(809281, 0.0082157152046023179)\n",
      "(2256145, 0.0081127609422133977)\n",
      "(1580503, 0.0071527963791642429)\n",
      "(2461523, 0.0065729739366627068)\n",
      "(1335343, 0.0055198927782277854)\n",
      "(1801942, 0.0049786578794169005)\n",
      "(1736283, 0.0037677096859313783)\n",
      "(438621, 0.0018200723968871443)\n",
      "(2461521, 0.0018136924723017494)\n",
      "(579768, 0.001431352787633457)\n",
      "(890474, 0.00072061764137310003)\n",
      "(2088511, -1.6268740819033191e-06)\n",
      "(2461525, -2.2588526510493244e-06)\n",
      "(1903788, -0.0030496522587391672)\n",
      "(2166165, -0.0036519417549525112)\n",
      "(1435117, -0.005666304443969131)\n",
      "(596168, -0.0060653524794916491)\n",
      "(1021400, -0.0064642541732994538)\n",
      "(674644, -0.010984201121908991)\n",
      "(2043646, -0.012499472205752765)\n",
      "(2043901, -0.013039210221069759)\n",
      "(2189921, -0.01439757108013677)\n",
      "(1081477, -0.015131627127293752)\n",
      "(1594144, -0.016035456311984487)\n",
      "(402803, -0.017657519529222336)\n",
      "(12624, -0.022692717672372523)\n",
      "(1170439, -0.023018740478413468)\n",
      "(2393717, -0.028122666531950523)\n",
      "(768874, -0.030781616498747253)\n",
      "(137247, -0.033618066110760104)\n",
      "(579760, -0.034385850333055419)\n",
      "(481212, -0.036149738357747097)\n",
      "(71357, -0.037252188182729455)\n",
      "(200986, -0.038465108295703668)\n",
      "(903627, -0.044513058979503445)\n",
      "(1321008, -0.05426334134331371)\n",
      "(342019, -0.072252414108294985)\n",
      "(1257816, -0.073454900409946497)\n"
     ]
    }
   ],
   "source": [
    "# retrieve all the nonzero coefficients and zip them with their respective indices\n",
    "nonzeroes = np.nonzero(svc_test.coef_[0])[0]\n",
    "coefs = zip(nonzeroes, svc_test.coef_[0][nonzeroes])\n",
    "\n",
    "# sort the coefficients by their value, instead of index\n",
    "coefs.sort(key = lambda x: x[1], reverse=True)\n",
    "\n",
    "for coef in coefs:\n",
    "    print coef"
   ]
  },
  {
   "cell_type": "code",
   "execution_count": 4,
   "metadata": {
    "collapsed": true
   },
   "outputs": [],
   "source": [
    "# save just the coefficient values\n",
    "firstCoefs = [coef[0] for coef in coefs]\n",
    "indices = np.asarray(firstCoefs)\n",
    "\n",
    "# dump the coefficients for tiling analysis\n",
    "indices.dump(\"coefs.pkl\")"
   ]
  }
 ],
 "metadata": {
  "kernelspec": {
   "display_name": "Python 2",
   "language": "python",
   "name": "python2"
  },
  "language_info": {
   "codemirror_mode": {
    "name": "ipython",
    "version": 2
   },
   "file_extension": ".py",
   "mimetype": "text/x-python",
   "name": "python",
   "nbconvert_exporter": "python",
   "pygments_lexer": "ipython2",
   "version": "2.7.13"
  }
 },
 "nbformat": 4,
 "nbformat_minor": 2
}

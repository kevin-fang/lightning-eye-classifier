{
 "cells": [
  {
   "cell_type": "code",
   "execution_count": 1,
   "metadata": {
    "collapsed": true
   },
   "outputs": [],
   "source": [
    "import numpy as np\n",
    "import pandas as pd\n",
    "from sklearn.model_selection import cross_val_score, train_test_split\n",
    "from sklearn.externals import joblib\n",
    "import matplotlib.pyplot as plt"
   ]
  },
  {
   "cell_type": "code",
   "execution_count": 2,
   "metadata": {
    "collapsed": true
   },
   "outputs": [],
   "source": [
    "# load the saved support vector classifier\n",
    "svc_test = joblib.load(\"svc.pkl\")"
   ]
  },
  {
   "cell_type": "code",
   "execution_count": 3,
   "metadata": {
    "scrolled": true
   },
   "outputs": [
    {
     "name": "stdout",
     "output_type": "stream",
     "text": [
      "(1792420, 0.85218947279004753)\n",
      "(1570048, 0.13897184215018993)\n",
      "(1531647, 0.07101826706562113)\n",
      "(2334997, 0.063389297515158635)\n",
      "(1229091, 0.049159835227803997)\n",
      "(293783, 0.032679646449947947)\n",
      "(1433155, 0.026753223858570915)\n",
      "(1792082, 0.026125698494587513)\n",
      "(2308447, 0.015685937579652108)\n",
      "(2187885, 0.011159202134989017)\n",
      "(775746, 0.0094935162938324189)\n",
      "(534975, 0.0079824046168976374)\n",
      "(878875, 0.0077651919203948804)\n",
      "(1911970, 0.00644763224661935)\n",
      "(2453399, 0.0045851015236885329)\n",
      "(1232530, 0.0036427454392998614)\n",
      "(1986871, 0.0033388674189279476)\n",
      "(767366, 0.0023888848341478836)\n",
      "(926831, 0.0017415043753016325)\n",
      "(1741051, 0.0012039654070636829)\n",
      "(94715, 0.0008268335396941428)\n",
      "(1457789, 4.9362590231390346e-05)\n",
      "(624685, 4.5963492219701732e-05)\n",
      "(1328446, -0.00012451282952152614)\n",
      "(16763, -0.00018119710715020418)\n",
      "(893241, -0.00034194716115828523)\n",
      "(1430873, -0.00082506293421493447)\n",
      "(1893821, -0.0018862715030827937)\n",
      "(2221351, -0.0028437644874157184)\n",
      "(271169, -0.0031014375873935681)\n",
      "(200986, -0.0086495184795115348)\n",
      "(2063747, -0.0091138290221382014)\n",
      "(2319627, -0.010667460878710615)\n",
      "(2274388, -0.01602376367289415)\n",
      "(1673845, -0.018479223356029133)\n",
      "(813895, -0.066147638034768377)\n"
     ]
    }
   ],
   "source": [
    "# retrieve all the nonzero coefficients and zip them with their respective indices\n",
    "nonzeroes = np.nonzero(svc_test.coef_[0])[0]\n",
    "coefs = zip(nonzeroes, svc_test.coef_[0][nonzeroes])\n",
    "\n",
    "# sort the coefficients by their value, instead of index\n",
    "coefs.sort(key = lambda x: x[1], reverse=True)\n",
    "\n",
    "for coef in coefs:\n",
    "    print coef"
   ]
  },
  {
   "cell_type": "code",
   "execution_count": 8,
   "metadata": {
    "collapsed": true
   },
   "outputs": [],
   "source": [
    "# save just the coefficient values\n",
    "firstCoefs = [coef[0] for coef in coefs]\n",
    "indices = np.asarray(firstCoefs)\n",
    "\n",
    "# dump the coefficients for tiling analysis\n",
    "indices.dump(\"coefs.pkl\")"
   ]
  },
  {
   "cell_type": "code",
   "execution_count": 24,
   "metadata": {},
   "outputs": [
    {
     "data": {
      "text/plain": [
       "36"
      ]
     },
     "execution_count": 24,
     "metadata": {},
     "output_type": "execute_result"
    }
   ],
   "source": [
    "len(coefs)"
   ]
  },
  {
   "cell_type": "code",
   "execution_count": 15,
   "metadata": {},
   "outputs": [
    {
     "data": {
      "image/png": "[encoded data removed]",
      "text/plain": [
       "<matplotlib.figure.Figure at 0x7f2cb7c6b310>"
      ]
     },
     "metadata": {},
     "output_type": "display_data"
    }
   ],
   "source": [
    "plt.plot([x for x in range(len(coefs))], [coef[1] for coef in coefs], '--b.')\n",
    "plt.title(\"Coefficients, in order of decreasing weight\")\n",
    "plt.ylabel(\"Weight\")\n",
    "plt.savefig(\"Coefficients_desc\", dpi=300, transparent=True)\n",
    "plt.show()"
   ]
  },
  {
   "cell_type": "code",
   "execution_count": null,
   "metadata": {
    "collapsed": true
   },
   "outputs": [],
   "source": []
  }
 ],
 "metadata": {
  "kernelspec": {
   "display_name": "Python 2",
   "language": "python",
   "name": "python2"
  },
  "language_info": {
   "codemirror_mode": {
    "name": "ipython",
    "version": 2
   },
   "file_extension": ".py",
   "mimetype": "text/x-python",
   "name": "python",
   "nbconvert_exporter": "python",
   "pygments_lexer": "ipython2",
   "version": "2.7.13"
  }
 },
 "nbformat": 4,
 "nbformat_minor": 2
}

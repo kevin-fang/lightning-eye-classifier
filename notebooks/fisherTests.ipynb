{
 "cells": [
  {
   "cell_type": "code",
   "execution_count": 11,
   "metadata": {
    "collapsed": true
   },
   "outputs": [],
   "source": [
    "from sklearn.svm import LinearSVC\n",
    "from sklearn import preprocessing\n",
    "import numpy as np\n",
    "import pandas as pd\n",
    "from sklearn.model_selection import cross_val_score, train_test_split\n",
    "from sklearn.metrics import accuracy_score, confusion_matrix\n",
    "import matplotlib.pyplot as plt\n",
    "%matplotlib inline\n",
    "import collections\n",
    "import seaborn\n",
    "seaborn.set()"
   ]
  },
  {
   "cell_type": "code",
   "execution_count": 12,
   "metadata": {
    "collapsed": true
   },
   "outputs": [],
   "source": [
    "# read names that have provided survey eye color data\n",
    "columns = ['name', 'timestamp', 'id', 'blood_type', 'height', 'weight', 'hw_comments', 'left', 'right', 'left_desc', 'right_desc', 'eye_comments', 'hair', 'hair_desc', 'hair_comments', 'misc', 'handedness']\n",
    "\n",
    "# pgp eye color data from survey\n",
    "surveyData = pd.read_csv(\"../eye_color_data/PGP-Survey.csv\", names=columns, na_values=['nan', '', 'NaN'])\n",
    "\n",
    "# names of the pgp participants\n",
    "surveyNames = np.asarray(surveyData['name'].values.tolist())\n",
    "\n",
    "# load numpy array of tiled PGP data \n",
    "pgp = np.load(\"../hiq-pgp\")"
   ]
  },
  {
   "cell_type": "code",
   "execution_count": 13,
   "metadata": {
    "collapsed": true
   },
   "outputs": [],
   "source": [
    "eye_color = collections.namedtuple(\"EyeColor\", ['left', 'right'])\n",
    "\n",
    "# lookup a name in the survey data and return a tuple of the eye colors\n",
    "def getData(name, surveyData, excludeHazel=True):\n",
    "    for index, row in surveyData.iterrows():\n",
    "        if row['name'] == name:\n",
    "            if not excludeHazel:\n",
    "                return eye_color(row['left'], row['right'])\n",
    "            else:\n",
    "                if isstr(row['left_desc']) and isstr(row['right_desc']):\n",
    "                    if 'azel' in row['left_desc'] or 'azel' in row['right_desc']:\n",
    "                        return None\n",
    "                return eye_color(row['left'], row['right'])"
   ]
  },
  {
   "cell_type": "code",
   "execution_count": 14,
   "metadata": {
    "collapsed": true
   },
   "outputs": [],
   "source": [
    "# load numpy array of names and keep only the huID\n",
    "pgpNames = np.load(\"../names\")\n",
    "pgpNames = map(lambda name: name[:8], pgpNames)\n",
    "\n",
    "# simple lambda function to return if the input is a string\n",
    "isstr = lambda val: isinstance(val, str)"
   ]
  },
  {
   "cell_type": "code",
   "execution_count": 15,
   "metadata": {
    "collapsed": true
   },
   "outputs": [],
   "source": [
    "# list of tuples for index and name with eye color data (idx, name)\n",
    "nameEyeMap = []\n",
    "namePair = collections.namedtuple(\"NamePair\", ['index', 'name'])\n",
    "\n",
    "# dictionary of left and right eye colors with respective name, i.e., {\"huID\": 12}\n",
    "leftEyeMap = {}\n",
    "rightEyeMap = {}\n",
    "\n",
    "existingNames = []\n",
    "\n",
    "# loop through pgpNames and add eye color to maps, making sure not to add the same name twice\n",
    "for i, name in enumerate(pgpNames):\n",
    "    if name in surveyNames and name not in existingNames:\n",
    "        existingNames.append(name)\n",
    "        eyeData = getData(name, surveyData, excludeHazel=True)\n",
    "        if eyeData == None:\n",
    "            pass\n",
    "        elif isstr(eyeData.left) and isstr(eyeData.right):\n",
    "            nameEyeMap.append(namePair(i, name))\n",
    "            leftEyeMap[name] = eyeData.left\n",
    "            rightEyeMap[name] = eyeData.right\n",
    "\n",
    "# create lists containing the known eye color names and the unknown eye colors.\n",
    "nameIndices, correspondingNames = [], []\n",
    "for pair in nameEyeMap:\n",
    "    nameIndices.append(pair.index)\n",
    "    correspondingNames.append(pair.name)\n",
    "knownData = pgp[nameIndices]\n",
    "unknownData = np.delete(pgp, nameIndices, axis=0)"
   ]
  },
  {
   "cell_type": "code",
   "execution_count": 16,
   "metadata": {
    "collapsed": true
   },
   "outputs": [],
   "source": [
    "# convert dictionaries to lists \n",
    "leftEyeNameList = []\n",
    "rightEyeNameList = []\n",
    "# nametuple looks like (index, name)\n",
    "for _, name in nameEyeMap:\n",
    "    if isstr(leftEyeMap[name]):\n",
    "        leftEyeNameList.append(leftEyeMap[name])\n",
    "    if isstr(rightEyeMap[name]):\n",
    "        rightEyeNameList.append(rightEyeMap[name])\n",
    "\n",
    "blueOrNot = lambda color: 0 if int(color) > 13 else 1\n",
    "leftEyeNameList = map(blueOrNot, leftEyeNameList)"
   ]
  },
  {
   "cell_type": "code",
   "execution_count": 17,
   "metadata": {
    "collapsed": true
   },
   "outputs": [],
   "source": [
    "def getDiff(number): # these values are from the retrieve tile variant script\n",
    "    if number == 0 or number == 2 or number == 4:\n",
    "        return \"a\"\n",
    "    elif number == 1 or number == 3 or number == 5:\n",
    "        return \"g\"\n",
    "    else:\n",
    "        return other\n",
    "    \n",
    "def getEyeColor(number):\n",
    "    if number == 0:\n",
    "        return \"not blue\"\n",
    "    else:\n",
    "        return \"blue\""
   ]
  },
  {
   "cell_type": "code",
   "execution_count": 18,
   "metadata": {
    "collapsed": true
   },
   "outputs": [],
   "source": [
    "results = []\n",
    "# tile with index 1792420 had highest coefficient.\n",
    "# upon checking 1792420, appeared to be the other phase of the same tile.\n",
    "for i, genome in enumerate(knownData):\n",
    "    result = getDiff(genome[1792420]) + \" \" + getDiff(genome[1792421]) + \" \" + getEyeColor(leftEyeNameList[i])\n",
    "    results.append(result)"
   ]
  },
  {
   "cell_type": "code",
   "execution_count": 19,
   "metadata": {},
   "outputs": [
    {
     "name": "stdout",
     "output_type": "stream",
     "text": [
      "Blue AA 0, Not Blue AA 4\n",
      "Blue AG 3, Not Blue AG 21\n",
      "Blue GG 33, Not Blue GG 0\n"
     ]
    }
   ],
   "source": [
    "# get results from the phasing data\n",
    "# https://www.snpedia.com/index.php/rs12913832\n",
    "blueAG, blueGG, blueAA = 0, 0, 0\n",
    "notBlueAG, notBlueGG, notBlueAA = 0, 0, 0\n",
    "for result in results:\n",
    "    if \"a g not blue\" in result:\n",
    "        notBlueAG += 1\n",
    "    elif \"a g blue\" in result:\n",
    "        blueAG += 1 \n",
    "    elif \"g g blue\" in result:\n",
    "        blueGG += 1\n",
    "    elif \"g g not blue\" in result:\n",
    "        notBlueGG += 1\n",
    "    elif \"a a not blue\" in result:\n",
    "        notBlueAA += 1\n",
    "    elif \"a a blue\" in result:\n",
    "        blueAA += 1\n",
    "    \n",
    "\n",
    "print \"Blue AA\", str(blueAA) + \", Not Blue AA\", str(notBlueAA)\n",
    "print \"Blue AG\", str(blueAG) + \", Not Blue AG\", str(notBlueAG)\n",
    "print \"Blue GG\", str(blueGG) + \", Not Blue GG\", str(notBlueGG)"
   ]
  },
  {
   "cell_type": "code",
   "execution_count": 20,
   "metadata": {},
   "outputs": [
    {
     "name": "stdout",
     "output_type": "stream",
     "text": [
      "[[33  3]\n",
      " [ 0 21]]\n",
      "P value: 9.4917430966e-13\n"
     ]
    }
   ],
   "source": [
    "'''\n",
    "Fisher Exact Test - we avoid AA because there are too few samples.\n",
    "            GG        AG\n",
    "Blue        blueGG    blueAG\n",
    "\n",
    "Not Blue    notBlueGG notBlueAG\n",
    "'''\n",
    "import scipy.stats as stats\n",
    "fisher_table = np.asarray([[blueGG, blueAG], [notBlueGG, notBlueAG]])\n",
    "print fisher_table\n",
    "oddsratio, pvalue = stats.fisher_exact(fisher_table)\n",
    "print \"P value:\", pvalue"
   ]
  },
  {
   "cell_type": "code",
   "execution_count": 27,
   "metadata": {
    "scrolled": false
   },
   "outputs": [
    {
     "data": {
      "image/png": "[encoded data removed]",
      "text/plain": [
       "<matplotlib.figure.Figure at 0x7faa6a10eb10>"
      ]
     },
     "metadata": {},
     "output_type": "display_data"
    }
   ],
   "source": [
    "plt.imshow(fisher_table, interpolation='nearest', cmap=plt.cm.Greens)\n",
    "\n",
    "classes = ['Blue','Not Blue']\n",
    "genotypes = ['G>G (Blue)', 'A>G (Not Blue)']\n",
    "plt.title(\"Fisher Exact Test Table\")\n",
    "plt.grid('off')\n",
    "plt.colorbar()\n",
    "tick_marks_y = np.arange(len(classes))\n",
    "tick_marks_x = np.arange(len(genotypes))\n",
    "\n",
    "plt.xticks(tick_marks_x, genotypes)\n",
    "plt.yticks(tick_marks_y, classes)\n",
    "\n",
    "for i in range(fisher_table.shape[0]):\n",
    "    for j in range(fisher_table.shape[1]):\n",
    "        if fisher_table[i, j] > 20:\n",
    "            plt.text(j, i, fisher_table[i, j],\n",
    "                     horizontalalignment=\"center\",\n",
    "                     fontsize=28,\n",
    "                     color=\"skyblue\")\n",
    "        else:\n",
    "            plt.text(j, i, fisher_table[i, j],\n",
    "                     horizontalalignment=\"center\",\n",
    "                     fontsize=28,\n",
    "                     color=\"blue\")\n",
    "\n",
    "plt.gcf().subplots_adjust(left=0.25, bottom = 0.35)\n",
    "plt.tight_layout()\n",
    "plt.savefig('../images/fisher_table.png',format='png',dpi=900, transparent=True)"
   ]
  },
  {
   "cell_type": "code",
   "execution_count": null,
   "metadata": {
    "collapsed": true
   },
   "outputs": [],
   "source": []
  }
 ],
 "metadata": {
  "kernelspec": {
   "display_name": "Python 2",
   "language": "python",
   "name": "python2"
  },
  "language_info": {
   "codemirror_mode": {
    "name": "ipython",
    "version": 2
   },
   "file_extension": ".py",
   "mimetype": "text/x-python",
   "name": "python",
   "nbconvert_exporter": "python",
   "pygments_lexer": "ipython2",
   "version": "2.7.13"
  }
 },
 "nbformat": 4,
 "nbformat_minor": 2
}

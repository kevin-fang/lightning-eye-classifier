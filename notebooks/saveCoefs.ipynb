{
 "cells": [
  {
   "cell_type": "code",
   "execution_count": 1,
   "metadata": {
    "collapsed": true
   },
   "outputs": [],
   "source": [
    "import numpy as np\n",
    "import pandas as pd\n",
    "import math\n",
    "from sklearn.model_selection import cross_val_score, train_test_split\n",
    "from sklearn.externals import joblib\n",
    "import matplotlib.pyplot as plt\n",
    "import seaborn\n",
    "seaborn.set()"
   ]
  },
  {
   "cell_type": "code",
   "execution_count": 6,
   "metadata": {},
   "outputs": [],
   "source": [
    "# load the saved support vector classifier\n",
    "svc_test = joblib.load(\"svc.pkl\")"
   ]
  },
  {
   "cell_type": "code",
   "execution_count": 7,
   "metadata": {
    "scrolled": true
   },
   "outputs": [
    {
     "name": "stdout",
     "output_type": "stream",
     "text": [
      "(1792420, 0.85220331021414142)\n",
      "(1570048, 0.13896930287607576)\n",
      "(1531647, 0.071010061870019278)\n",
      "(813895, 0.066195856314489265)\n",
      "(2334997, 0.063379835224145281)\n",
      "(1229091, 0.049214052532356674)\n",
      "(293783, 0.032637305211729341)\n",
      "(1433155, 0.026770358016494224)\n",
      "(1792082, 0.026154534385790386)\n",
      "(1673845, 0.018470658829323139)\n",
      "(2221351, 0.016517415936312601)\n",
      "(2274388, 0.016020517383616886)\n",
      "(2319627, 0.010662374288231136)\n",
      "(2308447, 0.010611976839182906)\n",
      "(775746, 0.0094920961226280815)\n",
      "(2063747, 0.0090881932612032878)\n",
      "(200986, 0.008637115698866495)\n",
      "(534975, 0.0080022281314120237)\n",
      "(878875, 0.0077582473186748506)\n",
      "(1911970, 0.0064430400059398429)\n",
      "(2453399, 0.0045832644744735855)\n",
      "(1232530, 0.0036340915348223608)\n",
      "(1986871, 0.0033378907759779607)\n",
      "(271169, 0.0031079266942981502)\n",
      "(2187885, 0.0025146330653157494)\n",
      "(767366, 0.0023795236949777361)\n",
      "(1893821, 0.0018905152208444494)\n",
      "(926831, 0.001753418604576522)\n",
      "(1741051, 0.0011864152905550185)\n",
      "(94715, 0.00083682766369571433)\n",
      "(1430873, 0.00080701320976661758)\n",
      "(893241, 0.00033998667272128435)\n",
      "(16763, 0.00017752786703155459)\n",
      "(1328446, 0.00013022406399959996)\n",
      "(1457789, 6.3275818419555196e-05)\n",
      "(624685, 5.1049845804112138e-05)\n"
     ]
    }
   ],
   "source": [
    "# retrieve all the nonzero coefficients and zip them with their respective indices\n",
    "nonzeroes = np.nonzero(svc_test.coef_[0])[0]\n",
    "coefs = zip(nonzeroes, abs(svc_test.coef_[0][nonzeroes]))\n",
    "\n",
    "# sort the coefficients by their value, instead of index\n",
    "coefs.sort(key = lambda x: x[1], reverse=True)\n",
    "\n",
    "for coef in coefs:\n",
    "    print coef"
   ]
  },
  {
   "cell_type": "code",
   "execution_count": 8,
   "metadata": {
    "collapsed": true
   },
   "outputs": [],
   "source": [
    "# save just the coefficient values\n",
    "firstCoefs = [coef[0] for coef in coefs]\n",
    "indices = np.asarray(firstCoefs)\n",
    "\n",
    "# dump the coefficients for tiling analysis\n",
    "indices.dump(\"coefs.pkl\")"
   ]
  },
  {
   "cell_type": "code",
   "execution_count": 9,
   "metadata": {
    "collapsed": true
   },
   "outputs": [],
   "source": [
    "# load the saved support vector classifier with the hazel exclusion\n",
    "svc_test_no_hazel = joblib.load(\"svc_no_hazel.pkl\")"
   ]
  },
  {
   "cell_type": "code",
   "execution_count": 10,
   "metadata": {},
   "outputs": [
    {
     "name": "stdout",
     "output_type": "stream",
     "text": [
      "(1792420, 0.93262107452054654)\n",
      "(1570048, 0.16877794447473371)\n"
     ]
    }
   ],
   "source": [
    "# retrieve all the nonzero coefficients and zip them with their respective indices\n",
    "nonzeroes = np.nonzero(svc_test_no_hazel.coef_[0])[0]\n",
    "no_hazel_coefs = zip(nonzeroes, svc_test_no_hazel.coef_[0][nonzeroes])\n",
    "\n",
    "# sort the coefficients by their value, instead of index\n",
    "no_hazel_coefs.sort(key = lambda x: x[1], reverse=True)\n",
    "\n",
    "for coef in no_hazel_coefs:\n",
    "    print coef"
   ]
  },
  {
   "cell_type": "code",
   "execution_count": 11,
   "metadata": {
    "scrolled": true
   },
   "outputs": [
    {
     "data": {
      "image/png": "[encoded data removed]",
      "text/plain": [
       "<matplotlib.figure.Figure at 0x7f5d5a5a4850>"
      ]
     },
     "metadata": {},
     "output_type": "display_data"
    }
   ],
   "source": [
    "withHazel, = plt.plot([x for x in range(len(coefs))], [coef[1] for coef in coefs], ':ro')\n",
    "withoutHazel, = plt.plot([x for x in range(len(no_hazel_coefs))], [coef[1] for coef in no_hazel_coefs], '-bo')\n",
    "\n",
    "plt.legend([withHazel, withoutHazel], [\"With Hazel\", \"Without Hazel\"])\n",
    "plt.title(\"Coefficient Weights (absolute value)\")\n",
    "plt.ylabel(\"Weight (logarithmic)\")\n",
    "plt.yscale('log')\n",
    "plt.savefig(\"Coefficients_desc.png\", dpi=300, transparent=True)\n",
    "plt.show()"
   ]
  },
  {
   "cell_type": "code",
   "execution_count": null,
   "metadata": {
    "collapsed": true
   },
   "outputs": [],
   "source": []
  }
 ],
 "metadata": {
  "kernelspec": {
   "display_name": "Python 2",
   "language": "python",
   "name": "python2"
  },
  "language_info": {
   "codemirror_mode": {
    "name": "ipython",
    "version": 2
   },
   "file_extension": ".py",
   "mimetype": "text/x-python",
   "name": "python",
   "nbconvert_exporter": "python",
   "pygments_lexer": "ipython2",
   "version": "2.7.12"
  }
 },
 "nbformat": 4,
 "nbformat_minor": 2
}

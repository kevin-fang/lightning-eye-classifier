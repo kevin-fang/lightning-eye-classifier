{
 "cells": [
  {
   "cell_type": "code",
   "execution_count": 2,
   "metadata": {
    "collapsed": true
   },
   "outputs": [],
   "source": [
    "import numpy as np\n",
    "import pandas as pd\n",
    "import math\n",
    "from sklearn.model_selection import cross_val_score, train_test_split\n",
    "from sklearn.externals import joblib\n",
    "import matplotlib.pyplot as plt\n",
    "import seaborn\n",
    "seaborn.set()"
   ]
  },
  {
   "cell_type": "code",
   "execution_count": 3,
   "metadata": {
    "collapsed": true
   },
   "outputs": [],
   "source": [
    "# load the saved support vector classifier\n",
    "svc_test = joblib.load(\"svc.pkl\")"
   ]
  },
  {
   "cell_type": "code",
   "execution_count": 4,
   "metadata": {
    "scrolled": true
   },
   "outputs": [
    {
     "name": "stdout",
     "output_type": "stream",
     "text": [
      "(1792420, 0.8521683020114752)\n",
      "(1570048, 0.13896359367866379)\n",
      "(1531647, 0.071003906648946527)\n",
      "(813895, 0.066174821565107705)\n",
      "(2334997, 0.063356478223209625)\n",
      "(1229091, 0.049189378794699992)\n",
      "(293783, 0.032660924584195894)\n",
      "(1433155, 0.026776188122684948)\n",
      "(1792082, 0.02615358604720739)\n",
      "(1673845, 0.018471977595248757)\n",
      "(2308447, 0.016627636082769064)\n",
      "(2274388, 0.016022202770017001)\n",
      "(2187885, 0.011291653550972126)\n",
      "(2319627, 0.010663310015572929)\n",
      "(775746, 0.0094911924930659794)\n",
      "(2063747, 0.0091052657075714454)\n",
      "(200986, 0.0086513202239529366)\n",
      "(534975, 0.0079878700555549072)\n",
      "(878875, 0.0077632981900203129)\n",
      "(1911970, 0.0064464911544343424)\n",
      "(2453399, 0.0046086161199611645)\n",
      "(1232530, 0.003637698627104031)\n",
      "(1986871, 0.0033355966735648321)\n",
      "(271169, 0.0031083814253290792)\n",
      "(767366, 0.0023779262070200619)\n",
      "(1893821, 0.0018933265733373909)\n",
      "(926831, 0.0017484078882197983)\n",
      "(2221351, 0.0017458848913362807)\n",
      "(1741051, 0.0011855280965434591)\n",
      "(94715, 0.00082814678479318116)\n",
      "(1430873, 0.00081719443194071663)\n",
      "(893241, 0.0003427370913362403)\n",
      "(16763, 0.00018378885678988887)\n",
      "(1328446, 0.00012796471884780891)\n",
      "(1457789, 6.8235023569747716e-05)\n",
      "(624685, 4.2857718267540903e-05)\n"
     ]
    }
   ],
   "source": [
    "# retrieve all the nonzero coefficients and zip them with their respective indices\n",
    "nonzeroes = np.nonzero(svc_test.coef_[0])[0]\n",
    "coefs = zip(nonzeroes, abs(svc_test.coef_[0][nonzeroes]))\n",
    "\n",
    "# sort the coefficients by their value, instead of index\n",
    "coefs.sort(key = lambda x: x[1], reverse=True)\n",
    "\n",
    "for coef in coefs:\n",
    "    print coef"
   ]
  },
  {
   "cell_type": "code",
   "execution_count": 7,
   "metadata": {
    "collapsed": true
   },
   "outputs": [],
   "source": [
    "# save just the coefficient values\n",
    "firstCoefs = [coef[0] for coef in coefs]\n",
    "indices = np.asarray(firstCoefs)\n",
    "\n",
    "# dump the coefficients for tiling analysis\n",
    "indices.dump(\"coefs.pkl\")"
   ]
  },
  {
   "cell_type": "code",
   "execution_count": 8,
   "metadata": {
    "collapsed": true
   },
   "outputs": [],
   "source": [
    "# load the saved support vector classifier with the hazel exclusion\n",
    "svc_test_no_hazel = joblib.load(\"svc_no_hazel.pkl\")"
   ]
  },
  {
   "cell_type": "code",
   "execution_count": 9,
   "metadata": {},
   "outputs": [
    {
     "name": "stdout",
     "output_type": "stream",
     "text": [
      "(1792420, 0.93262381385479243)\n",
      "(1570048, 0.16877755465448538)\n"
     ]
    }
   ],
   "source": [
    "# retrieve all the nonzero coefficients and zip them with their respective indices\n",
    "nonzeroes = np.nonzero(svc_test_no_hazel.coef_[0])[0]\n",
    "no_hazel_coefs = zip(nonzeroes, svc_test_no_hazel.coef_[0][nonzeroes])\n",
    "\n",
    "# sort the coefficients by their value, instead of index\n",
    "no_hazel_coefs.sort(key = lambda x: x[1], reverse=True)\n",
    "\n",
    "for coef in no_hazel_coefs:\n",
    "    print coef"
   ]
  },
  {
   "cell_type": "code",
   "execution_count": 11,
   "metadata": {
    "scrolled": true
   },
   "outputs": [
    {
     "data": {
      "image/png": "[encoded data removed]",
      "text/plain": [
       "<matplotlib.figure.Figure at 0x7fd45b049550>"
      ]
     },
     "metadata": {},
     "output_type": "display_data"
    }
   ],
   "source": [
    "withHazel, = plt.plot([x for x in range(len(coefs))], [coef[1] for coef in coefs], ':ro')\n",
    "withoutHazel, = plt.plot([x for x in range(len(no_hazel_coefs))], [coef[1] for coef in no_hazel_coefs], '-bo')\n",
    "\n",
    "plt.legend([withHazel, withoutHazel], [\"With Hazel\", \"Without Hazel\"])\n",
    "plt.title(\"Coefficient Weights (absolute value)\")\n",
    "plt.ylabel(\"Weight (logarithmic)\")\n",
    "plt.yscale('log')\n",
    "plt.savefig(\"Coefficients_desc.png\", dpi=300, transparent=True)\n",
    "plt.show()"
   ]
  },
  {
   "cell_type": "code",
   "execution_count": null,
   "metadata": {
    "collapsed": true
   },
   "outputs": [],
   "source": []
  }
 ],
 "metadata": {
  "kernelspec": {
   "display_name": "Python 2",
   "language": "python",
   "name": "python2"
  },
  "language_info": {
   "codemirror_mode": {
    "name": "ipython",
    "version": 2
   },
   "file_extension": ".py",
   "mimetype": "text/x-python",
   "name": "python",
   "nbconvert_exporter": "python",
   "pygments_lexer": "ipython2",
   "version": "2.7.13"
  }
 },
 "nbformat": 4,
 "nbformat_minor": 2
}

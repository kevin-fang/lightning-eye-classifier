{
 "cells": [
  {
   "cell_type": "code",
   "execution_count": 7,
   "metadata": {
    "collapsed": true
   },
   "outputs": [],
   "source": [
    "# searches for a tile path given its location\n",
    "# note: requires unix for system 'cat' command.\n",
    "\n",
    "import numpy as np\n",
    "import subprocess\n",
    "import re"
   ]
  },
  {
   "cell_type": "code",
   "execution_count": 8,
   "metadata": {
    "collapsed": true
   },
   "outputs": [],
   "source": [
    "# load the coefficient paths from pgp data and generate tile path, step, and phase.\n",
    "coefPaths = np.load(\"../tile-searcher/tiling-files/hiq-pgp-info\")\n",
    "tile_path = np.trunc(coefPaths/(16**5))\n",
    "tile_step = np.trunc((coefPaths - tile_path*16**5)/2)\n",
    "tile_phase = np.trunc((coefPaths - tile_path*16**5 - 2*tile_step))\n",
    "\n",
    "# generate vectorized path, step, and phase\n",
    "vhex = np.vectorize(hex)\n",
    "vectorizedPath = vhex(tile_path.astype('int'))\n",
    "vectorizedStep = vhex(tile_step.astype('int'))\n",
    "vectorizedPhase = vhex(tile_phase.astype('int'))"
   ]
  },
  {
   "cell_type": "code",
   "execution_count": 9,
   "metadata": {
    "collapsed": true
   },
   "outputs": [],
   "source": [
    "# search for a tile\n",
    "def tileSearch(arg):\n",
    "    vecpath = str(vectorizedPath[int(arg)])\n",
    "    vecpath = vecpath[2:].zfill(4)\n",
    "    proc = subprocess.check_output(\"cat ../tile-searcher/tiling-files/assembly.00.hg19.fw.fwi | grep :\" + vecpath, shell=True)\n",
    "    return proc"
   ]
  },
  {
   "cell_type": "code",
   "execution_count": 15,
   "metadata": {
    "collapsed": true
   },
   "outputs": [],
   "source": [
    "# get the location of a tile\n",
    "def getTileLocation(arg, raw_tile_data):\n",
    "    split_raw = raw_tile_data.split('\\t')\n",
    "    begin = int(split_raw[2])\n",
    "    sequence = int(split_raw[1])\n",
    "    vecStep = str(vectorizedStep[int(arg)])\n",
    "    vecStep = vecStep[2:].zfill(4)\n",
    "    cmdToRun = \"bgzip -c -b %d -s %d -d ../tile-searcher/tiling-files/assembly.00.hg19.fw.gz | grep -B1 \\\"%s\\s\\\"\" % (begin, sequence, vecStep)\n",
    "    return subprocess.check_output(cmdToRun, shell=True)"
   ]
  },
  {
   "cell_type": "code",
   "execution_count": 16,
   "metadata": {
    "collapsed": true
   },
   "outputs": [],
   "source": [
    "def getTileInfo(index):\n",
    "    print \"Tile Path:\", vectorizedPath[index]\n",
    "    print \"Tile Step\", vectorizedStep[index]\n",
    "    print \"Tile Phase:\", vectorizedPhase[index], \"\\n\"\n",
    "    tile = tileSearch(index)\n",
    "    print tile\n",
    "    print getTileLocation(tile)"
   ]
  },
  {
   "cell_type": "code",
   "execution_count": 17,
   "metadata": {},
   "outputs": [],
   "source": [
    "# load generated coefficients (sorted by weight)\n",
    "coefs = np.load(\"coefs.pkl\")"
   ]
  },
  {
   "cell_type": "code",
   "execution_count": 22,
   "metadata": {},
   "outputs": [
    {
     "name": "stdout",
     "output_type": "stream",
     "text": [
      "hg19:chr15:0288\t99840\t132519571\t15\t16\n",
      "1792420 \n",
      "\n",
      "hg19:chr12:0221\t500208\t115007292\t15\t16\n",
      "1570048 \n",
      "\n",
      "hg19:chr11:0212\t188832\t112450397\t15\t16\n",
      "1531647 \n",
      "\n",
      "hg19:chr5:0111\t185056\t60522352\t15\t16\n",
      "813895 \n",
      "\n",
      "hg19:chrX:0341\t479632\t165407285\t15\t16\n",
      "2334997 \n",
      "\n",
      "hg19:chr9:01a2\t354480\t91636736\t15\t16\n",
      "1229091 \n",
      "\n",
      "hg19:chr2:005a\t86128\t19509248\t15\t16\n",
      "293783 \n",
      "\n",
      "hg19:chr11:01f3\t219008\t105713678\t15\t16\n",
      "1433155 \n",
      "\n",
      "hg19:chr15:0287\t154720\t132364834\t15\t16\n",
      "1792082 \n",
      "\n",
      "hg19:chr13:024d\t218464\t122570568\t15\t16\n",
      "1673845 \n",
      "\n",
      "hg19:chrX:032e\t468528\t161810261\t15\t16\n",
      "2221351 \n",
      "\n",
      "hg19:chrX:0335\t297104\t163539765\t15\t16\n",
      "2274388 \n",
      "\n",
      "hg19:chrX:033e\t223680\t164983781\t15\t16\n",
      "2319627 \n",
      "\n",
      "hg19:chrX:033c\t82384\t164726261\t15\t16\n",
      "2308447 \n",
      "\n",
      "hg19:chr5:0108\t128144\t58075936\t15\t16\n",
      "775746 \n",
      "\n",
      "hg19:chr19:02ee\t242160\t151921673\t15\t16\n",
      "2063747 \n",
      "\n",
      "hg19:chr1:003e\t313504\t13078864\t15\t16\n",
      "200986 \n",
      "\n",
      "hg19:chr3:00ac\t201424\t36904272\t15\t16\n",
      "534975 \n",
      "\n",
      "hg19:chr6:0124\t248992\t64466512\t15\t16\n",
      "878875 \n",
      "\n",
      "hg19:chr16:02b2\t126704\t140220157\t15\t16\n",
      "1911970 \n",
      "\n",
      "hg19:chrX:0351\t296400\t169072325\t15\t16\n",
      "2453399 \n",
      "\n",
      "hg19:chr9:01a4\t322304\t92141088\t15\t16\n",
      "1232530 \n",
      "\n",
      "hg19:chr17:02cf\t235136\t145281034\t15\t16\n",
      "1986871 \n",
      "\n",
      "hg19:chr2:0052\t126464\t17854608\t15\t16\n",
      "271169 \n",
      "\n",
      "hg19:chr22:0326\t203792\t160580097\t15\t16\n",
      "2187885 \n",
      "\n",
      "hg19:chr5:0103\t270368\t57157696\t15\t16\n",
      "767366 \n",
      "\n",
      "hg19:chr16:02ad\t353568\t138750744\t15\t16\n",
      "1893821 \n",
      "\n",
      "hg19:chr6:0136\t560032\t68467120\t15\t16\n",
      "926831 \n",
      "\n",
      "hg19:chr14:0270\t160272\t128985595\t15\t16\n",
      "1741051 \n",
      "\n",
      "hg19:chr1:001c\t275536\t6412416\t15\t16\n",
      "94715 \n",
      "\n",
      "hg19:chr11:01f2\t129008\t105584653\t15\t16\n",
      "1430873 \n",
      "\n",
      "hg19:chr6:0126\t352752\t65070960\t15\t16\n",
      "893241 \n",
      "\n",
      "hg19:chr1:0007\t211392\t1119264\t15\t16\n",
      "16763 \n",
      "\n",
      "hg19:chr10:01cf\t302416\t98599706\t15\t16\n",
      "1328446 \n",
      "\n",
      "hg19:chr11:01f9\t441136\t107193268\t15\t16\n",
      "1457789 \n",
      "\n",
      "hg19:chr4:00cd\t218880\t44527472\t15\t16\n",
      "624685 \n",
      "\n"
     ]
    }
   ],
   "source": [
    "# search for the specific tile location from the coefficients\n",
    "tileLocations = []\n",
    "for item in coefs:\n",
    "    tile = tileSearch(item)\n",
    "    print tile, item, '\\n'\n",
    "    tileLocations.append((item, tile))"
   ]
  },
  {
   "cell_type": "code",
   "execution_count": 23,
   "metadata": {},
   "outputs": [
    {
     "name": "stdout",
     "output_type": "stream",
     "text": [
      "0414\t  28365579\n",
      "0415\t  28365804\n",
      "\n"
     ]
    }
   ],
   "source": [
    "# get the location of the tile with the highest coefficient\n",
    "print getTileLocation(tileLocations[0][0], tileLocations[0][1])"
   ]
  },
  {
   "cell_type": "markdown",
   "metadata": {},
   "source": [
    "According to the to the NIH Genetics Home Reference (https://www.ncbi.nlm.nih.gov/gene/8924), the HERC2 gene, responsible for coding the protein that produces the blue eye color is located on:\n",
    "`GRCh37.p13 (GCF_000001405.25)\t15\tNC_000015.9 (28356183..28567313, complement)`\n",
    "\n",
    "The classifier created the following output:\n",
    "\n",
    "```\n",
    "0414\t  28365579\n",
    "0415\t  28365804\n",
    "\n",
    "```\n",
    "`getTileLocation(tileLocations[0][0], tileLocations[0][1])` returns the chromosome location responsible for the tile with the highest coefficient generated from the Support Vector Classifier. As evident by the results, the classifier correctly predicted that eye color is reliant on base pairs 28,365,579 to 28,365,804, which is on the HERC2 locations of 28,356,183 to 28,567,313."
   ]
  },
  {
   "cell_type": "code",
   "execution_count": null,
   "metadata": {
    "collapsed": true
   },
   "outputs": [],
   "source": []
  }
 ],
 "metadata": {
  "kernelspec": {
   "display_name": "Python 2",
   "language": "python",
   "name": "python2"
  },
  "language_info": {
   "codemirror_mode": {
    "name": "ipython",
    "version": 2
   },
   "file_extension": ".py",
   "mimetype": "text/x-python",
   "name": "python",
   "nbconvert_exporter": "python",
   "pygments_lexer": "ipython2",
   "version": "2.7.12"
  }
 },
 "nbformat": 4,
 "nbformat_minor": 2
}

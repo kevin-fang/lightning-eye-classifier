{
 "cells": [
  {
   "cell_type": "code",
   "execution_count": 1,
   "metadata": {
    "collapsed": true
   },
   "outputs": [],
   "source": [
    "import numpy as np\n",
    "import pandas as pd\n",
    "import math\n",
    "from sklearn.model_selection import cross_val_score, train_test_split\n",
    "from sklearn.externals import joblib\n",
    "import matplotlib.pyplot as plt"
   ]
  },
  {
   "cell_type": "code",
   "execution_count": 2,
   "metadata": {
    "collapsed": true
   },
   "outputs": [],
   "source": [
    "# load the saved support vector classifier\n",
    "svc_test = joblib.load(\"svc.pkl\")"
   ]
  },
  {
   "cell_type": "code",
   "execution_count": 3,
   "metadata": {
    "scrolled": true
   },
   "outputs": [
    {
     "name": "stdout",
     "output_type": "stream",
     "text": [
      "(1792420, 0.85215107609748697)\n",
      "(1570048, 0.13895784384709986)\n",
      "(1531647, 0.070999407212702703)\n",
      "(813895, 0.066176195679677335)\n",
      "(2334997, 0.063352370462704005)\n",
      "(1229091, 0.049198940536584516)\n",
      "(293783, 0.032640848091145959)\n",
      "(1433155, 0.026775015304592267)\n",
      "(1792082, 0.026174384934530309)\n",
      "(1673845, 0.018472252710562163)\n",
      "(2274388, 0.016026240600100751)\n",
      "(2308447, 0.011116681381933198)\n",
      "(2319627, 0.010664214449288362)\n",
      "(2187885, 0.0099383956350489328)\n",
      "(775746, 0.0094875711298530868)\n",
      "(2063747, 0.0091011300394682141)\n",
      "(200986, 0.008653209738257046)\n",
      "(2221351, 0.0086108684097414394)\n",
      "(534975, 0.0079885397510889682)\n",
      "(878875, 0.0077734290806432838)\n",
      "(1911970, 0.0064538717095634782)\n",
      "(2453399, 0.0046188618030230414)\n",
      "(1232530, 0.0036353200691976004)\n",
      "(1986871, 0.0033228660470130556)\n",
      "(271169, 0.0031052638839009824)\n",
      "(767366, 0.0023943203433709546)\n",
      "(1893821, 0.0018974118287087888)\n",
      "(926831, 0.0017491599663299459)\n",
      "(1741051, 0.0011815591520751693)\n",
      "(94715, 0.00083121779739323714)\n",
      "(1430873, 0.00081334126920412804)\n",
      "(893241, 0.00034460813274566249)\n",
      "(16763, 0.00018442963377634998)\n",
      "(1328446, 0.00013333342378215072)\n",
      "(1457789, 6.4906062120236884e-05)\n",
      "(624685, 3.4079377244581104e-05)\n"
     ]
    }
   ],
   "source": [
    "# retrieve all the nonzero coefficients and zip them with their respective indices\n",
    "nonzeroes = np.nonzero(svc_test.coef_[0])[0]\n",
    "coefs = zip(nonzeroes, abs(svc_test.coef_[0][nonzeroes]))\n",
    "\n",
    "# sort the coefficients by their value, instead of index\n",
    "coefs.sort(key = lambda x: x[1], reverse=True)\n",
    "\n",
    "for coef in coefs:\n",
    "    print coef"
   ]
  },
  {
   "cell_type": "code",
   "execution_count": 4,
   "metadata": {
    "collapsed": true
   },
   "outputs": [],
   "source": [
    "# save just the coefficient values\n",
    "firstCoefs = [coef[0] for coef in coefs]\n",
    "indices = np.asarray(firstCoefs)\n",
    "\n",
    "# dump the coefficients for tiling analysis\n",
    "indices.dump(\"coefs.pkl\")"
   ]
  },
  {
   "cell_type": "code",
   "execution_count": 5,
   "metadata": {
    "collapsed": true
   },
   "outputs": [],
   "source": [
    "# load the saved support vector classifier with the hazel exclusion\n",
    "svc_test_no_hazel = joblib.load(\"svc_no_hazel.pkl\")"
   ]
  },
  {
   "cell_type": "code",
   "execution_count": 6,
   "metadata": {},
   "outputs": [
    {
     "name": "stdout",
     "output_type": "stream",
     "text": [
      "(1792420, 0.93261823808578548)\n",
      "(1570048, 0.16877765529036176)\n"
     ]
    }
   ],
   "source": [
    "# retrieve all the nonzero coefficients and zip them with their respective indices\n",
    "nonzeroes = np.nonzero(svc_test_no_hazel.coef_[0])[0]\n",
    "no_hazel_coefs = zip(nonzeroes, svc_test_no_hazel.coef_[0][nonzeroes])\n",
    "\n",
    "# sort the coefficients by their value, instead of index\n",
    "no_hazel_coefs.sort(key = lambda x: x[1], reverse=True)\n",
    "\n",
    "for coef in no_hazel_coefs:\n",
    "    print coef"
   ]
  },
  {
   "cell_type": "code",
   "execution_count": 7,
   "metadata": {
    "scrolled": true
   },
   "outputs": [
    {
     "data": {
      "image/png": "[encoded data removed]",
      "text/plain": [
       "<matplotlib.figure.Figure at 0x7f9827bf9d10>"
      ]
     },
     "metadata": {},
     "output_type": "display_data"
    }
   ],
   "source": [
    "withHazel, = plt.plot([x for x in range(len(coefs))], [coef[1] for coef in coefs], ':r.')\n",
    "withoutHazel, = plt.plot([x for x in range(len(no_hazel_coefs))], [coef[1] for coef in no_hazel_coefs], '-bo')\n",
    "\n",
    "plt.legend([withHazel, withoutHazel], [\"With Hazel\", \"Without Hazel\"])\n",
    "plt.title(\"Coefficient Weights (absolute value)\")\n",
    "plt.ylabel(\"Weight (logarithmic)\")\n",
    "plt.yscale('log')\n",
    "plt.savefig(\"Coefficients_desc.png\", dpi=300, transparent=True)\n",
    "plt.show()"
   ]
  }
 ],
 "metadata": {
  "kernelspec": {
   "display_name": "Python 2",
   "language": "python",
   "name": "python2"
  },
  "language_info": {
   "codemirror_mode": {
    "name": "ipython",
    "version": 2
   },
   "file_extension": ".py",
   "mimetype": "text/x-python",
   "name": "python",
   "nbconvert_exporter": "python",
   "pygments_lexer": "ipython2",
   "version": "2.7.13"
  }
 },
 "nbformat": 4,
 "nbformat_minor": 2
}

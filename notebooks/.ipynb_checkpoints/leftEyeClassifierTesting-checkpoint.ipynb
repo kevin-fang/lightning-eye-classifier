{
 "cells": [
  {
   "cell_type": "code",
   "execution_count": 1,
   "metadata": {
    "collapsed": true
   },
   "outputs": [],
   "source": [
    "from sklearn.svm import LinearSVC\n",
    "from sklearn import preprocessing\n",
    "import numpy as np\n",
    "import pandas as pd\n",
    "from sklearn.model_selection import cross_val_score, train_test_split\n",
    "from sklearn.metrics import accuracy_score, confusion_matrix\n",
    "import matplotlib.pyplot as plt\n",
    "%matplotlib inline\n",
    "import collections"
   ]
  },
  {
   "cell_type": "code",
   "execution_count": 2,
   "metadata": {
    "collapsed": true
   },
   "outputs": [],
   "source": [
    "# read names that have provided survey eye color data\n",
    "columns = ['name', 'timestamp', 'id', 'blood_type', 'height', 'weight', 'hw_comments', 'left', 'right', 'left_desc', 'right_desc', 'eye_comments', 'hair', 'hair_desc', 'hair_comments', 'misc', 'handedness']\n",
    "\n",
    "# pgp eye color data from survey\n",
    "surveyData = pd.read_csv(\"../eye_color_data/PGP-Survey.csv\", names=columns, na_values=['nan', '', 'NaN'])\n",
    "\n",
    "# names of the pgp participants\n",
    "surveyNames = np.asarray(surveyData['name'].values.tolist())\n",
    "\n",
    "# load numpy array of tiled PGP data \n",
    "pgp = preprocessing.scale(np.load(\"../hiq-pgp\").astype('double'))"
   ]
  },
  {
   "cell_type": "code",
   "execution_count": 3,
   "metadata": {
    "collapsed": true
   },
   "outputs": [],
   "source": [
    "# load numpy array of names and keep only the huID\n",
    "pgpNames = np.load(\"../names\")\n",
    "pgpNames = map(lambda name: name[:8], pgpNames)\n",
    "\n",
    "# simple lambda function to return if the input is a string\n",
    "isstr = lambda val: isinstance(val, str)"
   ]
  },
  {
   "cell_type": "code",
   "execution_count": 4,
   "metadata": {
    "collapsed": true
   },
   "outputs": [],
   "source": [
    "eye_color = collections.namedtuple(\"EyeColor\", ['left', 'right'])\n",
    "\n",
    "# lookup a name in the survey data and return a tuple of the eye colors\n",
    "def getData(name, surveyData, excludeHazel=False):\n",
    "    for index, row in surveyData.iterrows():\n",
    "        if row['name'] == name:\n",
    "            if not excludeHazel:\n",
    "                return eye_color(row['left'], row['right'])\n",
    "            else:\n",
    "                if isstr(row['left_desc']) and isstr(row['right_desc']):\n",
    "                    if 'azel' in row['left_desc'] or 'azel' in row['right_desc']:\n",
    "                        return None\n",
    "                return eye_color(row['left'], row['right'])"
   ]
  },
  {
   "cell_type": "code",
   "execution_count": 5,
   "metadata": {
    "collapsed": true
   },
   "outputs": [],
   "source": [
    "# list of tuples for index and name with eye color data (idx, name)\n",
    "nameEyeMap = []\n",
    "namePair = collections.namedtuple(\"NamePair\", ['index', 'name'])\n",
    "\n",
    "# dictionary of left and right eye colors with respective name, i.e., {\"huID\": 12}\n",
    "leftEyeMap = {}\n",
    "rightEyeMap = {}\n",
    "\n",
    "existingNames = []\n",
    "\n",
    "# loop through pgpNames and add eye color to maps, making sure not to add the same name twice\n",
    "for i, name in enumerate(pgpNames):\n",
    "    if name in surveyNames and name not in existingNames:\n",
    "        existingNames.append(name)\n",
    "        eyeData = getData(name, surveyData, excludeHazel=False)\n",
    "        if eyeData == None:\n",
    "            pass\n",
    "        elif isstr(eyeData.left) and isstr(eyeData.right):\n",
    "            nameEyeMap.append(namePair(i, name))\n",
    "            leftEyeMap[name] = eyeData.left\n",
    "            rightEyeMap[name] = eyeData.right\n",
    "\n",
    "# create lists containing the known eye color names and the unknown eye colors.\n",
    "nameIndices, correspondingNames = [], []\n",
    "for pair in nameEyeMap:\n",
    "    nameIndices.append(pair.index)\n",
    "    correspondingNames.append(pair.name)\n",
    "knownData = pgp[nameIndices]\n",
    "unknownData = np.delete(pgp, nameIndices, axis=0)"
   ]
  },
  {
   "cell_type": "code",
   "execution_count": 6,
   "metadata": {
    "collapsed": true
   },
   "outputs": [],
   "source": [
    "# convert dictionaries to lists \n",
    "leftEyeList = []\n",
    "rightEyeList = []\n",
    "# nametuple looks like (index, name)\n",
    "for _, name in nameEyeMap:\n",
    "    if isstr(leftEyeMap[name]):\n",
    "        leftEyeList.append(leftEyeMap[name])\n",
    "    if isstr(rightEyeMap[name]):\n",
    "        rightEyeList.append(rightEyeMap[name])\n",
    "\n",
    "blueOrNot = lambda color: 0 if int(color) > 13 else 1\n",
    "leftEyeList = map(blueOrNot, leftEyeList)"
   ]
  },
  {
   "cell_type": "code",
   "execution_count": 7,
   "metadata": {
    "scrolled": false
   },
   "outputs": [
    {
     "data": {
      "image/png": "[encoded data removed]",
      "text/plain": [
       "<matplotlib.figure.Figure at 0x7f907264a410>"
      ]
     },
     "metadata": {},
     "output_type": "display_data"
    }
   ],
   "source": [
    "# create histogram of blue/not blue. TODO: make labels for graph\n",
    "\n",
    "plt.hist(leftEyeList)\n",
    "plt.ylabel(\"Number of Participants\")\n",
    "plt.xlabel(\"Eye Color\")\n",
    "plt.show()"
   ]
  },
  {
   "cell_type": "code",
   "execution_count": 22,
   "metadata": {
    "collapsed": true
   },
   "outputs": [],
   "source": [
    "from sklearn.feature_selection import VarianceThreshold\n",
    "sel = VarianceThreshold(threshold=(.8 * (1 - .8)))\n",
    "\n",
    "X = sel.fit_transform(knownData)"
   ]
  },
  {
   "cell_type": "code",
   "execution_count": 23,
   "metadata": {},
   "outputs": [
    {
     "data": {
      "text/plain": [
       "(78, 1198777)"
      ]
     },
     "execution_count": 23,
     "metadata": {},
     "output_type": "execute_result"
    }
   ],
   "source": [
    "X.shape"
   ]
  },
  {
   "cell_type": "code",
   "execution_count": 24,
   "metadata": {
    "scrolled": false
   },
   "outputs": [
    {
     "name": "stdout",
     "output_type": "stream",
     "text": [
      "[LibLinear][LibLinear][LibLinear][LibLinear][LibLinear][LibLinear][LibLinear][LibLinear][LibLinear][LibLinear]\n",
      "0.884523809524\n",
      "0.0905979409173\n"
     ]
    }
   ],
   "source": [
    "# 10-fold cross validation\n",
    "\n",
    "svc_test = LinearSVC(penalty='l1', class_weight='balanced', dual=False, verbose=1, max_iter=10000)\n",
    "cv_scores = cross_val_score(svc_test, knownData, leftEyeList, cv=10, scoring='accuracy')\n",
    "print\n",
    "print cv_scores.mean()\n",
    "print cv_scores.std()"
   ]
  },
  {
   "cell_type": "code",
   "execution_count": 37,
   "metadata": {
    "scrolled": true
   },
   "outputs": [
    {
     "name": "stdout",
     "output_type": "stream",
     "text": [
      "[LibLinear][LibLinear][LibLinear][LibLinear][LibLinear][LibLinear][LibLinear][LibLinear][LibLinear][LibLinear]c: 0.01 mean: 0.490476190476 std: 0.158865022072\n",
      "[LibLinear][LibLinear][LibLinear][LibLinear][LibLinear][LibLinear][LibLinear][LibLinear][LibLinear][LibLinear]c: 0.0215443469003 mean: 0.490476190476 std: 0.158865022072\n",
      "[LibLinear][LibLinear][LibLinear][LibLinear][LibLinear][LibLinear][LibLinear][LibLinear][LibLinear][LibLinear]c: 0.0464158883361 mean: 0.490476190476 std: 0.158865022072\n",
      "[LibLinear][LibLinear][LibLinear][LibLinear][LibLinear][LibLinear][LibLinear][LibLinear][LibLinear][LibLinear]c: 0.1 mean: 0.488095238095 std: 0.183085794543\n",
      "[LibLinear][LibLinear][LibLinear][LibLinear][LibLinear][LibLinear][LibLinear][LibLinear][LibLinear][LibLinear]c: 0.215443469003 mean: 0.573333333333 std: 0.141824841668\n",
      "[LibLinear][LibLinear][LibLinear][LibLinear][LibLinear][LibLinear][LibLinear][LibLinear][LibLinear][LibLinear]c: 0.464158883361 mean: 0.539047619048 std: 0.141594419353\n",
      "[LibLinear][LibLinear][LibLinear][LibLinear][LibLinear][LibLinear][LibLinear][LibLinear][LibLinear][LibLinear]c: 1.0 mean: 0.481904761905 std: 0.145199838834\n",
      "[LibLinear][LibLinear][LibLinear][LibLinear][LibLinear][LibLinear][LibLinear][LibLinear][LibLinear][LibLinear]c: 2.15443469003 mean: 0.43619047619 std: 0.11584648533\n",
      "[LibLinear][LibLinear][LibLinear][LibLinear][LibLinear][LibLinear][LibLinear][LibLinear][LibLinear][LibLinear]c: 4.64158883361 mean: 0.450476190476 std: 0.137687410932\n",
      "[LibLinear][LibLinear][LibLinear][LibLinear][LibLinear][LibLinear][LibLinear][LibLinear][LibLinear][LibLinear]c: 10.0 mean: 0.515238095238 std: 0.222313133332\n"
     ]
    }
   ],
   "source": [
    "crange = np.logspace(-2, 1, 10).tolist()\n",
    "means = []\n",
    "stds = []\n",
    "for Cval in crange:\n",
    "    svc_test = LinearSVC(penalty='l1', class_weight='balanced', C=Cval, dual=False, verbose=1, max_iter=1000)\n",
    "    cv_score = cross_val_score(svc_test, X, leftEyeList, cv=10, scoring='accuracy')\n",
    "    means.append(cv_score.mean())\n",
    "    stds.append(cv_score.std())\n",
    "    print \"c:\", Cval, \"mean:\", cv_score.mean(), \"std:\", cv_score.std()"
   ]
  },
  {
   "cell_type": "code",
   "execution_count": 79,
   "metadata": {},
   "outputs": [
    {
     "data": {
      "image/png": "[encoded data removed]",
      "text/plain": [
       "<matplotlib.figure.Figure at 0x7fcac88ffc90>"
      ]
     },
     "metadata": {},
     "output_type": "display_data"
    }
   ],
   "source": [
    "lines = plt.errorbar(crange, means, stds, marker='x', linewidth=0, elinewidth=1, capsize=3)\n",
    "plt.xscale(\"log\")\n",
    "plt.title(\"Accuracy vs. C value\")\n",
    "plt.setp(lines, color='r')\n",
    "plt.xlabel(\"C value\")\n",
    "plt.ylabel(\"Accuracy\")\n",
    "    \n",
    "for a,b in zip(crange, means): \n",
    "    plt.text(a +.003, b + .02, np.around(b, decimals=2))\n",
    "\n",
    "plt.tight_layout()\n",
    "plt.gcf().subplots_adjust(right=1.3)\n",
    "plt.show()"
   ]
  },
  {
   "cell_type": "code",
   "execution_count": 8,
   "metadata": {
    "scrolled": true
   },
   "outputs": [
    {
     "name": "stdout",
     "output_type": "stream",
     "text": [
      "[LibLinear]Iteration: 1, correct: True\n",
      "[LibLinear]Iteration: 2, correct: True\n",
      "[LibLinear]Iteration: 3, correct: True\n",
      "[LibLinear]Iteration: 4, correct: True\n",
      "[LibLinear]Iteration: 5, correct: True\n",
      "[LibLinear]Iteration: 6, correct: False\n",
      "Incorrect:  [5]\n",
      "[LibLinear]Iteration: 7, correct: True\n",
      "[LibLinear]Iteration: 8, correct: True\n",
      "[LibLinear]Iteration: 9, correct: True\n",
      "[LibLinear]Iteration: 10, correct: True\n",
      "[LibLinear]Iteration: 11, correct: True\n",
      "[LibLinear]Iteration: 12, correct: True\n",
      "[LibLinear]Iteration: 13, correct: True\n",
      "[LibLinear]Iteration: 14, correct: True\n",
      "[LibLinear]Iteration: 15, correct: True\n",
      "[LibLinear]Iteration: 16, correct: True\n",
      "[LibLinear]Iteration: 17, correct: True\n",
      "[LibLinear]Iteration: 18, correct: True\n",
      "[LibLinear]Iteration: 19, correct: True\n",
      "[LibLinear]Iteration: 20, correct: True\n",
      "[LibLinear]Iteration: 21, correct: True\n",
      "[LibLinear]Iteration: 22, correct: True\n",
      "[LibLinear]Iteration: 23, correct: True\n",
      "[LibLinear]Iteration: 24, correct: True\n",
      "[LibLinear]Iteration: 25, correct: True\n",
      "[LibLinear]Iteration: 26, correct: True\n",
      "[LibLinear]Iteration: 27, correct: True\n",
      "[LibLinear]Iteration: 28, correct: True\n",
      "[LibLinear]Iteration: 29, correct: True\n",
      "[LibLinear]Iteration: 30, correct: True\n",
      "[LibLinear]Iteration: 31, correct: True\n",
      "[LibLinear]Iteration: 32, correct: True\n",
      "[LibLinear]Iteration: 33, correct: True\n",
      "[LibLinear]Iteration: 34, correct: True\n",
      "[LibLinear]Iteration: 35, correct: True\n",
      "[LibLinear]Iteration: 36, correct: True\n",
      "[LibLinear]Iteration: 37, correct: True\n",
      "[LibLinear]Iteration: 38, correct: True\n",
      "[LibLinear]Iteration: 39, correct: True\n",
      "[LibLinear]Iteration: 40, correct: True\n",
      "[LibLinear]Iteration: 41, correct: True\n",
      "[LibLinear]Iteration: 42, correct: True\n",
      "[LibLinear]Iteration: 43, correct: True\n",
      "[LibLinear]Iteration: 44, correct: True\n",
      "[LibLinear]Iteration: 45, correct: True\n",
      "[LibLinear]Iteration: 46, correct: True\n",
      "[LibLinear]Iteration: 47, correct: True\n",
      "[LibLinear]Iteration: 48, correct: True\n",
      "[LibLinear]Iteration: 49, correct: True\n",
      "[LibLinear]Iteration: 50, correct: True\n",
      "[LibLinear]Iteration: 51, correct: True\n",
      "[LibLinear]Iteration: 52, correct: False\n",
      "Incorrect:  [51]\n",
      "[LibLinear]Iteration: 53, correct: True\n",
      "[LibLinear]Iteration: 54, correct: True\n",
      "[LibLinear]Iteration: 55, correct: False\n",
      "Incorrect:  [54]\n",
      "[LibLinear]Iteration: 56, correct: True\n",
      "[LibLinear]Iteration: 57, correct: True\n",
      "[LibLinear]Iteration: 58, correct: True\n",
      "[LibLinear]Iteration: 59, correct: True\n",
      "[LibLinear]Iteration: 60, correct: True\n",
      "[LibLinear]Iteration: 61, correct: True\n"
     ]
    }
   ],
   "source": [
    "# leave one out validation\n",
    "svc_test = LinearSVC(penalty='l1', class_weight='balanced', \n",
    "                     C=.06, dual=False, verbose=1, max_iter=1000)\n",
    "from sklearn.model_selection import LeaveOneOut\n",
    "\n",
    "leftOut = LeaveOneOut()\n",
    "leftEyeList = np.asarray(leftEyeList)\n",
    "scores = []\n",
    "counter = 0\n",
    "predicted = []\n",
    "tested = []\n",
    "for train_index, test_index in leftOut.split(knownData):\n",
    "    X_train, X_test = knownData[train_index], knownData[test_index]\n",
    "    y_train, y_test = leftEyeList[train_index], leftEyeList[test_index]\n",
    "    svc_test.fit(X_train, y_train)\n",
    "    y_pred = svc_test.predict(X_test)\n",
    "    \n",
    "    scores.append(accuracy_score(y_test, y_pred))\n",
    "    predicted.append(y_pred)\n",
    "    tested.append(y_test)\n",
    "    \n",
    "    counter += 1\n",
    "    print \"Iteration: \" + str(counter) + \", correct: \" + str(bool(y_test == y_pred))\n",
    "    if not bool(y_test == y_pred):\n",
    "        print \"Incorrect: \", test_index"
   ]
  },
  {
   "cell_type": "code",
   "execution_count": 10,
   "metadata": {},
   "outputs": [
    {
     "name": "stdout",
     "output_type": "stream",
     "text": [
      "0.950819672131\n",
      "0.216244359972\n"
     ]
    }
   ],
   "source": [
    "scores = np.asarray(scores)\n",
    "print scores.mean()\n",
    "print scores.std()"
   ]
  },
  {
   "cell_type": "code",
   "execution_count": null,
   "metadata": {
    "collapsed": true,
    "scrolled": true
   },
   "outputs": [],
   "source": [
    "svc_test.fit(knownData, leftEyeList)"
   ]
  },
  {
   "cell_type": "code",
   "execution_count": null,
   "metadata": {
    "collapsed": true
   },
   "outputs": [],
   "source": [
    "print svc_test.predict([pgp[0]])"
   ]
  },
  {
   "cell_type": "code",
   "execution_count": null,
   "metadata": {
    "collapsed": true
   },
   "outputs": [],
   "source": [
    "# print results of leave one out validation\n",
    "print np.mean(np.asarray(scores))\n",
    "import collections\n",
    "print collections.Counter(scores)"
   ]
  },
  {
   "cell_type": "code",
   "execution_count": null,
   "metadata": {
    "collapsed": true
   },
   "outputs": [],
   "source": [
    "# determining of the eye color can be solely determined by the tile at position 1792420. \n",
    "# While it is more accurate than the classifier \n",
    "guesses = []\n",
    "for val in range(len(knownData)):\n",
    "    one_hot = ['not blue', 'blue']\n",
    "    tile = knownData[val][1792420]\n",
    "    if tile < 0: # not blue\n",
    "        guesses.append(0)\n",
    "    else: # blue\n",
    "        guesses.append(1)\n",
    "print accuracy_score(leftEyeList, guesses)"
   ]
  },
  {
   "cell_type": "code",
   "execution_count": null,
   "metadata": {
    "collapsed": true
   },
   "outputs": [],
   "source": [
    "svc_test.fit(knownDataFiltered, leftEyeListFiltered)\n",
    "\n",
    "# retrieve all the nonzero coefficients and zip them with their respective indices\n",
    "nonzeroes = np.nonzero(svc_test.coef_[0])[0]\n",
    "coefs = zip(nonzeroes, svc_test.coef_[0][nonzeroes])\n",
    "\n",
    "# sort the coefficients by their value, instead of index\n",
    "coefs.sort(key = lambda x: x[1], reverse=True)\n",
    "\n",
    "for coef in coefs:\n",
    "    print coef"
   ]
  },
  {
   "cell_type": "code",
   "execution_count": null,
   "metadata": {
    "collapsed": true
   },
   "outputs": [],
   "source": [
    "corrNames = np.asarray(corrNames)\n",
    "\n",
    "print corrNames[62]"
   ]
  },
  {
   "cell_type": "code",
   "execution_count": null,
   "metadata": {
    "collapsed": true
   },
   "outputs": [],
   "source": [
    "svc_test.fit(knownDataFiltered, leftEyeListFiltered)"
   ]
  },
  {
   "cell_type": "code",
   "execution_count": null,
   "metadata": {
    "collapsed": true
   },
   "outputs": [],
   "source": [
    "print svc_test.predict(knownData[incorrTiles])\n",
    "print leftEyeList[incorrTiles]"
   ]
  },
  {
   "cell_type": "code",
   "execution_count": 115,
   "metadata": {},
   "outputs": [
    {
     "data": {
      "image/png": "[encoded data removed]",
      "text/plain": [
       "<matplotlib.figure.Figure at 0x7fc9c3ca7f90>"
      ]
     },
     "metadata": {},
     "output_type": "display_data"
    }
   ],
   "source": [
    "# create confusion matrix - code taken from Sarah's blood type prediction\n",
    "cnf_matrix = confusion_matrix(predicted, tested)\n",
    "plt.imshow(cnf_matrix, interpolation='nearest', cmap=plt.cm.Blues)\n",
    "plt.ylabel('True Eye Color')\n",
    "plt.xlabel('Predicted Eye Color')\n",
    "\n",
    "classes = ['Blue','Not Blue']\n",
    "plt.title(\"LeaveOneOut Cross Validation, All Data\")\n",
    "plt.grid('off')\n",
    "plt.colorbar()\n",
    "tick_marks = np.arange(len(classes))\n",
    "plt.xticks(tick_marks, classes, rotation=45)\n",
    "plt.yticks(tick_marks, classes)\n",
    "\n",
    "for i in range(cnf_matrix.shape[0]):\n",
    "    for j in range(cnf_matrix.shape[1]):\n",
    "        plt.text(j, i, cnf_matrix[i, j],\n",
    "                 horizontalalignment=\"center\",\n",
    "                 fontsize=16,\n",
    "                 color= \"orangered\")\n",
    "\n",
    "plt.gcf().subplots_adjust(left=0.25, bottom = 0.35)\n",
    "plt.tight_layout()\n",
    "plt.savefig('Blue_Confusion_All_Data.png',format='png',dpi=900)"
   ]
  },
  {
   "cell_type": "code",
   "execution_count": null,
   "metadata": {
    "collapsed": true
   },
   "outputs": [],
   "source": []
  }
 ],
 "metadata": {
  "kernelspec": {
   "display_name": "Python 2",
   "language": "python",
   "name": "python2"
  },
  "language_info": {
   "codemirror_mode": {
    "name": "ipython",
    "version": 2
   },
   "file_extension": ".py",
   "mimetype": "text/x-python",
   "name": "python",
   "nbconvert_exporter": "python",
   "pygments_lexer": "ipython2",
   "version": "2.7.13"
  }
 },
 "nbformat": 4,
 "nbformat_minor": 2
}

{
 "cells": [
  {
   "cell_type": "code",
   "execution_count": 13,
   "metadata": {
    "collapsed": true
   },
   "outputs": [],
   "source": [
    "from sklearn.svm import LinearSVC\n",
    "from sklearn import preprocessing\n",
    "import numpy as np\n",
    "import pandas as pd\n",
    "from sklearn.model_selection import cross_val_score, train_test_split\n",
    "from sklearn.metrics import accuracy_score, confusion_matrix\n",
    "import matplotlib.pyplot as plt\n",
    "%matplotlib inline\n",
    "import collections\n",
    "import seaborn\n",
    "seaborn.set()"
   ]
  },
  {
   "cell_type": "code",
   "execution_count": 14,
   "metadata": {
    "collapsed": true
   },
   "outputs": [],
   "source": [
    "excludeHazel = False\n",
    "fileName = 'svc.pkl'"
   ]
  },
  {
   "cell_type": "code",
   "execution_count": 15,
   "metadata": {
    "collapsed": true
   },
   "outputs": [],
   "source": [
    "# read names that have provided survey eye color data\n",
    "columns = ['name', 'timestamp', 'id', 'blood_type', 'height', 'weight', 'hw_comments', 'left', 'right', 'left_desc', 'right_desc', 'eye_comments', 'hair', 'hair_desc', 'hair_comments', 'misc', 'handedness']\n",
    "\n",
    "# pgp eye color data from survey\n",
    "surveyData = pd.read_csv(\"../eye_color_data/PGP-Survey.csv\", names=columns, na_values=['nan', '', 'NaN'])\n",
    "\n",
    "# names of the pgp participants\n",
    "surveyNames = np.asarray(surveyData['name'].values.tolist())\n",
    "\n",
    "# load numpy array of tiled PGP data \n",
    "pgp = preprocessing.scale(np.load(\"../hiq-pgp\").astype('double'))"
   ]
  },
  {
   "cell_type": "code",
   "execution_count": 16,
   "metadata": {
    "collapsed": true
   },
   "outputs": [],
   "source": [
    "# load numpy array of names and keep only the huID\n",
    "pgpNames = np.load(\"../names\")\n",
    "pgpNames = map(lambda name: name[:8], pgpNames)\n",
    "\n",
    "# simple lambda function to return if the input is a string\n",
    "isstr = lambda val: isinstance(val, str)"
   ]
  },
  {
   "cell_type": "code",
   "execution_count": 17,
   "metadata": {
    "collapsed": true
   },
   "outputs": [],
   "source": [
    "eye_color = collections.namedtuple(\"EyeColor\", ['left', 'right'])\n",
    "\n",
    "# lookup a name in the survey data and return a tuple of the eye colors\n",
    "def getData(name, surveyData, excludeHazel=False):\n",
    "    for index, row in surveyData.iterrows():\n",
    "        if row['name'] == name:\n",
    "            if not excludeHazel:\n",
    "                return eye_color(row['left'], row['right'])\n",
    "            else:\n",
    "                if isstr(row['left_desc']) and isstr(row['right_desc']):\n",
    "                    if 'azel' in row['left_desc'] or 'azel' in row['right_desc']:\n",
    "                        return None\n",
    "                return eye_color(row['left'], row['right'])"
   ]
  },
  {
   "cell_type": "code",
   "execution_count": 18,
   "metadata": {
    "collapsed": true
   },
   "outputs": [],
   "source": [
    "# list of tuples for index and name with eye color data (idx, name)\n",
    "nameEyeMap = []\n",
    "namePair = collections.namedtuple(\"NamePair\", ['index', 'name'])\n",
    "\n",
    "# dictionary of left and right eye colors with respective name, i.e., {\"huID\": 12}\n",
    "leftEyeMap = {}\n",
    "rightEyeMap = {}\n",
    "\n",
    "existingNames = []\n",
    "\n",
    "# loop through pgpNames and add eye color to maps, making sure not to add the same name twice\n",
    "for i, name in enumerate(pgpNames):\n",
    "    if name in surveyNames and name not in existingNames:\n",
    "        existingNames.append(name)\n",
    "        # change `excludeHazel=True` to include hazel in the training/testing data.\n",
    "        eyeData = getData(name, surveyData, excludeHazel=excludeHazel)\n",
    "        if eyeData == None:\n",
    "            pass\n",
    "        elif isstr(eyeData.left) and isstr(eyeData.right):\n",
    "            nameEyeMap.append(namePair(i, name))\n",
    "            leftEyeMap[name] = eyeData.left\n",
    "            rightEyeMap[name] = eyeData.right\n",
    "\n",
    "# create lists containing the known eye color names and the unknown eye colors.\n",
    "nameIndices, correspondingNames = [], []\n",
    "for pair in nameEyeMap:\n",
    "    nameIndices.append(pair.index)\n",
    "    correspondingNames.append(pair.name)\n",
    "knownData = pgp[nameIndices]\n",
    "unknownData = np.delete(pgp, nameIndices, axis=0)"
   ]
  },
  {
   "cell_type": "code",
   "execution_count": 19,
   "metadata": {
    "collapsed": true
   },
   "outputs": [],
   "source": [
    "# convert dictionaries to lists \n",
    "leftEyeList = []\n",
    "rightEyeList = []\n",
    "# nametuple looks like (index, name)\n",
    "for _, name in nameEyeMap:\n",
    "    if isstr(leftEyeMap[name]):\n",
    "        leftEyeList.append(leftEyeMap[name])\n",
    "    if isstr(rightEyeMap[name]):\n",
    "        rightEyeList.append(rightEyeMap[name])\n",
    "\n",
    "blueOrNot = lambda color: 0 if int(color) > 13 else 1\n",
    "leftEyeList = map(blueOrNot, leftEyeList)"
   ]
  },
  {
   "cell_type": "code",
   "execution_count": 20,
   "metadata": {
    "collapsed": true,
    "scrolled": false
   },
   "outputs": [],
   "source": [
    "items = collections.Counter(leftEyeList).items()"
   ]
  },
  {
   "cell_type": "code",
   "execution_count": 21,
   "metadata": {},
   "outputs": [
    {
     "data": {
      "image/png": "[encoded data removed]",
      "text/plain": [
       "<matplotlib.figure.Figure at 0x7fc1268e33d0>"
      ]
     },
     "metadata": {},
     "output_type": "display_data"
    }
   ],
   "source": [
    "# create histogram of blue/not blue. TODO: make labels for graph\n",
    "barlist = plt.bar([item[0] for item in items], [item[1] for item in items], .5)\n",
    "barlist[0].set_color('#905a5a')\n",
    "barlist[1].set_color('skyblue')\n",
    "plt.title(\"Blue vs. Non-Blue Eye Color\")\n",
    "plt.xticks([0, 1], [\"Not Blue\", \"Blue\"])\n",
    "plt.ylabel(\"Number of Participants\")\n",
    "plt.xlabel(\"Eye Color\")\n",
    "plt.show()"
   ]
  },
  {
   "cell_type": "code",
   "execution_count": 22,
   "metadata": {},
   "outputs": [
    {
     "name": "stdout",
     "output_type": "stream",
     "text": [
      "[LibLinear]"
     ]
    },
    {
     "data": {
      "text/plain": [
       "LinearSVC(C=0.06, class_weight='balanced', dual=False, fit_intercept=True,\n",
       "     intercept_scaling=1, loss='squared_hinge', max_iter=2500,\n",
       "     multi_class='ovr', penalty='l1', random_state=None, tol=0.0001,\n",
       "     verbose=1)"
      ]
     },
     "execution_count": 22,
     "metadata": {},
     "output_type": "execute_result"
    }
   ],
   "source": [
    "# dump the classifier for analysis\n",
    "from sklearn.externals import joblib\n",
    "svc_test = LinearSVC(penalty='l1', class_weight='balanced', \n",
    "                     C=.06, dual=False, verbose=1, max_iter=2500)\n",
    "svc_test.fit(knownData, leftEyeList)"
   ]
  },
  {
   "cell_type": "code",
   "execution_count": 23,
   "metadata": {},
   "outputs": [
    {
     "data": {
      "text/plain": [
       "['svc.pkl']"
      ]
     },
     "execution_count": 23,
     "metadata": {},
     "output_type": "execute_result"
    }
   ],
   "source": [
    "joblib.dump(svc_test, fileName)"
   ]
  },
  {
   "cell_type": "code",
   "execution_count": 24,
   "metadata": {},
   "outputs": [
    {
     "data": {
      "text/plain": [
       "Counter({0: 109, 1: 109})"
      ]
     },
     "execution_count": 24,
     "metadata": {},
     "output_type": "execute_result"
    }
   ],
   "source": [
    "collections.Counter(svc_test.predict(pgp))"
   ]
  },
  {
   "cell_type": "code",
   "execution_count": null,
   "metadata": {
    "collapsed": true
   },
   "outputs": [],
   "source": []
  }
 ],
 "metadata": {
  "kernelspec": {
   "display_name": "Python 2",
   "language": "python",
   "name": "python2"
  },
  "language_info": {
   "codemirror_mode": {
    "name": "ipython",
    "version": 2
   },
   "file_extension": ".py",
   "mimetype": "text/x-python",
   "name": "python",
   "nbconvert_exporter": "python",
   "pygments_lexer": "ipython2",
   "version": "2.7.12"
  }
 },
 "nbformat": 4,
 "nbformat_minor": 2
}
